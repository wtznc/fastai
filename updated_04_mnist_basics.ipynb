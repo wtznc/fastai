{
 "cells": [
  {
   "cell_type": "code",
   "execution_count": 9,
   "metadata": {},
   "outputs": [],
   "source": [
    "! [ -e /content ] && pip install -Uqq fastbook\n",
    "import fastbook\n",
    "fastbook.setup_book()"
   ]
  },
  {
   "cell_type": "code",
   "execution_count": 10,
   "metadata": {},
   "outputs": [],
   "source": [
    "from fastai.vision.all import *\n",
    "from fastbook import *"
   ]
  },
  {
   "cell_type": "code",
   "execution_count": 13,
   "metadata": {},
   "outputs": [],
   "source": [
    "path = untar_data(URLs.MNIST_SAMPLE)"
   ]
  },
  {
   "cell_type": "code",
   "execution_count": 14,
   "metadata": {},
   "outputs": [],
   "source": [
    "Path.BASE_PATH = path"
   ]
  },
  {
   "cell_type": "code",
   "execution_count": 15,
   "metadata": {},
   "outputs": [
    {
     "data": {
      "text/plain": [
       "(#3) [Path('train'),Path('labels.csv'),Path('valid')]"
      ]
     },
     "execution_count": 15,
     "metadata": {},
     "output_type": "execute_result"
    }
   ],
   "source": [
    "path.ls()"
   ]
  },
  {
   "cell_type": "code",
   "execution_count": 16,
   "metadata": {},
   "outputs": [
    {
     "data": {
      "text/plain": [
       "(#2) [Path('train/3'),Path('train/7')]"
      ]
     },
     "execution_count": 16,
     "metadata": {},
     "output_type": "execute_result"
    }
   ],
   "source": [
    "(path/'train').ls()"
   ]
  },
  {
   "cell_type": "code",
   "execution_count": 19,
   "metadata": {},
   "outputs": [
    {
     "data": {
      "text/plain": [
       "(#6131) [Path('train/3/10.png'),Path('train/3/10000.png'),Path('train/3/10011.png'),Path('train/3/10031.png'),Path('train/3/10034.png'),Path('train/3/10042.png'),Path('train/3/10052.png'),Path('train/3/1007.png'),Path('train/3/10074.png'),Path('train/3/10091.png')...]"
      ]
     },
     "execution_count": 19,
     "metadata": {},
     "output_type": "execute_result"
    }
   ],
   "source": [
    "threes = (path/'train'/'3').ls().sorted()\n",
    "sevens = (path/'train'/'7').ls().sorted()\n",
    "threes"
   ]
  },
  {
   "cell_type": "code",
   "execution_count": 20,
   "metadata": {},
   "outputs": [
    {
     "data": {
      "image/png": "[encoded data removed]",
      "text/plain": [
       "<PIL.PngImagePlugin.PngImageFile image mode=L size=28x28 at 0x7F9FC86E9E90>"
      ]
     },
     "execution_count": 20,
     "metadata": {},
     "output_type": "execute_result"
    }
   ],
   "source": [
    "im3_path = threes[1]\n",
    "im3 = Image.open(im3_path)\n",
    "im3"
   ]
  },
  {
   "cell_type": "code",
   "execution_count": 21,
   "metadata": {},
   "outputs": [
    {
     "data": {
      "text/plain": [
       "tensor([[  0,   0,   0,   0,   0,   0],\n",
       "        [  0,   0,   0,   0,   0,  29],\n",
       "        [  0,   0,   0,  48, 166, 224],\n",
       "        [  0,  93, 244, 249, 253, 187],\n",
       "        [  0, 107, 253, 253, 230,  48],\n",
       "        [  0,   3,  20,  20,  15,   0]], dtype=torch.uint8)"
      ]
     },
     "execution_count": 21,
     "metadata": {},
     "output_type": "execute_result"
    }
   ],
   "source": [
    "array(im3)[4:10, 4:10]\n",
    "tensor(im3)[4:10, 4:10]"
   ]
  },
  {
   "cell_type": "code",
   "execution_count": 22,
   "metadata": {},
   "outputs": [
    {
     "data": {
      "text/html": [
       "<style type=\"text/css\">\n",
       "#T_965fd_row0_col0, #T_965fd_row0_col1, #T_965fd_row0_col2, #T_965fd_row0_col3, #T_965fd_row0_col4, #T_965fd_row0_col5, #T_965fd_row0_col6, #T_965fd_row0_col7, #T_965fd_row0_col8, #T_965fd_row0_col9, #T_965fd_row0_col10, #T_965fd_row0_col11, #T_965fd_row0_col12, #T_965fd_row0_col13, #T_965fd_row0_col14, #T_965fd_row0_col15, #T_965fd_row0_col16, #T_965fd_row0_col17, #T_965fd_row1_col0, #T_965fd_row1_col1, #T_965fd_row1_col2, #T_965fd_row1_col3, #T_965fd_row1_col4, #T_965fd_row1_col15, #T_965fd_row1_col16, #T_965fd_row1_col17, #T_965fd_row2_col0, #T_965fd_row2_col1, #T_965fd_row2_col2, #T_965fd_row2_col15, #T_965fd_row2_col16, #T_965fd_row2_col17, #T_965fd_row3_col0, #T_965fd_row3_col15, #T_965fd_row3_col16, #T_965fd_row3_col17, #T_965fd_row4_col0, #T_965fd_row4_col6, #T_965fd_row4_col7, #T_965fd_row4_col8, #T_965fd_row4_col9, #T_965fd_row4_col10, #T_965fd_row4_col15, #T_965fd_row4_col16, #T_965fd_row4_col17, #T_965fd_row5_col0, #T_965fd_row5_col5, #T_965fd_row5_col6, #T_965fd_row5_col7, #T_965fd_row5_col8, #T_965fd_row5_col9, #T_965fd_row5_col15, #T_965fd_row5_col16, #T_965fd_row5_col17, #T_965fd_row6_col0, #T_965fd_row6_col1, #T_965fd_row6_col2, #T_965fd_row6_col3, #T_965fd_row6_col4, #T_965fd_row6_col5, #T_965fd_row6_col6, #T_965fd_row6_col7, #T_965fd_row6_col8, #T_965fd_row6_col9, #T_965fd_row6_col14, #T_965fd_row6_col15, #T_965fd_row6_col16, #T_965fd_row6_col17, #T_965fd_row7_col0, #T_965fd_row7_col1, #T_965fd_row7_col2, #T_965fd_row7_col3, #T_965fd_row7_col4, #T_965fd_row7_col5, #T_965fd_row7_col6, #T_965fd_row7_col13, #T_965fd_row7_col14, #T_965fd_row7_col15, #T_965fd_row7_col16, #T_965fd_row7_col17, #T_965fd_row8_col0, #T_965fd_row8_col1, #T_965fd_row8_col2, #T_965fd_row8_col3, #T_965fd_row8_col4, #T_965fd_row8_col13, #T_965fd_row8_col14, #T_965fd_row8_col15, #T_965fd_row8_col16, #T_965fd_row8_col17, #T_965fd_row9_col0, #T_965fd_row9_col1, #T_965fd_row9_col2, #T_965fd_row9_col3, #T_965fd_row9_col4, #T_965fd_row9_col16, #T_965fd_row9_col17, #T_965fd_row10_col0, #T_965fd_row10_col1, #T_965fd_row10_col2, #T_965fd_row10_col3, #T_965fd_row10_col4, #T_965fd_row10_col5, #T_965fd_row10_col6, #T_965fd_row10_col17 {\n",
       "  font-size: 6pt;\n",
       "  background-color: #ffffff;\n",
       "  color: #000000;\n",
       "}\n",
       "#T_965fd_row1_col5 {\n",
       "  font-size: 6pt;\n",
       "  background-color: #efefef;\n",
       "  color: #000000;\n",
       "}\n",
       "#T_965fd_row1_col6, #T_965fd_row1_col13 {\n",
       "  font-size: 6pt;\n",
       "  background-color: #7c7c7c;\n",
       "  color: #f1f1f1;\n",
       "}\n",
       "#T_965fd_row1_col7 {\n",
       "  font-size: 6pt;\n",
       "  background-color: #4a4a4a;\n",
       "  color: #f1f1f1;\n",
       "}\n",
       "#T_965fd_row1_col8, #T_965fd_row1_col9, #T_965fd_row1_col10, #T_965fd_row2_col5, #T_965fd_row2_col6, #T_965fd_row2_col7, #T_965fd_row2_col11, #T_965fd_row2_col12, #T_965fd_row2_col13, #T_965fd_row3_col4, #T_965fd_row3_col12, #T_965fd_row3_col13, #T_965fd_row4_col1, #T_965fd_row4_col2, #T_965fd_row4_col3, #T_965fd_row4_col12, #T_965fd_row4_col13, #T_965fd_row5_col12, #T_965fd_row6_col11, #T_965fd_row9_col11, #T_965fd_row10_col11, #T_965fd_row10_col12, #T_965fd_row10_col13, #T_965fd_row10_col14, #T_965fd_row10_col15, #T_965fd_row10_col16 {\n",
       "  font-size: 6pt;\n",
       "  background-color: #000000;\n",
       "  color: #f1f1f1;\n",
       "}\n",
       "#T_965fd_row1_col11 {\n",
       "  font-size: 6pt;\n",
       "  background-color: #606060;\n",
       "  color: #f1f1f1;\n",
       "}\n",
       "#T_965fd_row1_col12 {\n",
       "  font-size: 6pt;\n",
       "  background-color: #4d4d4d;\n",
       "  color: #f1f1f1;\n",
       "}\n",
       "#T_965fd_row1_col14 {\n",
       "  font-size: 6pt;\n",
       "  background-color: #bbbbbb;\n",
       "  color: #000000;\n",
       "}\n",
       "#T_965fd_row2_col3 {\n",
       "  font-size: 6pt;\n",
       "  background-color: #e4e4e4;\n",
       "  color: #000000;\n",
       "}\n",
       "#T_965fd_row2_col4, #T_965fd_row8_col6 {\n",
       "  font-size: 6pt;\n",
       "  background-color: #6b6b6b;\n",
       "  color: #f1f1f1;\n",
       "}\n",
       "#T_965fd_row2_col8, #T_965fd_row2_col14, #T_965fd_row3_col14 {\n",
       "  font-size: 6pt;\n",
       "  background-color: #171717;\n",
       "  color: #f1f1f1;\n",
       "}\n",
       "#T_965fd_row2_col9, #T_965fd_row3_col11 {\n",
       "  font-size: 6pt;\n",
       "  background-color: #4b4b4b;\n",
       "  color: #f1f1f1;\n",
       "}\n",
       "#T_965fd_row2_col10, #T_965fd_row7_col10, #T_965fd_row8_col8, #T_965fd_row8_col10, #T_965fd_row9_col8, #T_965fd_row9_col10 {\n",
       "  font-size: 6pt;\n",
       "  background-color: #010101;\n",
       "  color: #f1f1f1;\n",
       "}\n",
       "#T_965fd_row3_col1 {\n",
       "  font-size: 6pt;\n",
       "  background-color: #272727;\n",
       "  color: #f1f1f1;\n",
       "}\n",
       "#T_965fd_row3_col2 {\n",
       "  font-size: 6pt;\n",
       "  background-color: #0a0a0a;\n",
       "  color: #f1f1f1;\n",
       "}\n",
       "#T_965fd_row3_col3 {\n",
       "  font-size: 6pt;\n",
       "  background-color: #050505;\n",
       "  color: #f1f1f1;\n",
       "}\n",
       "#T_965fd_row3_col5 {\n",
       "  font-size: 6pt;\n",
       "  background-color: #333333;\n",
       "  color: #f1f1f1;\n",
       "}\n",
       "#T_965fd_row3_col6 {\n",
       "  font-size: 6pt;\n",
       "  background-color: #e6e6e6;\n",
       "  color: #000000;\n",
       "}\n",
       "#T_965fd_row3_col7, #T_965fd_row3_col10 {\n",
       "  font-size: 6pt;\n",
       "  background-color: #fafafa;\n",
       "  color: #000000;\n",
       "}\n",
       "#T_965fd_row3_col8 {\n",
       "  font-size: 6pt;\n",
       "  background-color: #fbfbfb;\n",
       "  color: #000000;\n",
       "}\n",
       "#T_965fd_row3_col9 {\n",
       "  font-size: 6pt;\n",
       "  background-color: #fdfdfd;\n",
       "  color: #000000;\n",
       "}\n",
       "#T_965fd_row4_col4 {\n",
       "  font-size: 6pt;\n",
       "  background-color: #1b1b1b;\n",
       "  color: #f1f1f1;\n",
       "}\n",
       "#T_965fd_row4_col5 {\n",
       "  font-size: 6pt;\n",
       "  background-color: #e0e0e0;\n",
       "  color: #000000;\n",
       "}\n",
       "#T_965fd_row4_col11 {\n",
       "  font-size: 6pt;\n",
       "  background-color: #4e4e4e;\n",
       "  color: #f1f1f1;\n",
       "}\n",
       "#T_965fd_row4_col14 {\n",
       "  font-size: 6pt;\n",
       "  background-color: #767676;\n",
       "  color: #f1f1f1;\n",
       "}\n",
       "#T_965fd_row5_col1 {\n",
       "  font-size: 6pt;\n",
       "  background-color: #fcfcfc;\n",
       "  color: #000000;\n",
       "}\n",
       "#T_965fd_row5_col2, #T_965fd_row5_col3 {\n",
       "  font-size: 6pt;\n",
       "  background-color: #f6f6f6;\n",
       "  color: #000000;\n",
       "}\n",
       "#T_965fd_row5_col4, #T_965fd_row7_col7 {\n",
       "  font-size: 6pt;\n",
       "  background-color: #f8f8f8;\n",
       "  color: #000000;\n",
       "}\n",
       "#T_965fd_row5_col10, #T_965fd_row10_col7 {\n",
       "  font-size: 6pt;\n",
       "  background-color: #e8e8e8;\n",
       "  color: #000000;\n",
       "}\n",
       "#T_965fd_row5_col11 {\n",
       "  font-size: 6pt;\n",
       "  background-color: #222222;\n",
       "  color: #f1f1f1;\n",
       "}\n",
       "#T_965fd_row5_col13, #T_965fd_row6_col12 {\n",
       "  font-size: 6pt;\n",
       "  background-color: #090909;\n",
       "  color: #f1f1f1;\n",
       "}\n",
       "#T_965fd_row5_col14 {\n",
       "  font-size: 6pt;\n",
       "  background-color: #d0d0d0;\n",
       "  color: #000000;\n",
       "}\n",
       "#T_965fd_row6_col10, #T_965fd_row7_col11, #T_965fd_row9_col6 {\n",
       "  font-size: 6pt;\n",
       "  background-color: #060606;\n",
       "  color: #f1f1f1;\n",
       "}\n",
       "#T_965fd_row6_col13 {\n",
       "  font-size: 6pt;\n",
       "  background-color: #979797;\n",
       "  color: #f1f1f1;\n",
       "}\n",
       "#T_965fd_row7_col8 {\n",
       "  font-size: 6pt;\n",
       "  background-color: #b6b6b6;\n",
       "  color: #000000;\n",
       "}\n",
       "#T_965fd_row7_col9 {\n",
       "  font-size: 6pt;\n",
       "  background-color: #252525;\n",
       "  color: #f1f1f1;\n",
       "}\n",
       "#T_965fd_row7_col12 {\n",
       "  font-size: 6pt;\n",
       "  background-color: #999999;\n",
       "  color: #f1f1f1;\n",
       "}\n",
       "#T_965fd_row8_col5 {\n",
       "  font-size: 6pt;\n",
       "  background-color: #f9f9f9;\n",
       "  color: #000000;\n",
       "}\n",
       "#T_965fd_row8_col7 {\n",
       "  font-size: 6pt;\n",
       "  background-color: #101010;\n",
       "  color: #f1f1f1;\n",
       "}\n",
       "#T_965fd_row8_col9, #T_965fd_row9_col9 {\n",
       "  font-size: 6pt;\n",
       "  background-color: #020202;\n",
       "  color: #f1f1f1;\n",
       "}\n",
       "#T_965fd_row8_col11 {\n",
       "  font-size: 6pt;\n",
       "  background-color: #545454;\n",
       "  color: #f1f1f1;\n",
       "}\n",
       "#T_965fd_row8_col12 {\n",
       "  font-size: 6pt;\n",
       "  background-color: #f1f1f1;\n",
       "  color: #000000;\n",
       "}\n",
       "#T_965fd_row9_col5 {\n",
       "  font-size: 6pt;\n",
       "  background-color: #f7f7f7;\n",
       "  color: #000000;\n",
       "}\n",
       "#T_965fd_row9_col7 {\n",
       "  font-size: 6pt;\n",
       "  background-color: #030303;\n",
       "  color: #f1f1f1;\n",
       "}\n",
       "#T_965fd_row9_col12 {\n",
       "  font-size: 6pt;\n",
       "  background-color: #181818;\n",
       "  color: #f1f1f1;\n",
       "}\n",
       "#T_965fd_row9_col13 {\n",
       "  font-size: 6pt;\n",
       "  background-color: #303030;\n",
       "  color: #f1f1f1;\n",
       "}\n",
       "#T_965fd_row9_col14 {\n",
       "  font-size: 6pt;\n",
       "  background-color: #a9a9a9;\n",
       "  color: #f1f1f1;\n",
       "}\n",
       "#T_965fd_row9_col15 {\n",
       "  font-size: 6pt;\n",
       "  background-color: #fefefe;\n",
       "  color: #000000;\n",
       "}\n",
       "#T_965fd_row10_col8, #T_965fd_row10_col9 {\n",
       "  font-size: 6pt;\n",
       "  background-color: #bababa;\n",
       "  color: #000000;\n",
       "}\n",
       "#T_965fd_row10_col10 {\n",
       "  font-size: 6pt;\n",
       "  background-color: #393939;\n",
       "  color: #f1f1f1;\n",
       "}\n",
       "</style>\n",
       "<table id=\"T_965fd_\">\n",
       "  <thead>\n",
       "    <tr>\n",
       "      <th class=\"blank level0\" >&nbsp;</th>\n",
       "      <th class=\"col_heading level0 col0\" >0</th>\n",
       "      <th class=\"col_heading level0 col1\" >1</th>\n",
       "      <th class=\"col_heading level0 col2\" >2</th>\n",
       "      <th class=\"col_heading level0 col3\" >3</th>\n",
       "      <th class=\"col_heading level0 col4\" >4</th>\n",
       "      <th class=\"col_heading level0 col5\" >5</th>\n",
       "      <th class=\"col_heading level0 col6\" >6</th>\n",
       "      <th class=\"col_heading level0 col7\" >7</th>\n",
       "      <th class=\"col_heading level0 col8\" >8</th>\n",
       "      <th class=\"col_heading level0 col9\" >9</th>\n",
       "      <th class=\"col_heading level0 col10\" >10</th>\n",
       "      <th class=\"col_heading level0 col11\" >11</th>\n",
       "      <th class=\"col_heading level0 col12\" >12</th>\n",
       "      <th class=\"col_heading level0 col13\" >13</th>\n",
       "      <th class=\"col_heading level0 col14\" >14</th>\n",
       "      <th class=\"col_heading level0 col15\" >15</th>\n",
       "      <th class=\"col_heading level0 col16\" >16</th>\n",
       "      <th class=\"col_heading level0 col17\" >17</th>\n",
       "    </tr>\n",
       "  </thead>\n",
       "  <tbody>\n",
       "    <tr>\n",
       "      <th id=\"T_965fd_level0_row0\" class=\"row_heading level0 row0\" >0</th>\n",
       "      <td id=\"T_965fd_row0_col0\" class=\"data row0 col0\" >0</td>\n",
       "      <td id=\"T_965fd_row0_col1\" class=\"data row0 col1\" >0</td>\n",
       "      <td id=\"T_965fd_row0_col2\" class=\"data row0 col2\" >0</td>\n",
       "      <td id=\"T_965fd_row0_col3\" class=\"data row0 col3\" >0</td>\n",
       "      <td id=\"T_965fd_row0_col4\" class=\"data row0 col4\" >0</td>\n",
       "      <td id=\"T_965fd_row0_col5\" class=\"data row0 col5\" >0</td>\n",
       "      <td id=\"T_965fd_row0_col6\" class=\"data row0 col6\" >0</td>\n",
       "      <td id=\"T_965fd_row0_col7\" class=\"data row0 col7\" >0</td>\n",
       "      <td id=\"T_965fd_row0_col8\" class=\"data row0 col8\" >0</td>\n",
       "      <td id=\"T_965fd_row0_col9\" class=\"data row0 col9\" >0</td>\n",
       "      <td id=\"T_965fd_row0_col10\" class=\"data row0 col10\" >0</td>\n",
       "      <td id=\"T_965fd_row0_col11\" class=\"data row0 col11\" >0</td>\n",
       "      <td id=\"T_965fd_row0_col12\" class=\"data row0 col12\" >0</td>\n",
       "      <td id=\"T_965fd_row0_col13\" class=\"data row0 col13\" >0</td>\n",
       "      <td id=\"T_965fd_row0_col14\" class=\"data row0 col14\" >0</td>\n",
       "      <td id=\"T_965fd_row0_col15\" class=\"data row0 col15\" >0</td>\n",
       "      <td id=\"T_965fd_row0_col16\" class=\"data row0 col16\" >0</td>\n",
       "      <td id=\"T_965fd_row0_col17\" class=\"data row0 col17\" >0</td>\n",
       "    </tr>\n",
       "    <tr>\n",
       "      <th id=\"T_965fd_level0_row1\" class=\"row_heading level0 row1\" >1</th>\n",
       "      <td id=\"T_965fd_row1_col0\" class=\"data row1 col0\" >0</td>\n",
       "      <td id=\"T_965fd_row1_col1\" class=\"data row1 col1\" >0</td>\n",
       "      <td id=\"T_965fd_row1_col2\" class=\"data row1 col2\" >0</td>\n",
       "      <td id=\"T_965fd_row1_col3\" class=\"data row1 col3\" >0</td>\n",
       "      <td id=\"T_965fd_row1_col4\" class=\"data row1 col4\" >0</td>\n",
       "      <td id=\"T_965fd_row1_col5\" class=\"data row1 col5\" >29</td>\n",
       "      <td id=\"T_965fd_row1_col6\" class=\"data row1 col6\" >150</td>\n",
       "      <td id=\"T_965fd_row1_col7\" class=\"data row1 col7\" >195</td>\n",
       "      <td id=\"T_965fd_row1_col8\" class=\"data row1 col8\" >254</td>\n",
       "      <td id=\"T_965fd_row1_col9\" class=\"data row1 col9\" >255</td>\n",
       "      <td id=\"T_965fd_row1_col10\" class=\"data row1 col10\" >254</td>\n",
       "      <td id=\"T_965fd_row1_col11\" class=\"data row1 col11\" >176</td>\n",
       "      <td id=\"T_965fd_row1_col12\" class=\"data row1 col12\" >193</td>\n",
       "      <td id=\"T_965fd_row1_col13\" class=\"data row1 col13\" >150</td>\n",
       "      <td id=\"T_965fd_row1_col14\" class=\"data row1 col14\" >96</td>\n",
       "      <td id=\"T_965fd_row1_col15\" class=\"data row1 col15\" >0</td>\n",
       "      <td id=\"T_965fd_row1_col16\" class=\"data row1 col16\" >0</td>\n",
       "      <td id=\"T_965fd_row1_col17\" class=\"data row1 col17\" >0</td>\n",
       "    </tr>\n",
       "    <tr>\n",
       "      <th id=\"T_965fd_level0_row2\" class=\"row_heading level0 row2\" >2</th>\n",
       "      <td id=\"T_965fd_row2_col0\" class=\"data row2 col0\" >0</td>\n",
       "      <td id=\"T_965fd_row2_col1\" class=\"data row2 col1\" >0</td>\n",
       "      <td id=\"T_965fd_row2_col2\" class=\"data row2 col2\" >0</td>\n",
       "      <td id=\"T_965fd_row2_col3\" class=\"data row2 col3\" >48</td>\n",
       "      <td id=\"T_965fd_row2_col4\" class=\"data row2 col4\" >166</td>\n",
       "      <td id=\"T_965fd_row2_col5\" class=\"data row2 col5\" >224</td>\n",
       "      <td id=\"T_965fd_row2_col6\" class=\"data row2 col6\" >253</td>\n",
       "      <td id=\"T_965fd_row2_col7\" class=\"data row2 col7\" >253</td>\n",
       "      <td id=\"T_965fd_row2_col8\" class=\"data row2 col8\" >234</td>\n",
       "      <td id=\"T_965fd_row2_col9\" class=\"data row2 col9\" >196</td>\n",
       "      <td id=\"T_965fd_row2_col10\" class=\"data row2 col10\" >253</td>\n",
       "      <td id=\"T_965fd_row2_col11\" class=\"data row2 col11\" >253</td>\n",
       "      <td id=\"T_965fd_row2_col12\" class=\"data row2 col12\" >253</td>\n",
       "      <td id=\"T_965fd_row2_col13\" class=\"data row2 col13\" >253</td>\n",
       "      <td id=\"T_965fd_row2_col14\" class=\"data row2 col14\" >233</td>\n",
       "      <td id=\"T_965fd_row2_col15\" class=\"data row2 col15\" >0</td>\n",
       "      <td id=\"T_965fd_row2_col16\" class=\"data row2 col16\" >0</td>\n",
       "      <td id=\"T_965fd_row2_col17\" class=\"data row2 col17\" >0</td>\n",
       "    </tr>\n",
       "    <tr>\n",
       "      <th id=\"T_965fd_level0_row3\" class=\"row_heading level0 row3\" >3</th>\n",
       "      <td id=\"T_965fd_row3_col0\" class=\"data row3 col0\" >0</td>\n",
       "      <td id=\"T_965fd_row3_col1\" class=\"data row3 col1\" >93</td>\n",
       "      <td id=\"T_965fd_row3_col2\" class=\"data row3 col2\" >244</td>\n",
       "      <td id=\"T_965fd_row3_col3\" class=\"data row3 col3\" >249</td>\n",
       "      <td id=\"T_965fd_row3_col4\" class=\"data row3 col4\" >253</td>\n",
       "      <td id=\"T_965fd_row3_col5\" class=\"data row3 col5\" >187</td>\n",
       "      <td id=\"T_965fd_row3_col6\" class=\"data row3 col6\" >46</td>\n",
       "      <td id=\"T_965fd_row3_col7\" class=\"data row3 col7\" >10</td>\n",
       "      <td id=\"T_965fd_row3_col8\" class=\"data row3 col8\" >8</td>\n",
       "      <td id=\"T_965fd_row3_col9\" class=\"data row3 col9\" >4</td>\n",
       "      <td id=\"T_965fd_row3_col10\" class=\"data row3 col10\" >10</td>\n",
       "      <td id=\"T_965fd_row3_col11\" class=\"data row3 col11\" >194</td>\n",
       "      <td id=\"T_965fd_row3_col12\" class=\"data row3 col12\" >253</td>\n",
       "      <td id=\"T_965fd_row3_col13\" class=\"data row3 col13\" >253</td>\n",
       "      <td id=\"T_965fd_row3_col14\" class=\"data row3 col14\" >233</td>\n",
       "      <td id=\"T_965fd_row3_col15\" class=\"data row3 col15\" >0</td>\n",
       "      <td id=\"T_965fd_row3_col16\" class=\"data row3 col16\" >0</td>\n",
       "      <td id=\"T_965fd_row3_col17\" class=\"data row3 col17\" >0</td>\n",
       "    </tr>\n",
       "    <tr>\n",
       "      <th id=\"T_965fd_level0_row4\" class=\"row_heading level0 row4\" >4</th>\n",
       "      <td id=\"T_965fd_row4_col0\" class=\"data row4 col0\" >0</td>\n",
       "      <td id=\"T_965fd_row4_col1\" class=\"data row4 col1\" >107</td>\n",
       "      <td id=\"T_965fd_row4_col2\" class=\"data row4 col2\" >253</td>\n",
       "      <td id=\"T_965fd_row4_col3\" class=\"data row4 col3\" >253</td>\n",
       "      <td id=\"T_965fd_row4_col4\" class=\"data row4 col4\" >230</td>\n",
       "      <td id=\"T_965fd_row4_col5\" class=\"data row4 col5\" >48</td>\n",
       "      <td id=\"T_965fd_row4_col6\" class=\"data row4 col6\" >0</td>\n",
       "      <td id=\"T_965fd_row4_col7\" class=\"data row4 col7\" >0</td>\n",
       "      <td id=\"T_965fd_row4_col8\" class=\"data row4 col8\" >0</td>\n",
       "      <td id=\"T_965fd_row4_col9\" class=\"data row4 col9\" >0</td>\n",
       "      <td id=\"T_965fd_row4_col10\" class=\"data row4 col10\" >0</td>\n",
       "      <td id=\"T_965fd_row4_col11\" class=\"data row4 col11\" >192</td>\n",
       "      <td id=\"T_965fd_row4_col12\" class=\"data row4 col12\" >253</td>\n",
       "      <td id=\"T_965fd_row4_col13\" class=\"data row4 col13\" >253</td>\n",
       "      <td id=\"T_965fd_row4_col14\" class=\"data row4 col14\" >156</td>\n",
       "      <td id=\"T_965fd_row4_col15\" class=\"data row4 col15\" >0</td>\n",
       "      <td id=\"T_965fd_row4_col16\" class=\"data row4 col16\" >0</td>\n",
       "      <td id=\"T_965fd_row4_col17\" class=\"data row4 col17\" >0</td>\n",
       "    </tr>\n",
       "    <tr>\n",
       "      <th id=\"T_965fd_level0_row5\" class=\"row_heading level0 row5\" >5</th>\n",
       "      <td id=\"T_965fd_row5_col0\" class=\"data row5 col0\" >0</td>\n",
       "      <td id=\"T_965fd_row5_col1\" class=\"data row5 col1\" >3</td>\n",
       "      <td id=\"T_965fd_row5_col2\" class=\"data row5 col2\" >20</td>\n",
       "      <td id=\"T_965fd_row5_col3\" class=\"data row5 col3\" >20</td>\n",
       "      <td id=\"T_965fd_row5_col4\" class=\"data row5 col4\" >15</td>\n",
       "      <td id=\"T_965fd_row5_col5\" class=\"data row5 col5\" >0</td>\n",
       "      <td id=\"T_965fd_row5_col6\" class=\"data row5 col6\" >0</td>\n",
       "      <td id=\"T_965fd_row5_col7\" class=\"data row5 col7\" >0</td>\n",
       "      <td id=\"T_965fd_row5_col8\" class=\"data row5 col8\" >0</td>\n",
       "      <td id=\"T_965fd_row5_col9\" class=\"data row5 col9\" >0</td>\n",
       "      <td id=\"T_965fd_row5_col10\" class=\"data row5 col10\" >43</td>\n",
       "      <td id=\"T_965fd_row5_col11\" class=\"data row5 col11\" >224</td>\n",
       "      <td id=\"T_965fd_row5_col12\" class=\"data row5 col12\" >253</td>\n",
       "      <td id=\"T_965fd_row5_col13\" class=\"data row5 col13\" >245</td>\n",
       "      <td id=\"T_965fd_row5_col14\" class=\"data row5 col14\" >74</td>\n",
       "      <td id=\"T_965fd_row5_col15\" class=\"data row5 col15\" >0</td>\n",
       "      <td id=\"T_965fd_row5_col16\" class=\"data row5 col16\" >0</td>\n",
       "      <td id=\"T_965fd_row5_col17\" class=\"data row5 col17\" >0</td>\n",
       "    </tr>\n",
       "    <tr>\n",
       "      <th id=\"T_965fd_level0_row6\" class=\"row_heading level0 row6\" >6</th>\n",
       "      <td id=\"T_965fd_row6_col0\" class=\"data row6 col0\" >0</td>\n",
       "      <td id=\"T_965fd_row6_col1\" class=\"data row6 col1\" >0</td>\n",
       "      <td id=\"T_965fd_row6_col2\" class=\"data row6 col2\" >0</td>\n",
       "      <td id=\"T_965fd_row6_col3\" class=\"data row6 col3\" >0</td>\n",
       "      <td id=\"T_965fd_row6_col4\" class=\"data row6 col4\" >0</td>\n",
       "      <td id=\"T_965fd_row6_col5\" class=\"data row6 col5\" >0</td>\n",
       "      <td id=\"T_965fd_row6_col6\" class=\"data row6 col6\" >0</td>\n",
       "      <td id=\"T_965fd_row6_col7\" class=\"data row6 col7\" >0</td>\n",
       "      <td id=\"T_965fd_row6_col8\" class=\"data row6 col8\" >0</td>\n",
       "      <td id=\"T_965fd_row6_col9\" class=\"data row6 col9\" >0</td>\n",
       "      <td id=\"T_965fd_row6_col10\" class=\"data row6 col10\" >249</td>\n",
       "      <td id=\"T_965fd_row6_col11\" class=\"data row6 col11\" >253</td>\n",
       "      <td id=\"T_965fd_row6_col12\" class=\"data row6 col12\" >245</td>\n",
       "      <td id=\"T_965fd_row6_col13\" class=\"data row6 col13\" >126</td>\n",
       "      <td id=\"T_965fd_row6_col14\" class=\"data row6 col14\" >0</td>\n",
       "      <td id=\"T_965fd_row6_col15\" class=\"data row6 col15\" >0</td>\n",
       "      <td id=\"T_965fd_row6_col16\" class=\"data row6 col16\" >0</td>\n",
       "      <td id=\"T_965fd_row6_col17\" class=\"data row6 col17\" >0</td>\n",
       "    </tr>\n",
       "    <tr>\n",
       "      <th id=\"T_965fd_level0_row7\" class=\"row_heading level0 row7\" >7</th>\n",
       "      <td id=\"T_965fd_row7_col0\" class=\"data row7 col0\" >0</td>\n",
       "      <td id=\"T_965fd_row7_col1\" class=\"data row7 col1\" >0</td>\n",
       "      <td id=\"T_965fd_row7_col2\" class=\"data row7 col2\" >0</td>\n",
       "      <td id=\"T_965fd_row7_col3\" class=\"data row7 col3\" >0</td>\n",
       "      <td id=\"T_965fd_row7_col4\" class=\"data row7 col4\" >0</td>\n",
       "      <td id=\"T_965fd_row7_col5\" class=\"data row7 col5\" >0</td>\n",
       "      <td id=\"T_965fd_row7_col6\" class=\"data row7 col6\" >0</td>\n",
       "      <td id=\"T_965fd_row7_col7\" class=\"data row7 col7\" >14</td>\n",
       "      <td id=\"T_965fd_row7_col8\" class=\"data row7 col8\" >101</td>\n",
       "      <td id=\"T_965fd_row7_col9\" class=\"data row7 col9\" >223</td>\n",
       "      <td id=\"T_965fd_row7_col10\" class=\"data row7 col10\" >253</td>\n",
       "      <td id=\"T_965fd_row7_col11\" class=\"data row7 col11\" >248</td>\n",
       "      <td id=\"T_965fd_row7_col12\" class=\"data row7 col12\" >124</td>\n",
       "      <td id=\"T_965fd_row7_col13\" class=\"data row7 col13\" >0</td>\n",
       "      <td id=\"T_965fd_row7_col14\" class=\"data row7 col14\" >0</td>\n",
       "      <td id=\"T_965fd_row7_col15\" class=\"data row7 col15\" >0</td>\n",
       "      <td id=\"T_965fd_row7_col16\" class=\"data row7 col16\" >0</td>\n",
       "      <td id=\"T_965fd_row7_col17\" class=\"data row7 col17\" >0</td>\n",
       "    </tr>\n",
       "    <tr>\n",
       "      <th id=\"T_965fd_level0_row8\" class=\"row_heading level0 row8\" >8</th>\n",
       "      <td id=\"T_965fd_row8_col0\" class=\"data row8 col0\" >0</td>\n",
       "      <td id=\"T_965fd_row8_col1\" class=\"data row8 col1\" >0</td>\n",
       "      <td id=\"T_965fd_row8_col2\" class=\"data row8 col2\" >0</td>\n",
       "      <td id=\"T_965fd_row8_col3\" class=\"data row8 col3\" >0</td>\n",
       "      <td id=\"T_965fd_row8_col4\" class=\"data row8 col4\" >0</td>\n",
       "      <td id=\"T_965fd_row8_col5\" class=\"data row8 col5\" >11</td>\n",
       "      <td id=\"T_965fd_row8_col6\" class=\"data row8 col6\" >166</td>\n",
       "      <td id=\"T_965fd_row8_col7\" class=\"data row8 col7\" >239</td>\n",
       "      <td id=\"T_965fd_row8_col8\" class=\"data row8 col8\" >253</td>\n",
       "      <td id=\"T_965fd_row8_col9\" class=\"data row8 col9\" >253</td>\n",
       "      <td id=\"T_965fd_row8_col10\" class=\"data row8 col10\" >253</td>\n",
       "      <td id=\"T_965fd_row8_col11\" class=\"data row8 col11\" >187</td>\n",
       "      <td id=\"T_965fd_row8_col12\" class=\"data row8 col12\" >30</td>\n",
       "      <td id=\"T_965fd_row8_col13\" class=\"data row8 col13\" >0</td>\n",
       "      <td id=\"T_965fd_row8_col14\" class=\"data row8 col14\" >0</td>\n",
       "      <td id=\"T_965fd_row8_col15\" class=\"data row8 col15\" >0</td>\n",
       "      <td id=\"T_965fd_row8_col16\" class=\"data row8 col16\" >0</td>\n",
       "      <td id=\"T_965fd_row8_col17\" class=\"data row8 col17\" >0</td>\n",
       "    </tr>\n",
       "    <tr>\n",
       "      <th id=\"T_965fd_level0_row9\" class=\"row_heading level0 row9\" >9</th>\n",
       "      <td id=\"T_965fd_row9_col0\" class=\"data row9 col0\" >0</td>\n",
       "      <td id=\"T_965fd_row9_col1\" class=\"data row9 col1\" >0</td>\n",
       "      <td id=\"T_965fd_row9_col2\" class=\"data row9 col2\" >0</td>\n",
       "      <td id=\"T_965fd_row9_col3\" class=\"data row9 col3\" >0</td>\n",
       "      <td id=\"T_965fd_row9_col4\" class=\"data row9 col4\" >0</td>\n",
       "      <td id=\"T_965fd_row9_col5\" class=\"data row9 col5\" >16</td>\n",
       "      <td id=\"T_965fd_row9_col6\" class=\"data row9 col6\" >248</td>\n",
       "      <td id=\"T_965fd_row9_col7\" class=\"data row9 col7\" >250</td>\n",
       "      <td id=\"T_965fd_row9_col8\" class=\"data row9 col8\" >253</td>\n",
       "      <td id=\"T_965fd_row9_col9\" class=\"data row9 col9\" >253</td>\n",
       "      <td id=\"T_965fd_row9_col10\" class=\"data row9 col10\" >253</td>\n",
       "      <td id=\"T_965fd_row9_col11\" class=\"data row9 col11\" >253</td>\n",
       "      <td id=\"T_965fd_row9_col12\" class=\"data row9 col12\" >232</td>\n",
       "      <td id=\"T_965fd_row9_col13\" class=\"data row9 col13\" >213</td>\n",
       "      <td id=\"T_965fd_row9_col14\" class=\"data row9 col14\" >111</td>\n",
       "      <td id=\"T_965fd_row9_col15\" class=\"data row9 col15\" >2</td>\n",
       "      <td id=\"T_965fd_row9_col16\" class=\"data row9 col16\" >0</td>\n",
       "      <td id=\"T_965fd_row9_col17\" class=\"data row9 col17\" >0</td>\n",
       "    </tr>\n",
       "    <tr>\n",
       "      <th id=\"T_965fd_level0_row10\" class=\"row_heading level0 row10\" >10</th>\n",
       "      <td id=\"T_965fd_row10_col0\" class=\"data row10 col0\" >0</td>\n",
       "      <td id=\"T_965fd_row10_col1\" class=\"data row10 col1\" >0</td>\n",
       "      <td id=\"T_965fd_row10_col2\" class=\"data row10 col2\" >0</td>\n",
       "      <td id=\"T_965fd_row10_col3\" class=\"data row10 col3\" >0</td>\n",
       "      <td id=\"T_965fd_row10_col4\" class=\"data row10 col4\" >0</td>\n",
       "      <td id=\"T_965fd_row10_col5\" class=\"data row10 col5\" >0</td>\n",
       "      <td id=\"T_965fd_row10_col6\" class=\"data row10 col6\" >0</td>\n",
       "      <td id=\"T_965fd_row10_col7\" class=\"data row10 col7\" >43</td>\n",
       "      <td id=\"T_965fd_row10_col8\" class=\"data row10 col8\" >98</td>\n",
       "      <td id=\"T_965fd_row10_col9\" class=\"data row10 col9\" >98</td>\n",
       "      <td id=\"T_965fd_row10_col10\" class=\"data row10 col10\" >208</td>\n",
       "      <td id=\"T_965fd_row10_col11\" class=\"data row10 col11\" >253</td>\n",
       "      <td id=\"T_965fd_row10_col12\" class=\"data row10 col12\" >253</td>\n",
       "      <td id=\"T_965fd_row10_col13\" class=\"data row10 col13\" >253</td>\n",
       "      <td id=\"T_965fd_row10_col14\" class=\"data row10 col14\" >253</td>\n",
       "      <td id=\"T_965fd_row10_col15\" class=\"data row10 col15\" >187</td>\n",
       "      <td id=\"T_965fd_row10_col16\" class=\"data row10 col16\" >22</td>\n",
       "      <td id=\"T_965fd_row10_col17\" class=\"data row10 col17\" >0</td>\n",
       "    </tr>\n",
       "  </tbody>\n",
       "</table>\n"
      ],
      "text/plain": [
       "<pandas.io.formats.style.Styler at 0x7f9fc82a0950>"
      ]
     },
     "execution_count": 22,
     "metadata": {},
     "output_type": "execute_result"
    }
   ],
   "source": [
    "im3_t = tensor(im3)\n",
    "df = pd.DataFrame(im3_t[4:15, 4:22])\n",
    "df.style.set_properties(**{'font-size':'6pt'}).background_gradient('Greys')"
   ]
  },
  {
   "cell_type": "code",
   "execution_count": 23,
   "metadata": {},
   "outputs": [
    {
     "data": {
      "text/plain": [
       "(6131, 6265)"
      ]
     },
     "execution_count": 23,
     "metadata": {},
     "output_type": "execute_result"
    }
   ],
   "source": [
    "seven_tensors = [tensor(Image.open(o)) for o in sevens]\n",
    "three_tensors = [tensor(Image.open(o)) for o in threes]\n",
    "len(three_tensors), len(seven_tensors)"
   ]
  },
  {
   "cell_type": "code",
   "execution_count": 24,
   "metadata": {},
   "outputs": [
    {
     "data": {
      "text/plain": [
       "<AxesSubplot:>"
      ]
     },
     "execution_count": 24,
     "metadata": {},
     "output_type": "execute_result"
    },
    {
     "data": {
      "image/png": "[encoded data removed]",
      "text/plain": [
       "<Figure size 72x72 with 1 Axes>"
      ]
     },
     "metadata": {
      "needs_background": "light"
     },
     "output_type": "display_data"
    }
   ],
   "source": [
    "show_image(three_tensors[1])"
   ]
  },
  {
   "cell_type": "code",
   "execution_count": 26,
   "metadata": {},
   "outputs": [
    {
     "data": {
      "text/plain": [
       "torch.Size([6131, 28, 28])"
      ]
     },
     "execution_count": 26,
     "metadata": {},
     "output_type": "execute_result"
    }
   ],
   "source": [
    "stacked_sevens = torch.stack(seven_tensors).float() / 255\n",
    "stacked_threes = torch.stack(three_tensors).float() / 255\n",
    "stacked_threes.shape # 6131 image examples of 28x28 pix resolution"
   ]
  },
  {
   "cell_type": "code",
   "execution_count": 27,
   "metadata": {},
   "outputs": [],
   "source": [
    "mean3 = stacked_threes.mean(0)\n",
    "mean7 = stacked_sevens.mean(0)"
   ]
  },
  {
   "cell_type": "code",
   "execution_count": 28,
   "metadata": {},
   "outputs": [
    {
     "data": {
      "text/plain": [
       "<AxesSubplot:>"
      ]
     },
     "execution_count": 28,
     "metadata": {},
     "output_type": "execute_result"
    },
    {
     "data": {
      "image/png": "[encoded data removed]",
      "text/plain": [
       "<Figure size 72x72 with 1 Axes>"
      ]
     },
     "metadata": {
      "needs_background": "light"
     },
     "output_type": "display_data"
    }
   ],
   "source": [
    "# 'ideal' 3 looks like\n",
    "show_image(mean3)"
   ]
  },
  {
   "cell_type": "code",
   "execution_count": 29,
   "metadata": {},
   "outputs": [
    {
     "data": {
      "text/plain": [
       "<AxesSubplot:>"
      ]
     },
     "execution_count": 29,
     "metadata": {},
     "output_type": "execute_result"
    },
    {
     "data": {
      "image/png": "[encoded data removed]",
      "text/plain": [
       "<Figure size 72x72 with 1 Axes>"
      ]
     },
     "metadata": {
      "needs_background": "light"
     },
     "output_type": "display_data"
    }
   ],
   "source": [
    "# 'ideal' 7 looks like\n",
    "show_image(mean7)"
   ]
  },
  {
   "cell_type": "code",
   "execution_count": 30,
   "metadata": {},
   "outputs": [
    {
     "data": {
      "text/plain": [
       "(tensor(0.1114), tensor(0.2021))"
      ]
     },
     "execution_count": 30,
     "metadata": {},
     "output_type": "execute_result"
    }
   ],
   "source": [
    "single_3 = stacked_threes[1]\n",
    "dist_3_abs = (single_3 - mean3).abs().mean()\n",
    "dist_3_sqr = ((single_3 - mean3) ** 2).mean().sqrt()\n",
    "dist_3_abs, dist_3_sqr"
   ]
  },
  {
   "cell_type": "code",
   "execution_count": 31,
   "metadata": {},
   "outputs": [],
   "source": [
    "# based on the distance we're trying to determine whether our image contains three or seven"
   ]
  },
  {
   "cell_type": "code",
   "execution_count": 32,
   "metadata": {},
   "outputs": [
    {
     "data": {
      "text/plain": [
       "(tensor(0.1586), tensor(0.3021))"
      ]
     },
     "execution_count": 32,
     "metadata": {},
     "output_type": "execute_result"
    }
   ],
   "source": [
    "dist_7_abs = (single_3 - mean7).abs().mean()\n",
    "dist_7_sqr = ((single_3 - mean7) ** 2).mean().sqrt()\n",
    "dist_7_abs, dist_7_sqr"
   ]
  },
  {
   "cell_type": "code",
   "execution_count": 33,
   "metadata": {},
   "outputs": [
    {
     "data": {
      "text/plain": [
       "(tensor(0.1586), tensor(0.3021))"
      ]
     },
     "execution_count": 33,
     "metadata": {},
     "output_type": "execute_result"
    }
   ],
   "source": [
    "F.l1_loss(single_3.float(), mean7), F.mse_loss(single_3, mean7).sqrt()"
   ]
  },
  {
   "cell_type": "code",
   "execution_count": 35,
   "metadata": {},
   "outputs": [],
   "source": [
    "# creating validation set\n",
    "valid_3 = torch.stack(\n",
    "    [tensor(Image.open(o)) for o in (path/'valid'/'3').ls()])\n",
    "    \n",
    "valid_3 = valid_3.float() / 255"
   ]
  },
  {
   "cell_type": "code",
   "execution_count": 36,
   "metadata": {},
   "outputs": [],
   "source": [
    "valid_7 = torch.stack(\n",
    "    [tensor(Image.open(o)) for o in (path/'valid'/'7').ls()])\n",
    "    \n",
    "valid_7 = valid_7.float() / 255"
   ]
  },
  {
   "cell_type": "code",
   "execution_count": 37,
   "metadata": {},
   "outputs": [
    {
     "data": {
      "text/plain": [
       "(torch.Size([1010, 28, 28]), torch.Size([1028, 28, 28]))"
      ]
     },
     "execution_count": 37,
     "metadata": {},
     "output_type": "execute_result"
    }
   ],
   "source": [
    "valid_3.shape, valid_7.shape"
   ]
  },
  {
   "cell_type": "code",
   "execution_count": 38,
   "metadata": {},
   "outputs": [],
   "source": [
    "def mnist_distance(a, b):\n",
    "    return (a - b).abs().mean((-1, -2))"
   ]
  },
  {
   "cell_type": "code",
   "execution_count": 39,
   "metadata": {},
   "outputs": [
    {
     "data": {
      "text/plain": [
       "tensor(0.1114)"
      ]
     },
     "execution_count": 39,
     "metadata": {},
     "output_type": "execute_result"
    }
   ],
   "source": [
    "mnist_distance(single_3, mean3)"
   ]
  },
  {
   "cell_type": "code",
   "execution_count": 40,
   "metadata": {},
   "outputs": [
    {
     "data": {
      "text/plain": [
       "(tensor([0.1787, 0.1422, 0.1412,  ..., 0.1358, 0.1301, 0.1110]),\n",
       " torch.Size([1010]))"
      ]
     },
     "execution_count": 40,
     "metadata": {},
     "output_type": "execute_result"
    }
   ],
   "source": [
    "valid_3_dist = mnist_distance(valid_3, mean3)\n",
    "valid_3_dist, valid_3_dist.shape"
   ]
  },
  {
   "cell_type": "code",
   "execution_count": 41,
   "metadata": {},
   "outputs": [
    {
     "data": {
      "text/plain": [
       "torch.Size([1010, 28, 28])"
      ]
     },
     "execution_count": 41,
     "metadata": {},
     "output_type": "execute_result"
    }
   ],
   "source": [
    "(valid_3 - mean3).shape"
   ]
  },
  {
   "cell_type": "code",
   "execution_count": 42,
   "metadata": {},
   "outputs": [],
   "source": [
    "def is_3(x):\n",
    "    return mnist_distance(x, mean3) < mnist_distance(x, mean7)"
   ]
  },
  {
   "cell_type": "code",
   "execution_count": 44,
   "metadata": {},
   "outputs": [
    {
     "data": {
      "text/plain": [
       "(tensor(True), tensor(1.))"
      ]
     },
     "execution_count": 44,
     "metadata": {},
     "output_type": "execute_result"
    }
   ],
   "source": [
    "is_3(single_3), is_3(single_3).float()"
   ]
  },
  {
   "cell_type": "code",
   "execution_count": 45,
   "metadata": {},
   "outputs": [
    {
     "data": {
      "text/plain": [
       "tensor([False,  True,  True,  ...,  True,  True,  True])"
      ]
     },
     "execution_count": 45,
     "metadata": {},
     "output_type": "execute_result"
    }
   ],
   "source": [
    "is_3(valid_3)"
   ]
  },
  {
   "cell_type": "code",
   "execution_count": 46,
   "metadata": {},
   "outputs": [
    {
     "data": {
      "text/plain": [
       "(tensor(0.9168), tensor(0.9854), tensor(0.9511))"
      ]
     },
     "execution_count": 46,
     "metadata": {},
     "output_type": "execute_result"
    }
   ],
   "source": [
    "accuracy_3s = is_3(valid_3).float().mean()\n",
    "accuracy_7s = (1 - is_3(valid_7).float()).mean()\n",
    "\n",
    "accuracy_3s, accuracy_7s, (accuracy_7s+accuracy_3s)/2"
   ]
  },
  {
   "cell_type": "code",
   "execution_count": 47,
   "metadata": {},
   "outputs": [],
   "source": [
    "# not a bad result without using any models (just average values of pixels at the corresponding positions)"
   ]
  },
  {
   "cell_type": "markdown",
   "metadata": {},
   "source": [
    "# SGD"
   ]
  },
  {
   "cell_type": "code",
   "execution_count": 48,
   "metadata": {},
   "outputs": [],
   "source": [
    "# simple quadratic f\n",
    "def f(x):\n",
    "    return x ** 2"
   ]
  },
  {
   "cell_type": "code",
   "execution_count": 49,
   "metadata": {},
   "outputs": [
    {
     "data": {
      "text/plain": [
       "<matplotlib.collections.PathCollection at 0x7f9f890b5b10>"
      ]
     },
     "execution_count": 49,
     "metadata": {},
     "output_type": "execute_result"
    },
    {
     "data": {
      "image/png": "[encoded data removed]",
      "text/plain": [
       "<Figure size 432x288 with 1 Axes>"
      ]
     },
     "metadata": {
      "needs_background": "light"
     },
     "output_type": "display_data"
    }
   ],
   "source": [
    "plot_function(f, 'x', 'x**2')\n",
    "plt.scatter(-1.5, f(-1.5), color='red')"
   ]
  },
  {
   "cell_type": "code",
   "execution_count": null,
   "metadata": {},
   "outputs": [],
   "source": [
    "#"
   ]
  },
  {
   "cell_type": "markdown",
   "metadata": {},
   "source": [
    "# calculating gradients"
   ]
  },
  {
   "cell_type": "code",
   "execution_count": 54,
   "metadata": {},
   "outputs": [
    {
     "data": {
      "text/plain": [
       "tensor(9., grad_fn=<PowBackward0>)"
      ]
     },
     "execution_count": 54,
     "metadata": {},
     "output_type": "execute_result"
    }
   ],
   "source": [
    "xt = tensor(3.).requires_grad_()\n",
    "yt = f(xt)\n",
    "yt"
   ]
  },
  {
   "cell_type": "code",
   "execution_count": 56,
   "metadata": {},
   "outputs": [],
   "source": [
    "xt.grad"
   ]
  },
  {
   "cell_type": "code",
   "execution_count": 57,
   "metadata": {},
   "outputs": [],
   "source": [
    "yt.backward()"
   ]
  },
  {
   "cell_type": "code",
   "execution_count": 58,
   "metadata": {},
   "outputs": [
    {
     "data": {
      "text/plain": [
       "tensor(6.)"
      ]
     },
     "execution_count": 58,
     "metadata": {},
     "output_type": "execute_result"
    }
   ],
   "source": [
    "xt.grad"
   ]
  },
  {
   "cell_type": "code",
   "execution_count": 69,
   "metadata": {},
   "outputs": [
    {
     "data": {
      "text/plain": [
       "tensor([ 3.,  4., 10.], requires_grad=True)"
      ]
     },
     "execution_count": 69,
     "metadata": {},
     "output_type": "execute_result"
    }
   ],
   "source": [
    "xt = tensor([3. , 4., 10.]).requires_grad_()\n",
    "xt"
   ]
  },
  {
   "cell_type": "code",
   "execution_count": 70,
   "metadata": {},
   "outputs": [],
   "source": [
    "def f(x):\n",
    "    return (x ** 2).sum()"
   ]
  },
  {
   "cell_type": "code",
   "execution_count": 71,
   "metadata": {},
   "outputs": [
    {
     "data": {
      "text/plain": [
       "tensor(125., grad_fn=<SumBackward0>)"
      ]
     },
     "execution_count": 71,
     "metadata": {},
     "output_type": "execute_result"
    }
   ],
   "source": [
    "yt = f(xt)\n",
    "yt"
   ]
  },
  {
   "cell_type": "code",
   "execution_count": 72,
   "metadata": {},
   "outputs": [],
   "source": [
    "xt.grad"
   ]
  },
  {
   "cell_type": "code",
   "execution_count": 73,
   "metadata": {},
   "outputs": [
    {
     "data": {
      "text/plain": [
       "tensor([ 6.,  8., 20.])"
      ]
     },
     "execution_count": 73,
     "metadata": {},
     "output_type": "execute_result"
    }
   ],
   "source": [
    "yt.backward()\n",
    "xt.grad"
   ]
  },
  {
   "cell_type": "markdown",
   "metadata": {},
   "source": [
    "# end to end sgd"
   ]
  },
  {
   "cell_type": "code",
   "execution_count": 74,
   "metadata": {},
   "outputs": [
    {
     "data": {
      "text/plain": [
       "tensor([ 0.,  1.,  2.,  3.,  4.,  5.,  6.,  7.,  8.,  9., 10., 11., 12., 13., 14., 15., 16., 17., 18., 19.])"
      ]
     },
     "execution_count": 74,
     "metadata": {},
     "output_type": "execute_result"
    }
   ],
   "source": [
    "time = torch.arange(0, 20).float()\n",
    "time"
   ]
  },
  {
   "cell_type": "code",
   "execution_count": 75,
   "metadata": {},
   "outputs": [
    {
     "data": {
      "text/plain": [
       "<matplotlib.collections.PathCollection at 0x7f9f890b5a10>"
      ]
     },
     "execution_count": 75,
     "metadata": {},
     "output_type": "execute_result"
    },
    {
     "data": {
      "image/png": "[encoded data removed]",
      "text/plain": [
       "<Figure size 432x288 with 1 Axes>"
      ]
     },
     "metadata": {
      "needs_background": "light"
     },
     "output_type": "display_data"
    }
   ],
   "source": [
    "speed = torch.randn(20) * 3 + 0.75*(time - 9.5)**2 + 1\n",
    "plt.scatter(time, speed)"
   ]
  },
  {
   "cell_type": "code",
   "execution_count": 76,
   "metadata": {},
   "outputs": [],
   "source": [
    "def f(t, params):\n",
    "    a, b, c = params\n",
    "    return a * (t ** 2) + (b * t) + c"
   ]
  },
  {
   "cell_type": "code",
   "execution_count": 77,
   "metadata": {},
   "outputs": [],
   "source": [
    "def mse(preds, targets):\n",
    "    return ((preds-targets) ** 2).mean()"
   ]
  },
  {
   "cell_type": "markdown",
   "metadata": {},
   "source": [
    "## step 1: init param"
   ]
  },
  {
   "cell_type": "code",
   "execution_count": 78,
   "metadata": {},
   "outputs": [],
   "source": [
    "params = torch.randn(3).requires_grad_()\n",
    "orig_params = params.clone()"
   ]
  },
  {
   "cell_type": "markdown",
   "metadata": {},
   "source": [
    "## step 2: calculate the predictions"
   ]
  },
  {
   "cell_type": "code",
   "execution_count": 79,
   "metadata": {},
   "outputs": [],
   "source": [
    "preds = f(time, params)"
   ]
  },
  {
   "cell_type": "code",
   "execution_count": 80,
   "metadata": {},
   "outputs": [],
   "source": [
    "def show_preds(preds, ax=None):\n",
    "    if ax is None: ax=plt.subplots()[1]\n",
    "    ax.scatter(time, speed)\n",
    "    ax.scatter(time, to_np(preds), color='red')\n",
    "    ax.set_ylim(-300,100)"
   ]
  },
  {
   "cell_type": "code",
   "execution_count": 81,
   "metadata": {},
   "outputs": [
    {
     "data": {
      "image/png": "[encoded data removed]",
      "text/plain": [
       "<Figure size 432x288 with 1 Axes>"
      ]
     },
     "metadata": {
      "needs_background": "light"
     },
     "output_type": "display_data"
    }
   ],
   "source": [
    "show_preds(preds)"
   ]
  },
  {
   "cell_type": "markdown",
   "metadata": {},
   "source": [
    "## step 3: calculate the loss"
   ]
  },
  {
   "cell_type": "code",
   "execution_count": 82,
   "metadata": {},
   "outputs": [],
   "source": [
    "loss = mse(preds, speed)"
   ]
  },
  {
   "cell_type": "code",
   "execution_count": 85,
   "metadata": {},
   "outputs": [
    {
     "data": {
      "text/plain": [
       "tensor(25823.8086, grad_fn=<MeanBackward0>)"
      ]
     },
     "execution_count": 85,
     "metadata": {},
     "output_type": "execute_result"
    }
   ],
   "source": [
    "loss"
   ]
  },
  {
   "cell_type": "markdown",
   "metadata": {},
   "source": [
    "# step 4: calculate the gradients"
   ]
  },
  {
   "cell_type": "code",
   "execution_count": 86,
   "metadata": {},
   "outputs": [
    {
     "data": {
      "text/plain": [
       "tensor([-53195.8633,  -3419.7148,   -253.8908])"
      ]
     },
     "execution_count": 86,
     "metadata": {},
     "output_type": "execute_result"
    }
   ],
   "source": [
    "loss.backward()\n",
    "params.grad"
   ]
  },
  {
   "cell_type": "code",
   "execution_count": 87,
   "metadata": {},
   "outputs": [
    {
     "data": {
      "text/plain": [
       "tensor([-0.7658, -0.7506,  1.3525], requires_grad=True)"
      ]
     },
     "execution_count": 87,
     "metadata": {},
     "output_type": "execute_result"
    }
   ],
   "source": [
    "params.grad * 1e-5\n",
    "params"
   ]
  },
  {
   "cell_type": "markdown",
   "metadata": {},
   "source": [
    "# step 5: step the weights"
   ]
  },
  {
   "cell_type": "code",
   "execution_count": 88,
   "metadata": {},
   "outputs": [],
   "source": [
    "lr = 1e-5\n",
    "params.data -= lr * params.grad.data\n",
    "params.grad = None"
   ]
  },
  {
   "cell_type": "code",
   "execution_count": 89,
   "metadata": {},
   "outputs": [
    {
     "data": {
      "image/png": "[encoded data removed]",
      "text/plain": [
       "<Figure size 432x288 with 1 Axes>"
      ]
     },
     "metadata": {
      "needs_background": "light"
     },
     "output_type": "display_data"
    }
   ],
   "source": [
    "preds = f(time, params)\n",
    "mse(preds, speed)\n",
    "show_preds(preds)"
   ]
  },
  {
   "cell_type": "code",
   "execution_count": 90,
   "metadata": {},
   "outputs": [],
   "source": [
    "def apply_step(params, prn=True):\n",
    "    preds = f(time, params)\n",
    "    loss = mse(preds, speed)\n",
    "    loss.backward()\n",
    "    params.data -= lr * params.grad.data\n",
    "    params.grad = None\n",
    "    if prn: print(loss.item())\n",
    "    return preds"
   ]
  },
  {
   "cell_type": "markdown",
   "metadata": {},
   "source": [
    "## step 6: repeat the process"
   ]
  },
  {
   "cell_type": "code",
   "execution_count": 91,
   "metadata": {},
   "outputs": [
    {
     "name": "stdout",
     "output_type": "stream",
     "text": [
      "5435.53564453125\n",
      "1577.44921875\n",
      "847.3778076171875\n",
      "709.2225341796875\n",
      "683.0758056640625\n",
      "678.1243896484375\n",
      "677.1838989257812\n",
      "677.0023803710938\n",
      "676.9645385742188\n",
      "676.9537353515625\n"
     ]
    }
   ],
   "source": [
    "for i in range(10):\n",
    "    apply_step(params)"
   ]
  },
  {
   "cell_type": "code",
   "execution_count": 92,
   "metadata": {},
   "outputs": [],
   "source": [
    "params = orig_params.detach().requires_grad_()"
   ]
  },
  {
   "cell_type": "code",
   "execution_count": 94,
   "metadata": {},
   "outputs": [
    {
     "data": {
      "image/png": "[encoded data removed]",
      "text/plain": [
       "<Figure size 864x216 with 4 Axes>"
      ]
     },
     "metadata": {
      "needs_background": "light"
     },
     "output_type": "display_data"
    }
   ],
   "source": [
    "_,axs = plt.subplots(1,4,figsize=(12,3))\n",
    "for ax in axs: show_preds(apply_step(params, False), ax)\n",
    "plt.tight_layout()"
   ]
  },
  {
   "cell_type": "markdown",
   "metadata": {},
   "source": [
    "# the MNIST Loss Function"
   ]
  },
  {
   "cell_type": "code",
   "execution_count": 95,
   "metadata": {},
   "outputs": [
    {
     "data": {
      "text/plain": [
       "(torch.Size([12396, 784]), torch.Size([12396, 1]))"
      ]
     },
     "execution_count": 95,
     "metadata": {},
     "output_type": "execute_result"
    }
   ],
   "source": [
    "train_x = torch.cat([stacked_threes, stacked_sevens]).view(-1, 28*28)\n",
    "train_y = tensor([1]*len(threes) + [0] * len(sevens)).unsqueeze(1)\n",
    "train_x.shape, train_y.shape"
   ]
  },
  {
   "cell_type": "code",
   "execution_count": 96,
   "metadata": {},
   "outputs": [
    {
     "data": {
      "text/plain": [
       "(torch.Size([784]), tensor([1]))"
      ]
     },
     "execution_count": 96,
     "metadata": {},
     "output_type": "execute_result"
    }
   ],
   "source": [
    "dset = list(zip(train_x, train_y))\n",
    "x, y = dset[0]\n",
    "x.shape, y"
   ]
  },
  {
   "cell_type": "code",
   "execution_count": 97,
   "metadata": {},
   "outputs": [],
   "source": [
    "valid_x = torch.cat([valid_3, valid_7]).view(-1, 28*28)\n",
    "valid_y = tensor([1] * len(valid_3) + [0] * len(valid_7)).unsqueeze(1)\n",
    "valid_dset = list(zip(valid_x, valid_y))"
   ]
  },
  {
   "cell_type": "code",
   "execution_count": 98,
   "metadata": {},
   "outputs": [],
   "source": [
    "def init_params(size, std=1.0):\n",
    "    return (torch.randn(size) * std).requires_grad_()"
   ]
  },
  {
   "cell_type": "code",
   "execution_count": 100,
   "metadata": {},
   "outputs": [],
   "source": [
    "weights = init_params((28*28,1))\n",
    "bias = init_params(1)"
   ]
  },
  {
   "cell_type": "code",
   "execution_count": 101,
   "metadata": {},
   "outputs": [
    {
     "data": {
      "text/plain": [
       "tensor([-13.2578], grad_fn=<AddBackward0>)"
      ]
     },
     "execution_count": 101,
     "metadata": {},
     "output_type": "execute_result"
    }
   ],
   "source": [
    "(train_x[0] * weights.T).sum() + bias"
   ]
  },
  {
   "cell_type": "code",
   "execution_count": 102,
   "metadata": {},
   "outputs": [
    {
     "data": {
      "text/plain": [
       "tensor([[-13.2578],\n",
       "        [ -4.6854],\n",
       "        [-12.4631],\n",
       "        ...,\n",
       "        [-12.4171],\n",
       "        [  2.4253],\n",
       "        [  1.5262]], grad_fn=<AddBackward0>)"
      ]
     },
     "execution_count": 102,
     "metadata": {},
     "output_type": "execute_result"
    }
   ],
   "source": [
    "def linearl(xb):\n",
    "    return xb@weights + bias\n",
    "preds = linearl(train_x)\n",
    "preds"
   ]
  },
  {
   "cell_type": "code",
   "execution_count": 103,
   "metadata": {},
   "outputs": [
    {
     "data": {
      "text/plain": [
       "0.42739593982696533"
      ]
     },
     "execution_count": 103,
     "metadata": {},
     "output_type": "execute_result"
    }
   ],
   "source": [
    "corrects = (preds > 0.0). float() == train_y\n",
    "corrects.float().mean().item()"
   ]
  },
  {
   "cell_type": "code",
   "execution_count": 104,
   "metadata": {},
   "outputs": [],
   "source": [
    "with torch.no_grad():\n",
    "    weights[0] *= 1.0001"
   ]
  },
  {
   "cell_type": "code",
   "execution_count": 106,
   "metadata": {},
   "outputs": [
    {
     "data": {
      "text/plain": [
       "0.42739593982696533"
      ]
     },
     "execution_count": 106,
     "metadata": {},
     "output_type": "execute_result"
    }
   ],
   "source": [
    "preds = linearl(train_x)\n",
    "((preds>0.0).float() == train_y).float().mean().item()\n"
   ]
  },
  {
   "cell_type": "code",
   "execution_count": 107,
   "metadata": {},
   "outputs": [],
   "source": [
    "trgts  = tensor([1,0,1])\n",
    "prds   = tensor([0.9, 0.4, 0.2])"
   ]
  },
  {
   "cell_type": "code",
   "execution_count": 108,
   "metadata": {},
   "outputs": [],
   "source": [
    "def mnist_loss(predictions, targets):\n",
    "    return torch.where(targets==1, 1-predictions, predictions).mean()"
   ]
  },
  {
   "cell_type": "code",
   "execution_count": 110,
   "metadata": {},
   "outputs": [
    {
     "name": "stdout",
     "output_type": "stream",
     "text": [
      "tensor(0.4333)\n"
     ]
    },
    {
     "data": {
      "text/plain": [
       "tensor(0.2333)"
      ]
     },
     "execution_count": 110,
     "metadata": {},
     "output_type": "execute_result"
    }
   ],
   "source": [
    "torch.where(trgts==1, 1 - prds, prds)\n",
    "print(mnist_loss(prds, trgts))\n",
    "mnist_loss(tensor([0.9, 0.4, 0.8]), trgts)"
   ]
  },
  {
   "cell_type": "markdown",
   "metadata": {},
   "source": [
    "## sigmoid"
   ]
  },
  {
   "cell_type": "code",
   "execution_count": 111,
   "metadata": {},
   "outputs": [],
   "source": [
    "def sigmoid(x):\n",
    "    return 1 / (1 + torch.exp(-x))"
   ]
  },
  {
   "cell_type": "code",
   "execution_count": 112,
   "metadata": {},
   "outputs": [
    {
     "data": {
      "image/png": "[encoded data removed]",
      "text/plain": [
       "<Figure size 432x288 with 1 Axes>"
      ]
     },
     "metadata": {
      "needs_background": "light"
     },
     "output_type": "display_data"
    }
   ],
   "source": [
    "plot_function(torch.sigmoid, title='Sigmoid', min=-4, max=4)"
   ]
  },
  {
   "cell_type": "code",
   "execution_count": 113,
   "metadata": {},
   "outputs": [],
   "source": [
    "def mnist_loss(predictions, targets):\n",
    "    predictions = predictions.sigmoid()\n",
    "    return torch.where(\n",
    "        targets == 1,\n",
    "        1 - predictions,\n",
    "        predictions\n",
    "    ).mean()"
   ]
  },
  {
   "cell_type": "markdown",
   "metadata": {},
   "source": [
    "## SGD and Mini-Batches"
   ]
  },
  {
   "cell_type": "code",
   "execution_count": 114,
   "metadata": {},
   "outputs": [
    {
     "data": {
      "text/plain": [
       "[tensor([ 3, 12,  8, 10,  2]),\n",
       " tensor([ 9,  4,  7, 14,  5]),\n",
       " tensor([ 1, 13,  0,  6, 11])]"
      ]
     },
     "execution_count": 114,
     "metadata": {},
     "output_type": "execute_result"
    }
   ],
   "source": [
    "coll = range(15)\n",
    "dl = DataLoader(coll, batch_size=5, shuffle=True)\n",
    "list(dl)"
   ]
  },
  {
   "cell_type": "code",
   "execution_count": 115,
   "metadata": {},
   "outputs": [
    {
     "data": {
      "text/plain": [
       "(#26) [(0, 'a'),(1, 'b'),(2, 'c'),(3, 'd'),(4, 'e'),(5, 'f'),(6, 'g'),(7, 'h'),(8, 'i'),(9, 'j')...]"
      ]
     },
     "execution_count": 115,
     "metadata": {},
     "output_type": "execute_result"
    }
   ],
   "source": [
    "ds = L(enumerate(string.ascii_lowercase))\n",
    "ds"
   ]
  },
  {
   "cell_type": "code",
   "execution_count": 116,
   "metadata": {},
   "outputs": [
    {
     "data": {
      "text/plain": [
       "[(tensor([17, 18, 10, 22,  8, 14]), ('r', 's', 'k', 'w', 'i', 'o')),\n",
       " (tensor([20, 15,  9, 13, 21, 12]), ('u', 'p', 'j', 'n', 'v', 'm')),\n",
       " (tensor([ 7, 25,  6,  5, 11, 23]), ('h', 'z', 'g', 'f', 'l', 'x')),\n",
       " (tensor([ 1,  3,  0, 24, 19, 16]), ('b', 'd', 'a', 'y', 't', 'q')),\n",
       " (tensor([2, 4]), ('c', 'e'))]"
      ]
     },
     "execution_count": 116,
     "metadata": {},
     "output_type": "execute_result"
    }
   ],
   "source": [
    "dl = DataLoader(ds, batch_size=6, shuffle=True)\n",
    "list(dl)"
   ]
  },
  {
   "cell_type": "markdown",
   "metadata": {},
   "source": [
    "## putting it all together"
   ]
  },
  {
   "cell_type": "code",
   "execution_count": 117,
   "metadata": {},
   "outputs": [
    {
     "data": {
      "text/plain": [
       "(torch.Size([256, 784]), torch.Size([256, 1]))"
      ]
     },
     "execution_count": 117,
     "metadata": {},
     "output_type": "execute_result"
    }
   ],
   "source": [
    "weights = init_params((28*28, 1))\n",
    "bias = init_params(1)\n",
    "dl = DataLoader(dset, batch_size=256)\n",
    "xb, yb = first(dl)\n",
    "xb.shape, yb.shape"
   ]
  },
  {
   "cell_type": "code",
   "execution_count": 118,
   "metadata": {},
   "outputs": [
    {
     "data": {
      "text/plain": [
       "torch.Size([4, 784])"
      ]
     },
     "execution_count": 118,
     "metadata": {},
     "output_type": "execute_result"
    }
   ],
   "source": [
    "valid_dl = DataLoader(valid_dset, batch_size=256)\n",
    "batch = train_x[:4]\n",
    "batch.shape"
   ]
  },
  {
   "cell_type": "code",
   "execution_count": 119,
   "metadata": {},
   "outputs": [
    {
     "data": {
      "text/plain": [
       "tensor([[-6.0345],\n",
       "        [ 4.8424],\n",
       "        [-6.8445],\n",
       "        [-5.8458]], grad_fn=<AddBackward0>)"
      ]
     },
     "execution_count": 119,
     "metadata": {},
     "output_type": "execute_result"
    }
   ],
   "source": [
    "preds = linearl(batch)\n",
    "preds"
   ]
  },
  {
   "cell_type": "code",
   "execution_count": 120,
   "metadata": {},
   "outputs": [
    {
     "data": {
      "text/plain": [
       "tensor(0.7504, grad_fn=<MeanBackward0>)"
      ]
     },
     "execution_count": 120,
     "metadata": {},
     "output_type": "execute_result"
    }
   ],
   "source": [
    "loss = mnist_loss(preds, train_y[:4])\n",
    "loss"
   ]
  },
  {
   "cell_type": "code",
   "execution_count": 121,
   "metadata": {},
   "outputs": [
    {
     "data": {
      "text/plain": [
       "(torch.Size([784, 1]), tensor(-0.0005), tensor([-0.0035]))"
      ]
     },
     "execution_count": 121,
     "metadata": {},
     "output_type": "execute_result"
    }
   ],
   "source": [
    "loss.backward()\n",
    "weights.grad.shape, weights.grad.mean(), bias.grad"
   ]
  },
  {
   "cell_type": "code",
   "execution_count": 122,
   "metadata": {},
   "outputs": [],
   "source": [
    "def calc_grad(xb, yb, model):\n",
    "    preds = model(xb)\n",
    "    loss = mnist_loss(preds, yb)\n",
    "    loss.backward()"
   ]
  },
  {
   "cell_type": "code",
   "execution_count": 123,
   "metadata": {},
   "outputs": [
    {
     "data": {
      "text/plain": [
       "(tensor(-0.0011), tensor([-0.0070]))"
      ]
     },
     "execution_count": 123,
     "metadata": {},
     "output_type": "execute_result"
    }
   ],
   "source": [
    "calc_grad(batch, train_y[:4], linearl)\n",
    "weights.grad.mean(), bias.grad"
   ]
  },
  {
   "cell_type": "code",
   "execution_count": 124,
   "metadata": {},
   "outputs": [
    {
     "data": {
      "text/plain": [
       "(tensor(-0.0016), tensor([-0.0106]))"
      ]
     },
     "execution_count": 124,
     "metadata": {},
     "output_type": "execute_result"
    }
   ],
   "source": [
    "calc_grad(batch, train_y[:4], linearl)\n",
    "weights.grad.mean(), bias.grad"
   ]
  },
  {
   "cell_type": "code",
   "execution_count": 125,
   "metadata": {},
   "outputs": [],
   "source": [
    "weights.grad.zero_()\n",
    "bias.grad.zero_();"
   ]
  },
  {
   "cell_type": "code",
   "execution_count": 126,
   "metadata": {},
   "outputs": [],
   "source": [
    "def train_epoch(model, lr, params):\n",
    "    for xb, yb in dl:\n",
    "        calc_grad(xb, yb, model)\n",
    "        for p in params:\n",
    "            p.data -= p.grad*lr\n",
    "            p.grad.zero_()"
   ]
  },
  {
   "cell_type": "code",
   "execution_count": 128,
   "metadata": {},
   "outputs": [
    {
     "data": {
      "text/plain": [
       "tensor([[False],\n",
       "        [ True],\n",
       "        [False],\n",
       "        [False]])"
      ]
     },
     "execution_count": 128,
     "metadata": {},
     "output_type": "execute_result"
    }
   ],
   "source": [
    "(preds>0.0).float() == train_y[:4]"
   ]
  },
  {
   "cell_type": "code",
   "execution_count": 129,
   "metadata": {},
   "outputs": [],
   "source": [
    "def batch_accuracy(xb, yb):\n",
    "    preds = xb.sigmoid()\n",
    "    correct = (preds>0.5) == yb\n",
    "    return correct.float().mean()"
   ]
  },
  {
   "cell_type": "code",
   "execution_count": 130,
   "metadata": {},
   "outputs": [
    {
     "data": {
      "text/plain": [
       "tensor(0.2500)"
      ]
     },
     "execution_count": 130,
     "metadata": {},
     "output_type": "execute_result"
    }
   ],
   "source": [
    "batch_accuracy(linearl(batch), train_y[:4])"
   ]
  },
  {
   "cell_type": "code",
   "execution_count": 133,
   "metadata": {},
   "outputs": [],
   "source": [
    "def validate_epoch(model):\n",
    "    accs = [batch_accuracy(model(xb), yb) for xb, yb in valid_dl]\n",
    "    return round(torch.stack(accs).mean().item(), 4)"
   ]
  },
  {
   "cell_type": "code",
   "execution_count": 134,
   "metadata": {},
   "outputs": [
    {
     "data": {
      "text/plain": [
       "0.4044"
      ]
     },
     "execution_count": 134,
     "metadata": {},
     "output_type": "execute_result"
    }
   ],
   "source": [
    "validate_epoch(linearl)"
   ]
  },
  {
   "cell_type": "code",
   "execution_count": 140,
   "metadata": {},
   "outputs": [
    {
     "data": {
      "text/plain": [
       "0.9511"
      ]
     },
     "execution_count": 140,
     "metadata": {},
     "output_type": "execute_result"
    }
   ],
   "source": [
    "lr = 1.\n",
    "params = weights, bias\n",
    "train_epoch(linearl, lr, params)\n",
    "validate_epoch(linearl)"
   ]
  },
  {
   "cell_type": "code",
   "execution_count": 141,
   "metadata": {},
   "outputs": [
    {
     "name": "stdout",
     "output_type": "stream",
     "text": [
      "0.9545 0.9569 0.9584 0.9603 0.9623 0.9632 0.9637 0.9657 0.9667 0.9672 0.9677 0.9677 0.9706 0.9706 0.972 0.973 0.973 0.973 0.9725 0.9725 "
     ]
    }
   ],
   "source": [
    "for i in range(20):\n",
    "    train_epoch(linearl, lr, params)\n",
    "    print(validate_epoch(linearl), end=' ')"
   ]
  },
  {
   "cell_type": "markdown",
   "metadata": {},
   "source": [
    "# creating an optimizer"
   ]
  },
  {
   "cell_type": "code",
   "execution_count": 142,
   "metadata": {},
   "outputs": [
    {
     "data": {
      "text/plain": [
       "(torch.Size([1, 784]), torch.Size([1]))"
      ]
     },
     "execution_count": 142,
     "metadata": {},
     "output_type": "execute_result"
    }
   ],
   "source": [
    "linear_model = nn.Linear(28*28, 1)\n",
    "w,b = linear_model.parameters()\n",
    "w.shape, b.shape"
   ]
  },
  {
   "cell_type": "code",
   "execution_count": 143,
   "metadata": {},
   "outputs": [],
   "source": [
    "class BasicOptim:\n",
    "    def __init__(self, params, lr):\n",
    "        self.params, self.lr = list(params), lr\n",
    "    def step(self, *args, **kwargs):\n",
    "        for p in self.params:\n",
    "            p.data -= p.grad.data * self.lr\n",
    "    def zero_grad(self, *args, **kwargs):\n",
    "        for p in self.params:\n",
    "            p.grad = None"
   ]
  },
  {
   "cell_type": "code",
   "execution_count": 144,
   "metadata": {},
   "outputs": [],
   "source": [
    "opt = BasicOptim(linear_model.parameters(), lr)"
   ]
  },
  {
   "cell_type": "code",
   "execution_count": 145,
   "metadata": {},
   "outputs": [],
   "source": [
    "def train_epoch(model):\n",
    "    for xb, yb in dl:\n",
    "        calc_grad(xb, yb, model)\n",
    "        opt.step()\n",
    "        opt.zero_grad()"
   ]
  },
  {
   "cell_type": "code",
   "execution_count": 146,
   "metadata": {},
   "outputs": [
    {
     "data": {
      "text/plain": [
       "0.3984"
      ]
     },
     "execution_count": 146,
     "metadata": {},
     "output_type": "execute_result"
    }
   ],
   "source": [
    "validate_epoch(linear_model)"
   ]
  },
  {
   "cell_type": "code",
   "execution_count": 147,
   "metadata": {},
   "outputs": [],
   "source": [
    "def train_model(model, epochs):\n",
    "    for i in range(epochs):\n",
    "        train_epoch(model)\n",
    "        print(validate_epoch(model), end= ' ')"
   ]
  },
  {
   "cell_type": "code",
   "execution_count": 148,
   "metadata": {},
   "outputs": [
    {
     "name": "stdout",
     "output_type": "stream",
     "text": [
      "0.4932 0.9033 0.8062 0.9062 0.9307 0.9453 0.9541 0.9624 0.9648 0.9673 0.9692 0.9717 0.9736 0.9751 0.9761 0.9761 0.9775 0.9775 0.9775 0.9785 "
     ]
    }
   ],
   "source": [
    "train_model(linear_model, 20)"
   ]
  },
  {
   "cell_type": "code",
   "execution_count": 149,
   "metadata": {},
   "outputs": [
    {
     "name": "stdout",
     "output_type": "stream",
     "text": [
      "0.4932 0.8413 0.8433 0.9136 0.9336 0.9482 0.9555 0.9619 0.9658 0.9678 0.9702 0.9717 0.9736 0.9751 0.9761 0.9766 0.9775 0.978 0.9785 0.979 "
     ]
    }
   ],
   "source": [
    "linear_model = nn.Linear(28*28, 1)\n",
    "opt = SGD(linear_model.parameters(), lr)\n",
    "train_model(linear_model, 20)"
   ]
  },
  {
   "cell_type": "code",
   "execution_count": 150,
   "metadata": {},
   "outputs": [
    {
     "data": {
      "text/html": [
       "<table border=\"1\" class=\"dataframe\">\n",
       "  <thead>\n",
       "    <tr style=\"text-align: left;\">\n",
       "      <th>epoch</th>\n",
       "      <th>train_loss</th>\n",
       "      <th>valid_loss</th>\n",
       "      <th>batch_accuracy</th>\n",
       "      <th>time</th>\n",
       "    </tr>\n",
       "  </thead>\n",
       "  <tbody>\n",
       "    <tr>\n",
       "      <td>0</td>\n",
       "      <td>0.637357</td>\n",
       "      <td>0.503158</td>\n",
       "      <td>0.495584</td>\n",
       "      <td>00:00</td>\n",
       "    </tr>\n",
       "    <tr>\n",
       "      <td>1</td>\n",
       "      <td>0.433931</td>\n",
       "      <td>0.252359</td>\n",
       "      <td>0.767910</td>\n",
       "      <td>00:00</td>\n",
       "    </tr>\n",
       "    <tr>\n",
       "      <td>2</td>\n",
       "      <td>0.162974</td>\n",
       "      <td>0.162890</td>\n",
       "      <td>0.852797</td>\n",
       "      <td>00:00</td>\n",
       "    </tr>\n",
       "    <tr>\n",
       "      <td>3</td>\n",
       "      <td>0.073475</td>\n",
       "      <td>0.101122</td>\n",
       "      <td>0.915604</td>\n",
       "      <td>00:00</td>\n",
       "    </tr>\n",
       "    <tr>\n",
       "      <td>4</td>\n",
       "      <td>0.040372</td>\n",
       "      <td>0.075163</td>\n",
       "      <td>0.933268</td>\n",
       "      <td>00:00</td>\n",
       "    </tr>\n",
       "    <tr>\n",
       "      <td>5</td>\n",
       "      <td>0.027360</td>\n",
       "      <td>0.060706</td>\n",
       "      <td>0.949460</td>\n",
       "      <td>00:00</td>\n",
       "    </tr>\n",
       "    <tr>\n",
       "      <td>6</td>\n",
       "      <td>0.021948</td>\n",
       "      <td>0.051632</td>\n",
       "      <td>0.956330</td>\n",
       "      <td>00:00</td>\n",
       "    </tr>\n",
       "    <tr>\n",
       "      <td>7</td>\n",
       "      <td>0.019483</td>\n",
       "      <td>0.045575</td>\n",
       "      <td>0.962709</td>\n",
       "      <td>00:00</td>\n",
       "    </tr>\n",
       "    <tr>\n",
       "      <td>8</td>\n",
       "      <td>0.018186</td>\n",
       "      <td>0.041303</td>\n",
       "      <td>0.965653</td>\n",
       "      <td>00:00</td>\n",
       "    </tr>\n",
       "    <tr>\n",
       "      <td>9</td>\n",
       "      <td>0.017377</td>\n",
       "      <td>0.038142</td>\n",
       "      <td>0.968106</td>\n",
       "      <td>00:00</td>\n",
       "    </tr>\n",
       "  </tbody>\n",
       "</table>"
      ],
      "text/plain": [
       "<IPython.core.display.HTML object>"
      ]
     },
     "metadata": {},
     "output_type": "display_data"
    }
   ],
   "source": [
    "dls = DataLoaders(dl, valid_dl)\n",
    "learn = Learner(\n",
    "    dls, \n",
    "    nn.Linear(28*28, 1), \n",
    "    opt_func = SGD,\n",
    "    loss_func = mnist_loss,\n",
    "    metrics = batch_accuracy\n",
    ")\n",
    "learn.fit(10, lr=lr)"
   ]
  },
  {
   "cell_type": "markdown",
   "metadata": {},
   "source": [
    "# Adding a Nonlinearity"
   ]
  },
  {
   "cell_type": "code",
   "execution_count": 151,
   "metadata": {},
   "outputs": [],
   "source": [
    "def simple_net(xb):\n",
    "    res = xb @ w1 + b1\n",
    "    res = res.max(tensor(0.0))\n",
    "    res = res@w2 + b2\n",
    "    return res"
   ]
  },
  {
   "cell_type": "code",
   "execution_count": 152,
   "metadata": {},
   "outputs": [],
   "source": [
    "w1 = init_params((28*28, 30))\n",
    "b1 = init_params(30)\n",
    "w2 = init_params((30, 1))\n",
    "b2 = init_params(1)"
   ]
  },
  {
   "cell_type": "code",
   "execution_count": 153,
   "metadata": {},
   "outputs": [
    {
     "data": {
      "image/png": "[encoded data removed]",
      "text/plain": [
       "<Figure size 432x288 with 1 Axes>"
      ]
     },
     "metadata": {
      "needs_background": "light"
     },
     "output_type": "display_data"
    }
   ],
   "source": [
    "plot_function(F.relu)"
   ]
  },
  {
   "cell_type": "code",
   "execution_count": 154,
   "metadata": {},
   "outputs": [
    {
     "data": {
      "text/html": [
       "<table border=\"1\" class=\"dataframe\">\n",
       "  <thead>\n",
       "    <tr style=\"text-align: left;\">\n",
       "      <th>epoch</th>\n",
       "      <th>train_loss</th>\n",
       "      <th>valid_loss</th>\n",
       "      <th>batch_accuracy</th>\n",
       "      <th>time</th>\n",
       "    </tr>\n",
       "  </thead>\n",
       "  <tbody>\n",
       "    <tr>\n",
       "      <td>0</td>\n",
       "      <td>0.285365</td>\n",
       "      <td>0.407872</td>\n",
       "      <td>0.504907</td>\n",
       "      <td>00:00</td>\n",
       "    </tr>\n",
       "    <tr>\n",
       "      <td>1</td>\n",
       "      <td>0.136580</td>\n",
       "      <td>0.216262</td>\n",
       "      <td>0.816977</td>\n",
       "      <td>00:00</td>\n",
       "    </tr>\n",
       "    <tr>\n",
       "      <td>2</td>\n",
       "      <td>0.077058</td>\n",
       "      <td>0.111180</td>\n",
       "      <td>0.917076</td>\n",
       "      <td>00:00</td>\n",
       "    </tr>\n",
       "    <tr>\n",
       "      <td>3</td>\n",
       "      <td>0.051522</td>\n",
       "      <td>0.076060</td>\n",
       "      <td>0.941609</td>\n",
       "      <td>00:00</td>\n",
       "    </tr>\n",
       "    <tr>\n",
       "      <td>4</td>\n",
       "      <td>0.039560</td>\n",
       "      <td>0.059735</td>\n",
       "      <td>0.956820</td>\n",
       "      <td>00:00</td>\n",
       "    </tr>\n",
       "    <tr>\n",
       "      <td>5</td>\n",
       "      <td>0.033371</td>\n",
       "      <td>0.050517</td>\n",
       "      <td>0.963690</td>\n",
       "      <td>00:00</td>\n",
       "    </tr>\n",
       "    <tr>\n",
       "      <td>6</td>\n",
       "      <td>0.029763</td>\n",
       "      <td>0.044687</td>\n",
       "      <td>0.965653</td>\n",
       "      <td>00:00</td>\n",
       "    </tr>\n",
       "    <tr>\n",
       "      <td>7</td>\n",
       "      <td>0.027386</td>\n",
       "      <td>0.040706</td>\n",
       "      <td>0.968106</td>\n",
       "      <td>00:00</td>\n",
       "    </tr>\n",
       "    <tr>\n",
       "      <td>8</td>\n",
       "      <td>0.025657</td>\n",
       "      <td>0.037810</td>\n",
       "      <td>0.969087</td>\n",
       "      <td>00:00</td>\n",
       "    </tr>\n",
       "    <tr>\n",
       "      <td>9</td>\n",
       "      <td>0.024312</td>\n",
       "      <td>0.035602</td>\n",
       "      <td>0.970559</td>\n",
       "      <td>00:00</td>\n",
       "    </tr>\n",
       "    <tr>\n",
       "      <td>10</td>\n",
       "      <td>0.023218</td>\n",
       "      <td>0.033850</td>\n",
       "      <td>0.971541</td>\n",
       "      <td>00:00</td>\n",
       "    </tr>\n",
       "    <tr>\n",
       "      <td>11</td>\n",
       "      <td>0.022302</td>\n",
       "      <td>0.032416</td>\n",
       "      <td>0.972522</td>\n",
       "      <td>00:00</td>\n",
       "    </tr>\n",
       "    <tr>\n",
       "      <td>12</td>\n",
       "      <td>0.021520</td>\n",
       "      <td>0.031209</td>\n",
       "      <td>0.973994</td>\n",
       "      <td>00:00</td>\n",
       "    </tr>\n",
       "    <tr>\n",
       "      <td>13</td>\n",
       "      <td>0.020842</td>\n",
       "      <td>0.030170</td>\n",
       "      <td>0.974485</td>\n",
       "      <td>00:00</td>\n",
       "    </tr>\n",
       "    <tr>\n",
       "      <td>14</td>\n",
       "      <td>0.020248</td>\n",
       "      <td>0.029259</td>\n",
       "      <td>0.975466</td>\n",
       "      <td>00:00</td>\n",
       "    </tr>\n",
       "    <tr>\n",
       "      <td>15</td>\n",
       "      <td>0.019721</td>\n",
       "      <td>0.028452</td>\n",
       "      <td>0.975466</td>\n",
       "      <td>00:00</td>\n",
       "    </tr>\n",
       "    <tr>\n",
       "      <td>16</td>\n",
       "      <td>0.019249</td>\n",
       "      <td>0.027728</td>\n",
       "      <td>0.976938</td>\n",
       "      <td>00:00</td>\n",
       "    </tr>\n",
       "    <tr>\n",
       "      <td>17</td>\n",
       "      <td>0.018823</td>\n",
       "      <td>0.027075</td>\n",
       "      <td>0.976938</td>\n",
       "      <td>00:00</td>\n",
       "    </tr>\n",
       "    <tr>\n",
       "      <td>18</td>\n",
       "      <td>0.018434</td>\n",
       "      <td>0.026484</td>\n",
       "      <td>0.977920</td>\n",
       "      <td>00:00</td>\n",
       "    </tr>\n",
       "    <tr>\n",
       "      <td>19</td>\n",
       "      <td>0.018079</td>\n",
       "      <td>0.025946</td>\n",
       "      <td>0.978901</td>\n",
       "      <td>00:00</td>\n",
       "    </tr>\n",
       "    <tr>\n",
       "      <td>20</td>\n",
       "      <td>0.017751</td>\n",
       "      <td>0.025454</td>\n",
       "      <td>0.978901</td>\n",
       "      <td>00:00</td>\n",
       "    </tr>\n",
       "    <tr>\n",
       "      <td>21</td>\n",
       "      <td>0.017448</td>\n",
       "      <td>0.025004</td>\n",
       "      <td>0.979392</td>\n",
       "      <td>00:00</td>\n",
       "    </tr>\n",
       "    <tr>\n",
       "      <td>22</td>\n",
       "      <td>0.017165</td>\n",
       "      <td>0.024589</td>\n",
       "      <td>0.979882</td>\n",
       "      <td>00:00</td>\n",
       "    </tr>\n",
       "    <tr>\n",
       "      <td>23</td>\n",
       "      <td>0.016902</td>\n",
       "      <td>0.024207</td>\n",
       "      <td>0.980373</td>\n",
       "      <td>00:00</td>\n",
       "    </tr>\n",
       "    <tr>\n",
       "      <td>24</td>\n",
       "      <td>0.016654</td>\n",
       "      <td>0.023854</td>\n",
       "      <td>0.980373</td>\n",
       "      <td>00:00</td>\n",
       "    </tr>\n",
       "    <tr>\n",
       "      <td>25</td>\n",
       "      <td>0.016421</td>\n",
       "      <td>0.023527</td>\n",
       "      <td>0.980864</td>\n",
       "      <td>00:00</td>\n",
       "    </tr>\n",
       "    <tr>\n",
       "      <td>26</td>\n",
       "      <td>0.016201</td>\n",
       "      <td>0.023224</td>\n",
       "      <td>0.980864</td>\n",
       "      <td>00:00</td>\n",
       "    </tr>\n",
       "    <tr>\n",
       "      <td>27</td>\n",
       "      <td>0.015993</td>\n",
       "      <td>0.022941</td>\n",
       "      <td>0.981354</td>\n",
       "      <td>00:00</td>\n",
       "    </tr>\n",
       "    <tr>\n",
       "      <td>28</td>\n",
       "      <td>0.015796</td>\n",
       "      <td>0.022678</td>\n",
       "      <td>0.981354</td>\n",
       "      <td>00:00</td>\n",
       "    </tr>\n",
       "    <tr>\n",
       "      <td>29</td>\n",
       "      <td>0.015608</td>\n",
       "      <td>0.022433</td>\n",
       "      <td>0.981354</td>\n",
       "      <td>00:00</td>\n",
       "    </tr>\n",
       "    <tr>\n",
       "      <td>30</td>\n",
       "      <td>0.015430</td>\n",
       "      <td>0.022203</td>\n",
       "      <td>0.981354</td>\n",
       "      <td>00:00</td>\n",
       "    </tr>\n",
       "    <tr>\n",
       "      <td>31</td>\n",
       "      <td>0.015260</td>\n",
       "      <td>0.021988</td>\n",
       "      <td>0.981845</td>\n",
       "      <td>00:00</td>\n",
       "    </tr>\n",
       "    <tr>\n",
       "      <td>32</td>\n",
       "      <td>0.015098</td>\n",
       "      <td>0.021786</td>\n",
       "      <td>0.982336</td>\n",
       "      <td>00:00</td>\n",
       "    </tr>\n",
       "    <tr>\n",
       "      <td>33</td>\n",
       "      <td>0.014942</td>\n",
       "      <td>0.021596</td>\n",
       "      <td>0.982826</td>\n",
       "      <td>00:00</td>\n",
       "    </tr>\n",
       "    <tr>\n",
       "      <td>34</td>\n",
       "      <td>0.014793</td>\n",
       "      <td>0.021417</td>\n",
       "      <td>0.983317</td>\n",
       "      <td>00:00</td>\n",
       "    </tr>\n",
       "    <tr>\n",
       "      <td>35</td>\n",
       "      <td>0.014650</td>\n",
       "      <td>0.021248</td>\n",
       "      <td>0.982826</td>\n",
       "      <td>00:00</td>\n",
       "    </tr>\n",
       "    <tr>\n",
       "      <td>36</td>\n",
       "      <td>0.014512</td>\n",
       "      <td>0.021088</td>\n",
       "      <td>0.982336</td>\n",
       "      <td>00:00</td>\n",
       "    </tr>\n",
       "    <tr>\n",
       "      <td>37</td>\n",
       "      <td>0.014379</td>\n",
       "      <td>0.020936</td>\n",
       "      <td>0.982826</td>\n",
       "      <td>00:00</td>\n",
       "    </tr>\n",
       "    <tr>\n",
       "      <td>38</td>\n",
       "      <td>0.014251</td>\n",
       "      <td>0.020792</td>\n",
       "      <td>0.982826</td>\n",
       "      <td>00:00</td>\n",
       "    </tr>\n",
       "    <tr>\n",
       "      <td>39</td>\n",
       "      <td>0.014128</td>\n",
       "      <td>0.020655</td>\n",
       "      <td>0.982826</td>\n",
       "      <td>00:00</td>\n",
       "    </tr>\n",
       "  </tbody>\n",
       "</table>"
      ],
      "text/plain": [
       "<IPython.core.display.HTML object>"
      ]
     },
     "metadata": {},
     "output_type": "display_data"
    }
   ],
   "source": [
    "simple_net = nn.Sequential(\n",
    "    nn.Linear(28*28, 30),\n",
    "    nn.ReLU(),\n",
    "    nn.Linear(30, 1)\n",
    ")\n",
    "learn = Learner(\n",
    "    dls,\n",
    "    simple_net,\n",
    "    opt_func = SGD,\n",
    "    loss_func = mnist_loss,\n",
    "    metrics = batch_accuracy\n",
    ")\n",
    "learn.fit(40, 0.1)"
   ]
  },
  {
   "cell_type": "code",
   "execution_count": 155,
   "metadata": {},
   "outputs": [
    {
     "data": {
      "text/plain": [
       "0.982826292514801"
      ]
     },
     "execution_count": 155,
     "metadata": {},
     "output_type": "execute_result"
    }
   ],
   "source": [
    "learn.recorder.values[-1][2]"
   ]
  },
  {
   "cell_type": "markdown",
   "metadata": {},
   "source": [
    "# going deeper"
   ]
  },
  {
   "cell_type": "code",
   "execution_count": 157,
   "metadata": {},
   "outputs": [
    {
     "data": {
      "text/html": [
       "<table border=\"1\" class=\"dataframe\">\n",
       "  <thead>\n",
       "    <tr style=\"text-align: left;\">\n",
       "      <th>epoch</th>\n",
       "      <th>train_loss</th>\n",
       "      <th>valid_loss</th>\n",
       "      <th>accuracy</th>\n",
       "      <th>time</th>\n",
       "    </tr>\n",
       "  </thead>\n",
       "  <tbody>\n",
       "    <tr>\n",
       "      <td>0</td>\n",
       "      <td>0.105506</td>\n",
       "      <td>0.017394</td>\n",
       "      <td>0.996565</td>\n",
       "      <td>00:16</td>\n",
       "    </tr>\n",
       "  </tbody>\n",
       "</table>"
      ],
      "text/plain": [
       "<IPython.core.display.HTML object>"
      ]
     },
     "metadata": {},
     "output_type": "display_data"
    }
   ],
   "source": [
    "dls = ImageDataLoaders.from_folder(path)\n",
    "learn = vision_learner(\n",
    "    dls,\n",
    "    resnet18,\n",
    "    pretrained=False,\n",
    "    loss_func = F.cross_entropy,\n",
    "    metrics = accuracy\n",
    ")\n",
    "learn.fit_one_cycle(1, 0.1)"
   ]
  },
  {
   "cell_type": "code",
   "execution_count": null,
   "metadata": {},
   "outputs": [],
   "source": []
  }
 ],
 "metadata": {
  "kernelspec": {
   "display_name": "Python 3 (ipykernel)",
   "language": "python",
   "name": "python3"
  },
  "language_info": {
   "codemirror_mode": {
    "name": "ipython",
    "version": 3
   },
   "file_extension": ".py",
   "mimetype": "text/x-python",
   "name": "python",
   "nbconvert_exporter": "python",
   "pygments_lexer": "ipython3",
   "version": "3.7.11"
  },
  "orig_nbformat": 4
 },
 "nbformat": 4,
 "nbformat_minor": 2
}
