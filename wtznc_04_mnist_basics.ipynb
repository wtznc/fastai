{
 "cells": [
  {
   "cell_type": "code",
   "execution_count": 71,
   "id": "a8c28943-bbcd-4bc7-a799-7950bb61a569",
   "metadata": {},
   "outputs": [],
   "source": [
    "! [ -e /content ] && pip install -Uqq fastbook"
   ]
  },
  {
   "cell_type": "code",
   "execution_count": 72,
   "id": "f75075b5-ffa0-4c2a-ae09-d587ebaa20e2",
   "metadata": {},
   "outputs": [],
   "source": [
    "import fastbook\n",
    "fastbook.setup_book()\n",
    "from fastai.vision.all import *\n",
    "from fastbook import *"
   ]
  },
  {
   "cell_type": "code",
   "execution_count": 73,
   "id": "3cf0b024-f18e-4ecd-a9bc-fbe5dee90783",
   "metadata": {},
   "outputs": [],
   "source": [
    "matplotlib.rc('image', cmap='Greys')"
   ]
  },
  {
   "cell_type": "markdown",
   "id": "6db098f9-1599-479b-92f4-e35100bf2fce",
   "metadata": {},
   "source": [
    "For the purpose of this notebook, I'm going to try to create a model that can classify any images as 3 or a 7."
   ]
  },
  {
   "cell_type": "code",
   "execution_count": 74,
   "id": "92d0b791-1e97-4f4e-abdd-c392e5ce1031",
   "metadata": {},
   "outputs": [],
   "source": [
    "path = untar_data(URLs.MNIST_SAMPLE)"
   ]
  },
  {
   "cell_type": "code",
   "execution_count": 75,
   "id": "1f4e0e9f-0c7a-4ca3-b700-e964ec4709af",
   "metadata": {},
   "outputs": [],
   "source": [
    "Path.BASE_PATH = path"
   ]
  },
  {
   "cell_type": "code",
   "execution_count": 76,
   "id": "54dee35e-0393-4b38-8aab-332150213757",
   "metadata": {},
   "outputs": [
    {
     "data": {
      "text/plain": [
       "(#3) [Path('train'),Path('labels.csv'),Path('valid')]"
      ]
     },
     "execution_count": 76,
     "metadata": {},
     "output_type": "execute_result"
    }
   ],
   "source": [
    "path.ls()"
   ]
  },
  {
   "cell_type": "markdown",
   "id": "eee8ad1b-9f7a-4f70-8443-2a630cba9cd8",
   "metadata": {},
   "source": [
    "It follows a common layout for machine learning datasets: separate folders for the training set and the validation set (and / or test set)"
   ]
  },
  {
   "cell_type": "code",
   "execution_count": 77,
   "id": "a766b664-b2e3-422c-8b1e-8ef660915fa3",
   "metadata": {},
   "outputs": [
    {
     "data": {
      "text/plain": [
       "(#2) [Path('train/3'),Path('train/7')]"
      ]
     },
     "execution_count": 77,
     "metadata": {},
     "output_type": "execute_result"
    }
   ],
   "source": [
    "(path/'train').ls()"
   ]
  },
  {
   "cell_type": "code",
   "execution_count": 78,
   "id": "1258e0f6-a1c4-4039-b262-ad3669391f64",
   "metadata": {},
   "outputs": [],
   "source": [
    "threes = (path/'train'/'3').ls().sorted()\n",
    "sevens = (path/'train'/'7').ls().sorted()"
   ]
  },
  {
   "cell_type": "code",
   "execution_count": 79,
   "id": "457f9b26-54de-40a5-a019-0dbc99dca3ff",
   "metadata": {},
   "outputs": [
    {
     "data": {
      "text/plain": [
       "(#6131) [Path('train/3/10.png'),Path('train/3/10000.png'),Path('train/3/10011.png'),Path('train/3/10031.png'),Path('train/3/10034.png'),Path('train/3/10042.png'),Path('train/3/10052.png'),Path('train/3/1007.png'),Path('train/3/10074.png'),Path('train/3/10091.png')...]"
      ]
     },
     "execution_count": 79,
     "metadata": {},
     "output_type": "execute_result"
    }
   ],
   "source": [
    "threes"
   ]
  },
  {
   "cell_type": "code",
   "execution_count": 80,
   "id": "35e9d83a-7b79-4e1e-8c8a-16be96580a89",
   "metadata": {},
   "outputs": [
    {
     "data": {
      "image/png": "[encoded data removed]",
      "text/plain": [
       "<PIL.PngImagePlugin.PngImageFile image mode=L size=28x28 at 0x7F377AD82E50>"
      ]
     },
     "execution_count": 80,
     "metadata": {},
     "output_type": "execute_result"
    }
   ],
   "source": [
    "single_im3_path = threes[1]\n",
    "single_im3 = Image.open(single_im3_path)\n",
    "single_im3"
   ]
  },
  {
   "cell_type": "code",
   "execution_count": 81,
   "id": "ab96fd81-c614-499a-8633-7deb9a208aa3",
   "metadata": {},
   "outputs": [],
   "source": [
    "im3 = single_im3"
   ]
  },
  {
   "cell_type": "code",
   "execution_count": 82,
   "id": "85654ed1-ffe7-4c6e-841c-f436e2b3a611",
   "metadata": {},
   "outputs": [
    {
     "data": {
      "text/plain": [
       "array([[  0,   0,   0,   0,   0,   0],\n",
       "       [  0,   0,   0,   0,   0,  29],\n",
       "       [  0,   0,   0,  48, 166, 224],\n",
       "       [  0,  93, 244, 249, 253, 187],\n",
       "       [  0, 107, 253, 253, 230,  48],\n",
       "       [  0,   3,  20,  20,  15,   0]], dtype=uint8)"
      ]
     },
     "execution_count": 82,
     "metadata": {},
     "output_type": "execute_result"
    }
   ],
   "source": [
    "array(im3)[4:10, 4:10] # we're requesting the rows from index 4 (included) to 10 (not included)"
   ]
  },
  {
   "cell_type": "code",
   "execution_count": 83,
   "id": "31c98a1a-afe0-4920-a1b8-9cc0a6c309e2",
   "metadata": {},
   "outputs": [
    {
     "data": {
      "text/plain": [
       "tensor([[  0,   0,   0,   0,   0, 107, 253, 253, 230,  48,   0,   0,   0,   0,   0, 192, 253, 253, 156,   0,   0,   0,   0,   0,   0,   0,   0,   0],\n",
       "        [  0,   0,   0,   0,   0,   3,  20,  20,  15,   0,   0,   0,   0,   0,  43, 224, 253, 245,  74,   0,   0,   0,   0,   0,   0,   0,   0,   0]], dtype=torch.uint8)"
      ]
     },
     "execution_count": 83,
     "metadata": {},
     "output_type": "execute_result"
    }
   ],
   "source": [
    "tensor(im3)[4:10][4:10]"
   ]
  },
  {
   "cell_type": "code",
   "execution_count": 84,
   "id": "5ade1478-105a-4794-970b-af9ee25e4696",
   "metadata": {},
   "outputs": [],
   "source": [
    "im3_t = tensor(im3)"
   ]
  },
  {
   "cell_type": "code",
   "execution_count": 85,
   "id": "842b522f-aaa6-4f78-8e83-feab104b26f0",
   "metadata": {},
   "outputs": [
    {
     "data": {
      "text/html": [
       "<style type=\"text/css\">\n",
       "#T_ae501_row0_col0, #T_ae501_row0_col1, #T_ae501_row0_col2, #T_ae501_row0_col3, #T_ae501_row0_col4, #T_ae501_row0_col5, #T_ae501_row0_col6, #T_ae501_row0_col7, #T_ae501_row0_col8, #T_ae501_row0_col9, #T_ae501_row0_col10, #T_ae501_row0_col11, #T_ae501_row0_col12, #T_ae501_row0_col13, #T_ae501_row0_col14, #T_ae501_row0_col15, #T_ae501_row0_col16, #T_ae501_row0_col17, #T_ae501_row1_col0, #T_ae501_row1_col1, #T_ae501_row1_col2, #T_ae501_row1_col3, #T_ae501_row1_col4, #T_ae501_row1_col15, #T_ae501_row1_col16, #T_ae501_row1_col17, #T_ae501_row2_col0, #T_ae501_row2_col1, #T_ae501_row2_col2, #T_ae501_row2_col15, #T_ae501_row2_col16, #T_ae501_row2_col17, #T_ae501_row3_col0, #T_ae501_row3_col15, #T_ae501_row3_col16, #T_ae501_row3_col17, #T_ae501_row4_col0, #T_ae501_row4_col6, #T_ae501_row4_col7, #T_ae501_row4_col8, #T_ae501_row4_col9, #T_ae501_row4_col10, #T_ae501_row4_col15, #T_ae501_row4_col16, #T_ae501_row4_col17, #T_ae501_row5_col0, #T_ae501_row5_col5, #T_ae501_row5_col6, #T_ae501_row5_col7, #T_ae501_row5_col8, #T_ae501_row5_col9, #T_ae501_row5_col15, #T_ae501_row5_col16, #T_ae501_row5_col17, #T_ae501_row6_col0, #T_ae501_row6_col1, #T_ae501_row6_col2, #T_ae501_row6_col3, #T_ae501_row6_col4, #T_ae501_row6_col5, #T_ae501_row6_col6, #T_ae501_row6_col7, #T_ae501_row6_col8, #T_ae501_row6_col9, #T_ae501_row6_col14, #T_ae501_row6_col15, #T_ae501_row6_col16, #T_ae501_row6_col17, #T_ae501_row7_col0, #T_ae501_row7_col1, #T_ae501_row7_col2, #T_ae501_row7_col3, #T_ae501_row7_col4, #T_ae501_row7_col5, #T_ae501_row7_col6, #T_ae501_row7_col13, #T_ae501_row7_col14, #T_ae501_row7_col15, #T_ae501_row7_col16, #T_ae501_row7_col17, #T_ae501_row8_col0, #T_ae501_row8_col1, #T_ae501_row8_col2, #T_ae501_row8_col3, #T_ae501_row8_col4, #T_ae501_row8_col13, #T_ae501_row8_col14, #T_ae501_row8_col15, #T_ae501_row8_col16, #T_ae501_row8_col17, #T_ae501_row9_col0, #T_ae501_row9_col1, #T_ae501_row9_col2, #T_ae501_row9_col3, #T_ae501_row9_col4, #T_ae501_row9_col16, #T_ae501_row9_col17, #T_ae501_row10_col0, #T_ae501_row10_col1, #T_ae501_row10_col2, #T_ae501_row10_col3, #T_ae501_row10_col4, #T_ae501_row10_col5, #T_ae501_row10_col6, #T_ae501_row10_col17 {\n",
       "  font-size: 6pt;\n",
       "  background-color: #ffffff;\n",
       "  color: #000000;\n",
       "}\n",
       "#T_ae501_row1_col5 {\n",
       "  font-size: 6pt;\n",
       "  background-color: #efefef;\n",
       "  color: #000000;\n",
       "}\n",
       "#T_ae501_row1_col6, #T_ae501_row1_col13 {\n",
       "  font-size: 6pt;\n",
       "  background-color: #7c7c7c;\n",
       "  color: #f1f1f1;\n",
       "}\n",
       "#T_ae501_row1_col7 {\n",
       "  font-size: 6pt;\n",
       "  background-color: #4a4a4a;\n",
       "  color: #f1f1f1;\n",
       "}\n",
       "#T_ae501_row1_col8, #T_ae501_row1_col9, #T_ae501_row1_col10, #T_ae501_row2_col5, #T_ae501_row2_col6, #T_ae501_row2_col7, #T_ae501_row2_col11, #T_ae501_row2_col12, #T_ae501_row2_col13, #T_ae501_row3_col4, #T_ae501_row3_col12, #T_ae501_row3_col13, #T_ae501_row4_col1, #T_ae501_row4_col2, #T_ae501_row4_col3, #T_ae501_row4_col12, #T_ae501_row4_col13, #T_ae501_row5_col12, #T_ae501_row6_col11, #T_ae501_row9_col11, #T_ae501_row10_col11, #T_ae501_row10_col12, #T_ae501_row10_col13, #T_ae501_row10_col14, #T_ae501_row10_col15, #T_ae501_row10_col16 {\n",
       "  font-size: 6pt;\n",
       "  background-color: #000000;\n",
       "  color: #f1f1f1;\n",
       "}\n",
       "#T_ae501_row1_col11 {\n",
       "  font-size: 6pt;\n",
       "  background-color: #606060;\n",
       "  color: #f1f1f1;\n",
       "}\n",
       "#T_ae501_row1_col12 {\n",
       "  font-size: 6pt;\n",
       "  background-color: #4d4d4d;\n",
       "  color: #f1f1f1;\n",
       "}\n",
       "#T_ae501_row1_col14 {\n",
       "  font-size: 6pt;\n",
       "  background-color: #bbbbbb;\n",
       "  color: #000000;\n",
       "}\n",
       "#T_ae501_row2_col3 {\n",
       "  font-size: 6pt;\n",
       "  background-color: #e4e4e4;\n",
       "  color: #000000;\n",
       "}\n",
       "#T_ae501_row2_col4, #T_ae501_row8_col6 {\n",
       "  font-size: 6pt;\n",
       "  background-color: #6b6b6b;\n",
       "  color: #f1f1f1;\n",
       "}\n",
       "#T_ae501_row2_col8, #T_ae501_row2_col14, #T_ae501_row3_col14 {\n",
       "  font-size: 6pt;\n",
       "  background-color: #171717;\n",
       "  color: #f1f1f1;\n",
       "}\n",
       "#T_ae501_row2_col9, #T_ae501_row3_col11 {\n",
       "  font-size: 6pt;\n",
       "  background-color: #4b4b4b;\n",
       "  color: #f1f1f1;\n",
       "}\n",
       "#T_ae501_row2_col10, #T_ae501_row7_col10, #T_ae501_row8_col8, #T_ae501_row8_col10, #T_ae501_row9_col8, #T_ae501_row9_col10 {\n",
       "  font-size: 6pt;\n",
       "  background-color: #010101;\n",
       "  color: #f1f1f1;\n",
       "}\n",
       "#T_ae501_row3_col1 {\n",
       "  font-size: 6pt;\n",
       "  background-color: #272727;\n",
       "  color: #f1f1f1;\n",
       "}\n",
       "#T_ae501_row3_col2 {\n",
       "  font-size: 6pt;\n",
       "  background-color: #0a0a0a;\n",
       "  color: #f1f1f1;\n",
       "}\n",
       "#T_ae501_row3_col3 {\n",
       "  font-size: 6pt;\n",
       "  background-color: #050505;\n",
       "  color: #f1f1f1;\n",
       "}\n",
       "#T_ae501_row3_col5 {\n",
       "  font-size: 6pt;\n",
       "  background-color: #333333;\n",
       "  color: #f1f1f1;\n",
       "}\n",
       "#T_ae501_row3_col6 {\n",
       "  font-size: 6pt;\n",
       "  background-color: #e6e6e6;\n",
       "  color: #000000;\n",
       "}\n",
       "#T_ae501_row3_col7, #T_ae501_row3_col10 {\n",
       "  font-size: 6pt;\n",
       "  background-color: #fafafa;\n",
       "  color: #000000;\n",
       "}\n",
       "#T_ae501_row3_col8 {\n",
       "  font-size: 6pt;\n",
       "  background-color: #fbfbfb;\n",
       "  color: #000000;\n",
       "}\n",
       "#T_ae501_row3_col9 {\n",
       "  font-size: 6pt;\n",
       "  background-color: #fdfdfd;\n",
       "  color: #000000;\n",
       "}\n",
       "#T_ae501_row4_col4 {\n",
       "  font-size: 6pt;\n",
       "  background-color: #1b1b1b;\n",
       "  color: #f1f1f1;\n",
       "}\n",
       "#T_ae501_row4_col5 {\n",
       "  font-size: 6pt;\n",
       "  background-color: #e0e0e0;\n",
       "  color: #000000;\n",
       "}\n",
       "#T_ae501_row4_col11 {\n",
       "  font-size: 6pt;\n",
       "  background-color: #4e4e4e;\n",
       "  color: #f1f1f1;\n",
       "}\n",
       "#T_ae501_row4_col14 {\n",
       "  font-size: 6pt;\n",
       "  background-color: #767676;\n",
       "  color: #f1f1f1;\n",
       "}\n",
       "#T_ae501_row5_col1 {\n",
       "  font-size: 6pt;\n",
       "  background-color: #fcfcfc;\n",
       "  color: #000000;\n",
       "}\n",
       "#T_ae501_row5_col2, #T_ae501_row5_col3 {\n",
       "  font-size: 6pt;\n",
       "  background-color: #f6f6f6;\n",
       "  color: #000000;\n",
       "}\n",
       "#T_ae501_row5_col4, #T_ae501_row7_col7 {\n",
       "  font-size: 6pt;\n",
       "  background-color: #f8f8f8;\n",
       "  color: #000000;\n",
       "}\n",
       "#T_ae501_row5_col10, #T_ae501_row10_col7 {\n",
       "  font-size: 6pt;\n",
       "  background-color: #e8e8e8;\n",
       "  color: #000000;\n",
       "}\n",
       "#T_ae501_row5_col11 {\n",
       "  font-size: 6pt;\n",
       "  background-color: #222222;\n",
       "  color: #f1f1f1;\n",
       "}\n",
       "#T_ae501_row5_col13, #T_ae501_row6_col12 {\n",
       "  font-size: 6pt;\n",
       "  background-color: #090909;\n",
       "  color: #f1f1f1;\n",
       "}\n",
       "#T_ae501_row5_col14 {\n",
       "  font-size: 6pt;\n",
       "  background-color: #d0d0d0;\n",
       "  color: #000000;\n",
       "}\n",
       "#T_ae501_row6_col10, #T_ae501_row7_col11, #T_ae501_row9_col6 {\n",
       "  font-size: 6pt;\n",
       "  background-color: #060606;\n",
       "  color: #f1f1f1;\n",
       "}\n",
       "#T_ae501_row6_col13 {\n",
       "  font-size: 6pt;\n",
       "  background-color: #979797;\n",
       "  color: #f1f1f1;\n",
       "}\n",
       "#T_ae501_row7_col8 {\n",
       "  font-size: 6pt;\n",
       "  background-color: #b6b6b6;\n",
       "  color: #000000;\n",
       "}\n",
       "#T_ae501_row7_col9 {\n",
       "  font-size: 6pt;\n",
       "  background-color: #252525;\n",
       "  color: #f1f1f1;\n",
       "}\n",
       "#T_ae501_row7_col12 {\n",
       "  font-size: 6pt;\n",
       "  background-color: #999999;\n",
       "  color: #f1f1f1;\n",
       "}\n",
       "#T_ae501_row8_col5 {\n",
       "  font-size: 6pt;\n",
       "  background-color: #f9f9f9;\n",
       "  color: #000000;\n",
       "}\n",
       "#T_ae501_row8_col7 {\n",
       "  font-size: 6pt;\n",
       "  background-color: #101010;\n",
       "  color: #f1f1f1;\n",
       "}\n",
       "#T_ae501_row8_col9, #T_ae501_row9_col9 {\n",
       "  font-size: 6pt;\n",
       "  background-color: #020202;\n",
       "  color: #f1f1f1;\n",
       "}\n",
       "#T_ae501_row8_col11 {\n",
       "  font-size: 6pt;\n",
       "  background-color: #545454;\n",
       "  color: #f1f1f1;\n",
       "}\n",
       "#T_ae501_row8_col12 {\n",
       "  font-size: 6pt;\n",
       "  background-color: #f1f1f1;\n",
       "  color: #000000;\n",
       "}\n",
       "#T_ae501_row9_col5 {\n",
       "  font-size: 6pt;\n",
       "  background-color: #f7f7f7;\n",
       "  color: #000000;\n",
       "}\n",
       "#T_ae501_row9_col7 {\n",
       "  font-size: 6pt;\n",
       "  background-color: #030303;\n",
       "  color: #f1f1f1;\n",
       "}\n",
       "#T_ae501_row9_col12 {\n",
       "  font-size: 6pt;\n",
       "  background-color: #181818;\n",
       "  color: #f1f1f1;\n",
       "}\n",
       "#T_ae501_row9_col13 {\n",
       "  font-size: 6pt;\n",
       "  background-color: #303030;\n",
       "  color: #f1f1f1;\n",
       "}\n",
       "#T_ae501_row9_col14 {\n",
       "  font-size: 6pt;\n",
       "  background-color: #a9a9a9;\n",
       "  color: #f1f1f1;\n",
       "}\n",
       "#T_ae501_row9_col15 {\n",
       "  font-size: 6pt;\n",
       "  background-color: #fefefe;\n",
       "  color: #000000;\n",
       "}\n",
       "#T_ae501_row10_col8, #T_ae501_row10_col9 {\n",
       "  font-size: 6pt;\n",
       "  background-color: #bababa;\n",
       "  color: #000000;\n",
       "}\n",
       "#T_ae501_row10_col10 {\n",
       "  font-size: 6pt;\n",
       "  background-color: #393939;\n",
       "  color: #f1f1f1;\n",
       "}\n",
       "</style>\n",
       "<table id=\"T_ae501_\">\n",
       "  <thead>\n",
       "    <tr>\n",
       "      <th class=\"blank level0\" >&nbsp;</th>\n",
       "      <th class=\"col_heading level0 col0\" >0</th>\n",
       "      <th class=\"col_heading level0 col1\" >1</th>\n",
       "      <th class=\"col_heading level0 col2\" >2</th>\n",
       "      <th class=\"col_heading level0 col3\" >3</th>\n",
       "      <th class=\"col_heading level0 col4\" >4</th>\n",
       "      <th class=\"col_heading level0 col5\" >5</th>\n",
       "      <th class=\"col_heading level0 col6\" >6</th>\n",
       "      <th class=\"col_heading level0 col7\" >7</th>\n",
       "      <th class=\"col_heading level0 col8\" >8</th>\n",
       "      <th class=\"col_heading level0 col9\" >9</th>\n",
       "      <th class=\"col_heading level0 col10\" >10</th>\n",
       "      <th class=\"col_heading level0 col11\" >11</th>\n",
       "      <th class=\"col_heading level0 col12\" >12</th>\n",
       "      <th class=\"col_heading level0 col13\" >13</th>\n",
       "      <th class=\"col_heading level0 col14\" >14</th>\n",
       "      <th class=\"col_heading level0 col15\" >15</th>\n",
       "      <th class=\"col_heading level0 col16\" >16</th>\n",
       "      <th class=\"col_heading level0 col17\" >17</th>\n",
       "    </tr>\n",
       "  </thead>\n",
       "  <tbody>\n",
       "    <tr>\n",
       "      <th id=\"T_ae501_level0_row0\" class=\"row_heading level0 row0\" >0</th>\n",
       "      <td id=\"T_ae501_row0_col0\" class=\"data row0 col0\" >0</td>\n",
       "      <td id=\"T_ae501_row0_col1\" class=\"data row0 col1\" >0</td>\n",
       "      <td id=\"T_ae501_row0_col2\" class=\"data row0 col2\" >0</td>\n",
       "      <td id=\"T_ae501_row0_col3\" class=\"data row0 col3\" >0</td>\n",
       "      <td id=\"T_ae501_row0_col4\" class=\"data row0 col4\" >0</td>\n",
       "      <td id=\"T_ae501_row0_col5\" class=\"data row0 col5\" >0</td>\n",
       "      <td id=\"T_ae501_row0_col6\" class=\"data row0 col6\" >0</td>\n",
       "      <td id=\"T_ae501_row0_col7\" class=\"data row0 col7\" >0</td>\n",
       "      <td id=\"T_ae501_row0_col8\" class=\"data row0 col8\" >0</td>\n",
       "      <td id=\"T_ae501_row0_col9\" class=\"data row0 col9\" >0</td>\n",
       "      <td id=\"T_ae501_row0_col10\" class=\"data row0 col10\" >0</td>\n",
       "      <td id=\"T_ae501_row0_col11\" class=\"data row0 col11\" >0</td>\n",
       "      <td id=\"T_ae501_row0_col12\" class=\"data row0 col12\" >0</td>\n",
       "      <td id=\"T_ae501_row0_col13\" class=\"data row0 col13\" >0</td>\n",
       "      <td id=\"T_ae501_row0_col14\" class=\"data row0 col14\" >0</td>\n",
       "      <td id=\"T_ae501_row0_col15\" class=\"data row0 col15\" >0</td>\n",
       "      <td id=\"T_ae501_row0_col16\" class=\"data row0 col16\" >0</td>\n",
       "      <td id=\"T_ae501_row0_col17\" class=\"data row0 col17\" >0</td>\n",
       "    </tr>\n",
       "    <tr>\n",
       "      <th id=\"T_ae501_level0_row1\" class=\"row_heading level0 row1\" >1</th>\n",
       "      <td id=\"T_ae501_row1_col0\" class=\"data row1 col0\" >0</td>\n",
       "      <td id=\"T_ae501_row1_col1\" class=\"data row1 col1\" >0</td>\n",
       "      <td id=\"T_ae501_row1_col2\" class=\"data row1 col2\" >0</td>\n",
       "      <td id=\"T_ae501_row1_col3\" class=\"data row1 col3\" >0</td>\n",
       "      <td id=\"T_ae501_row1_col4\" class=\"data row1 col4\" >0</td>\n",
       "      <td id=\"T_ae501_row1_col5\" class=\"data row1 col5\" >29</td>\n",
       "      <td id=\"T_ae501_row1_col6\" class=\"data row1 col6\" >150</td>\n",
       "      <td id=\"T_ae501_row1_col7\" class=\"data row1 col7\" >195</td>\n",
       "      <td id=\"T_ae501_row1_col8\" class=\"data row1 col8\" >254</td>\n",
       "      <td id=\"T_ae501_row1_col9\" class=\"data row1 col9\" >255</td>\n",
       "      <td id=\"T_ae501_row1_col10\" class=\"data row1 col10\" >254</td>\n",
       "      <td id=\"T_ae501_row1_col11\" class=\"data row1 col11\" >176</td>\n",
       "      <td id=\"T_ae501_row1_col12\" class=\"data row1 col12\" >193</td>\n",
       "      <td id=\"T_ae501_row1_col13\" class=\"data row1 col13\" >150</td>\n",
       "      <td id=\"T_ae501_row1_col14\" class=\"data row1 col14\" >96</td>\n",
       "      <td id=\"T_ae501_row1_col15\" class=\"data row1 col15\" >0</td>\n",
       "      <td id=\"T_ae501_row1_col16\" class=\"data row1 col16\" >0</td>\n",
       "      <td id=\"T_ae501_row1_col17\" class=\"data row1 col17\" >0</td>\n",
       "    </tr>\n",
       "    <tr>\n",
       "      <th id=\"T_ae501_level0_row2\" class=\"row_heading level0 row2\" >2</th>\n",
       "      <td id=\"T_ae501_row2_col0\" class=\"data row2 col0\" >0</td>\n",
       "      <td id=\"T_ae501_row2_col1\" class=\"data row2 col1\" >0</td>\n",
       "      <td id=\"T_ae501_row2_col2\" class=\"data row2 col2\" >0</td>\n",
       "      <td id=\"T_ae501_row2_col3\" class=\"data row2 col3\" >48</td>\n",
       "      <td id=\"T_ae501_row2_col4\" class=\"data row2 col4\" >166</td>\n",
       "      <td id=\"T_ae501_row2_col5\" class=\"data row2 col5\" >224</td>\n",
       "      <td id=\"T_ae501_row2_col6\" class=\"data row2 col6\" >253</td>\n",
       "      <td id=\"T_ae501_row2_col7\" class=\"data row2 col7\" >253</td>\n",
       "      <td id=\"T_ae501_row2_col8\" class=\"data row2 col8\" >234</td>\n",
       "      <td id=\"T_ae501_row2_col9\" class=\"data row2 col9\" >196</td>\n",
       "      <td id=\"T_ae501_row2_col10\" class=\"data row2 col10\" >253</td>\n",
       "      <td id=\"T_ae501_row2_col11\" class=\"data row2 col11\" >253</td>\n",
       "      <td id=\"T_ae501_row2_col12\" class=\"data row2 col12\" >253</td>\n",
       "      <td id=\"T_ae501_row2_col13\" class=\"data row2 col13\" >253</td>\n",
       "      <td id=\"T_ae501_row2_col14\" class=\"data row2 col14\" >233</td>\n",
       "      <td id=\"T_ae501_row2_col15\" class=\"data row2 col15\" >0</td>\n",
       "      <td id=\"T_ae501_row2_col16\" class=\"data row2 col16\" >0</td>\n",
       "      <td id=\"T_ae501_row2_col17\" class=\"data row2 col17\" >0</td>\n",
       "    </tr>\n",
       "    <tr>\n",
       "      <th id=\"T_ae501_level0_row3\" class=\"row_heading level0 row3\" >3</th>\n",
       "      <td id=\"T_ae501_row3_col0\" class=\"data row3 col0\" >0</td>\n",
       "      <td id=\"T_ae501_row3_col1\" class=\"data row3 col1\" >93</td>\n",
       "      <td id=\"T_ae501_row3_col2\" class=\"data row3 col2\" >244</td>\n",
       "      <td id=\"T_ae501_row3_col3\" class=\"data row3 col3\" >249</td>\n",
       "      <td id=\"T_ae501_row3_col4\" class=\"data row3 col4\" >253</td>\n",
       "      <td id=\"T_ae501_row3_col5\" class=\"data row3 col5\" >187</td>\n",
       "      <td id=\"T_ae501_row3_col6\" class=\"data row3 col6\" >46</td>\n",
       "      <td id=\"T_ae501_row3_col7\" class=\"data row3 col7\" >10</td>\n",
       "      <td id=\"T_ae501_row3_col8\" class=\"data row3 col8\" >8</td>\n",
       "      <td id=\"T_ae501_row3_col9\" class=\"data row3 col9\" >4</td>\n",
       "      <td id=\"T_ae501_row3_col10\" class=\"data row3 col10\" >10</td>\n",
       "      <td id=\"T_ae501_row3_col11\" class=\"data row3 col11\" >194</td>\n",
       "      <td id=\"T_ae501_row3_col12\" class=\"data row3 col12\" >253</td>\n",
       "      <td id=\"T_ae501_row3_col13\" class=\"data row3 col13\" >253</td>\n",
       "      <td id=\"T_ae501_row3_col14\" class=\"data row3 col14\" >233</td>\n",
       "      <td id=\"T_ae501_row3_col15\" class=\"data row3 col15\" >0</td>\n",
       "      <td id=\"T_ae501_row3_col16\" class=\"data row3 col16\" >0</td>\n",
       "      <td id=\"T_ae501_row3_col17\" class=\"data row3 col17\" >0</td>\n",
       "    </tr>\n",
       "    <tr>\n",
       "      <th id=\"T_ae501_level0_row4\" class=\"row_heading level0 row4\" >4</th>\n",
       "      <td id=\"T_ae501_row4_col0\" class=\"data row4 col0\" >0</td>\n",
       "      <td id=\"T_ae501_row4_col1\" class=\"data row4 col1\" >107</td>\n",
       "      <td id=\"T_ae501_row4_col2\" class=\"data row4 col2\" >253</td>\n",
       "      <td id=\"T_ae501_row4_col3\" class=\"data row4 col3\" >253</td>\n",
       "      <td id=\"T_ae501_row4_col4\" class=\"data row4 col4\" >230</td>\n",
       "      <td id=\"T_ae501_row4_col5\" class=\"data row4 col5\" >48</td>\n",
       "      <td id=\"T_ae501_row4_col6\" class=\"data row4 col6\" >0</td>\n",
       "      <td id=\"T_ae501_row4_col7\" class=\"data row4 col7\" >0</td>\n",
       "      <td id=\"T_ae501_row4_col8\" class=\"data row4 col8\" >0</td>\n",
       "      <td id=\"T_ae501_row4_col9\" class=\"data row4 col9\" >0</td>\n",
       "      <td id=\"T_ae501_row4_col10\" class=\"data row4 col10\" >0</td>\n",
       "      <td id=\"T_ae501_row4_col11\" class=\"data row4 col11\" >192</td>\n",
       "      <td id=\"T_ae501_row4_col12\" class=\"data row4 col12\" >253</td>\n",
       "      <td id=\"T_ae501_row4_col13\" class=\"data row4 col13\" >253</td>\n",
       "      <td id=\"T_ae501_row4_col14\" class=\"data row4 col14\" >156</td>\n",
       "      <td id=\"T_ae501_row4_col15\" class=\"data row4 col15\" >0</td>\n",
       "      <td id=\"T_ae501_row4_col16\" class=\"data row4 col16\" >0</td>\n",
       "      <td id=\"T_ae501_row4_col17\" class=\"data row4 col17\" >0</td>\n",
       "    </tr>\n",
       "    <tr>\n",
       "      <th id=\"T_ae501_level0_row5\" class=\"row_heading level0 row5\" >5</th>\n",
       "      <td id=\"T_ae501_row5_col0\" class=\"data row5 col0\" >0</td>\n",
       "      <td id=\"T_ae501_row5_col1\" class=\"data row5 col1\" >3</td>\n",
       "      <td id=\"T_ae501_row5_col2\" class=\"data row5 col2\" >20</td>\n",
       "      <td id=\"T_ae501_row5_col3\" class=\"data row5 col3\" >20</td>\n",
       "      <td id=\"T_ae501_row5_col4\" class=\"data row5 col4\" >15</td>\n",
       "      <td id=\"T_ae501_row5_col5\" class=\"data row5 col5\" >0</td>\n",
       "      <td id=\"T_ae501_row5_col6\" class=\"data row5 col6\" >0</td>\n",
       "      <td id=\"T_ae501_row5_col7\" class=\"data row5 col7\" >0</td>\n",
       "      <td id=\"T_ae501_row5_col8\" class=\"data row5 col8\" >0</td>\n",
       "      <td id=\"T_ae501_row5_col9\" class=\"data row5 col9\" >0</td>\n",
       "      <td id=\"T_ae501_row5_col10\" class=\"data row5 col10\" >43</td>\n",
       "      <td id=\"T_ae501_row5_col11\" class=\"data row5 col11\" >224</td>\n",
       "      <td id=\"T_ae501_row5_col12\" class=\"data row5 col12\" >253</td>\n",
       "      <td id=\"T_ae501_row5_col13\" class=\"data row5 col13\" >245</td>\n",
       "      <td id=\"T_ae501_row5_col14\" class=\"data row5 col14\" >74</td>\n",
       "      <td id=\"T_ae501_row5_col15\" class=\"data row5 col15\" >0</td>\n",
       "      <td id=\"T_ae501_row5_col16\" class=\"data row5 col16\" >0</td>\n",
       "      <td id=\"T_ae501_row5_col17\" class=\"data row5 col17\" >0</td>\n",
       "    </tr>\n",
       "    <tr>\n",
       "      <th id=\"T_ae501_level0_row6\" class=\"row_heading level0 row6\" >6</th>\n",
       "      <td id=\"T_ae501_row6_col0\" class=\"data row6 col0\" >0</td>\n",
       "      <td id=\"T_ae501_row6_col1\" class=\"data row6 col1\" >0</td>\n",
       "      <td id=\"T_ae501_row6_col2\" class=\"data row6 col2\" >0</td>\n",
       "      <td id=\"T_ae501_row6_col3\" class=\"data row6 col3\" >0</td>\n",
       "      <td id=\"T_ae501_row6_col4\" class=\"data row6 col4\" >0</td>\n",
       "      <td id=\"T_ae501_row6_col5\" class=\"data row6 col5\" >0</td>\n",
       "      <td id=\"T_ae501_row6_col6\" class=\"data row6 col6\" >0</td>\n",
       "      <td id=\"T_ae501_row6_col7\" class=\"data row6 col7\" >0</td>\n",
       "      <td id=\"T_ae501_row6_col8\" class=\"data row6 col8\" >0</td>\n",
       "      <td id=\"T_ae501_row6_col9\" class=\"data row6 col9\" >0</td>\n",
       "      <td id=\"T_ae501_row6_col10\" class=\"data row6 col10\" >249</td>\n",
       "      <td id=\"T_ae501_row6_col11\" class=\"data row6 col11\" >253</td>\n",
       "      <td id=\"T_ae501_row6_col12\" class=\"data row6 col12\" >245</td>\n",
       "      <td id=\"T_ae501_row6_col13\" class=\"data row6 col13\" >126</td>\n",
       "      <td id=\"T_ae501_row6_col14\" class=\"data row6 col14\" >0</td>\n",
       "      <td id=\"T_ae501_row6_col15\" class=\"data row6 col15\" >0</td>\n",
       "      <td id=\"T_ae501_row6_col16\" class=\"data row6 col16\" >0</td>\n",
       "      <td id=\"T_ae501_row6_col17\" class=\"data row6 col17\" >0</td>\n",
       "    </tr>\n",
       "    <tr>\n",
       "      <th id=\"T_ae501_level0_row7\" class=\"row_heading level0 row7\" >7</th>\n",
       "      <td id=\"T_ae501_row7_col0\" class=\"data row7 col0\" >0</td>\n",
       "      <td id=\"T_ae501_row7_col1\" class=\"data row7 col1\" >0</td>\n",
       "      <td id=\"T_ae501_row7_col2\" class=\"data row7 col2\" >0</td>\n",
       "      <td id=\"T_ae501_row7_col3\" class=\"data row7 col3\" >0</td>\n",
       "      <td id=\"T_ae501_row7_col4\" class=\"data row7 col4\" >0</td>\n",
       "      <td id=\"T_ae501_row7_col5\" class=\"data row7 col5\" >0</td>\n",
       "      <td id=\"T_ae501_row7_col6\" class=\"data row7 col6\" >0</td>\n",
       "      <td id=\"T_ae501_row7_col7\" class=\"data row7 col7\" >14</td>\n",
       "      <td id=\"T_ae501_row7_col8\" class=\"data row7 col8\" >101</td>\n",
       "      <td id=\"T_ae501_row7_col9\" class=\"data row7 col9\" >223</td>\n",
       "      <td id=\"T_ae501_row7_col10\" class=\"data row7 col10\" >253</td>\n",
       "      <td id=\"T_ae501_row7_col11\" class=\"data row7 col11\" >248</td>\n",
       "      <td id=\"T_ae501_row7_col12\" class=\"data row7 col12\" >124</td>\n",
       "      <td id=\"T_ae501_row7_col13\" class=\"data row7 col13\" >0</td>\n",
       "      <td id=\"T_ae501_row7_col14\" class=\"data row7 col14\" >0</td>\n",
       "      <td id=\"T_ae501_row7_col15\" class=\"data row7 col15\" >0</td>\n",
       "      <td id=\"T_ae501_row7_col16\" class=\"data row7 col16\" >0</td>\n",
       "      <td id=\"T_ae501_row7_col17\" class=\"data row7 col17\" >0</td>\n",
       "    </tr>\n",
       "    <tr>\n",
       "      <th id=\"T_ae501_level0_row8\" class=\"row_heading level0 row8\" >8</th>\n",
       "      <td id=\"T_ae501_row8_col0\" class=\"data row8 col0\" >0</td>\n",
       "      <td id=\"T_ae501_row8_col1\" class=\"data row8 col1\" >0</td>\n",
       "      <td id=\"T_ae501_row8_col2\" class=\"data row8 col2\" >0</td>\n",
       "      <td id=\"T_ae501_row8_col3\" class=\"data row8 col3\" >0</td>\n",
       "      <td id=\"T_ae501_row8_col4\" class=\"data row8 col4\" >0</td>\n",
       "      <td id=\"T_ae501_row8_col5\" class=\"data row8 col5\" >11</td>\n",
       "      <td id=\"T_ae501_row8_col6\" class=\"data row8 col6\" >166</td>\n",
       "      <td id=\"T_ae501_row8_col7\" class=\"data row8 col7\" >239</td>\n",
       "      <td id=\"T_ae501_row8_col8\" class=\"data row8 col8\" >253</td>\n",
       "      <td id=\"T_ae501_row8_col9\" class=\"data row8 col9\" >253</td>\n",
       "      <td id=\"T_ae501_row8_col10\" class=\"data row8 col10\" >253</td>\n",
       "      <td id=\"T_ae501_row8_col11\" class=\"data row8 col11\" >187</td>\n",
       "      <td id=\"T_ae501_row8_col12\" class=\"data row8 col12\" >30</td>\n",
       "      <td id=\"T_ae501_row8_col13\" class=\"data row8 col13\" >0</td>\n",
       "      <td id=\"T_ae501_row8_col14\" class=\"data row8 col14\" >0</td>\n",
       "      <td id=\"T_ae501_row8_col15\" class=\"data row8 col15\" >0</td>\n",
       "      <td id=\"T_ae501_row8_col16\" class=\"data row8 col16\" >0</td>\n",
       "      <td id=\"T_ae501_row8_col17\" class=\"data row8 col17\" >0</td>\n",
       "    </tr>\n",
       "    <tr>\n",
       "      <th id=\"T_ae501_level0_row9\" class=\"row_heading level0 row9\" >9</th>\n",
       "      <td id=\"T_ae501_row9_col0\" class=\"data row9 col0\" >0</td>\n",
       "      <td id=\"T_ae501_row9_col1\" class=\"data row9 col1\" >0</td>\n",
       "      <td id=\"T_ae501_row9_col2\" class=\"data row9 col2\" >0</td>\n",
       "      <td id=\"T_ae501_row9_col3\" class=\"data row9 col3\" >0</td>\n",
       "      <td id=\"T_ae501_row9_col4\" class=\"data row9 col4\" >0</td>\n",
       "      <td id=\"T_ae501_row9_col5\" class=\"data row9 col5\" >16</td>\n",
       "      <td id=\"T_ae501_row9_col6\" class=\"data row9 col6\" >248</td>\n",
       "      <td id=\"T_ae501_row9_col7\" class=\"data row9 col7\" >250</td>\n",
       "      <td id=\"T_ae501_row9_col8\" class=\"data row9 col8\" >253</td>\n",
       "      <td id=\"T_ae501_row9_col9\" class=\"data row9 col9\" >253</td>\n",
       "      <td id=\"T_ae501_row9_col10\" class=\"data row9 col10\" >253</td>\n",
       "      <td id=\"T_ae501_row9_col11\" class=\"data row9 col11\" >253</td>\n",
       "      <td id=\"T_ae501_row9_col12\" class=\"data row9 col12\" >232</td>\n",
       "      <td id=\"T_ae501_row9_col13\" class=\"data row9 col13\" >213</td>\n",
       "      <td id=\"T_ae501_row9_col14\" class=\"data row9 col14\" >111</td>\n",
       "      <td id=\"T_ae501_row9_col15\" class=\"data row9 col15\" >2</td>\n",
       "      <td id=\"T_ae501_row9_col16\" class=\"data row9 col16\" >0</td>\n",
       "      <td id=\"T_ae501_row9_col17\" class=\"data row9 col17\" >0</td>\n",
       "    </tr>\n",
       "    <tr>\n",
       "      <th id=\"T_ae501_level0_row10\" class=\"row_heading level0 row10\" >10</th>\n",
       "      <td id=\"T_ae501_row10_col0\" class=\"data row10 col0\" >0</td>\n",
       "      <td id=\"T_ae501_row10_col1\" class=\"data row10 col1\" >0</td>\n",
       "      <td id=\"T_ae501_row10_col2\" class=\"data row10 col2\" >0</td>\n",
       "      <td id=\"T_ae501_row10_col3\" class=\"data row10 col3\" >0</td>\n",
       "      <td id=\"T_ae501_row10_col4\" class=\"data row10 col4\" >0</td>\n",
       "      <td id=\"T_ae501_row10_col5\" class=\"data row10 col5\" >0</td>\n",
       "      <td id=\"T_ae501_row10_col6\" class=\"data row10 col6\" >0</td>\n",
       "      <td id=\"T_ae501_row10_col7\" class=\"data row10 col7\" >43</td>\n",
       "      <td id=\"T_ae501_row10_col8\" class=\"data row10 col8\" >98</td>\n",
       "      <td id=\"T_ae501_row10_col9\" class=\"data row10 col9\" >98</td>\n",
       "      <td id=\"T_ae501_row10_col10\" class=\"data row10 col10\" >208</td>\n",
       "      <td id=\"T_ae501_row10_col11\" class=\"data row10 col11\" >253</td>\n",
       "      <td id=\"T_ae501_row10_col12\" class=\"data row10 col12\" >253</td>\n",
       "      <td id=\"T_ae501_row10_col13\" class=\"data row10 col13\" >253</td>\n",
       "      <td id=\"T_ae501_row10_col14\" class=\"data row10 col14\" >253</td>\n",
       "      <td id=\"T_ae501_row10_col15\" class=\"data row10 col15\" >187</td>\n",
       "      <td id=\"T_ae501_row10_col16\" class=\"data row10 col16\" >22</td>\n",
       "      <td id=\"T_ae501_row10_col17\" class=\"data row10 col17\" >0</td>\n",
       "    </tr>\n",
       "  </tbody>\n",
       "</table>\n"
      ],
      "text/plain": [
       "<pandas.io.formats.style.Styler at 0x7f377ac6d710>"
      ]
     },
     "execution_count": 85,
     "metadata": {},
     "output_type": "execute_result"
    }
   ],
   "source": [
    "df = pd.DataFrame(im3_t[4:15, 4:22])\n",
    "df.style.set_properties(**{'font-size':'6pt'}).background_gradient('Greys')"
   ]
  },
  {
   "cell_type": "markdown",
   "id": "22923cd2-1b5b-490f-aab2-31b4c0fea2bd",
   "metadata": {},
   "source": [
    "MNIST images contain 28 pixels across and 28 pixels down, for a total of 784 pixels."
   ]
  },
  {
   "cell_type": "markdown",
   "id": "0c7af134-6138-41f5-921e-189cb0a404de",
   "metadata": {},
   "source": [
    "#### First Try: Pixel Similarity"
   ]
  },
  {
   "cell_type": "markdown",
   "id": "b358cc48-11f6-4f66-9fb2-dd2e0b95640c",
   "metadata": {},
   "source": [
    "Idea: we find the average pixel value for every pixel of the 3s,\n",
    "then do the same for the 7s. This will give us two group averages,\n",
    "defining what we might call the \"ideal\" 3 and 7. \n",
    "Then, to classify an image as one digit or the other, we see which of these two ideal digits the image is most similar to. This certainly seems like it should be better than nothing, so it will make a good baseline.\n"
   ]
  },
  {
   "cell_type": "code",
   "execution_count": 86,
   "id": "e4c234c0-a3e3-4af3-9e1b-51b97e58765b",
   "metadata": {},
   "outputs": [],
   "source": [
    "# step 1: get the average of pixel values for each of our two groups\n",
    "# lets create a tensor containing all of our 3s stacked together."
   ]
  },
  {
   "cell_type": "code",
   "execution_count": 87,
   "id": "301f3b5f-44d2-41a1-b93f-dc108d61eef9",
   "metadata": {},
   "outputs": [
    {
     "data": {
      "text/plain": [
       "(6131, 6265)"
      ]
     },
     "execution_count": 87,
     "metadata": {},
     "output_type": "execute_result"
    }
   ],
   "source": [
    "seven_tensors = [tensor(Image.open(o)) for o in sevens]\n",
    "three_tensors = [tensor(Image.open(o)) for o in threes]\n",
    "len(three_tensors), len(seven_tensors)"
   ]
  },
  {
   "cell_type": "code",
   "execution_count": 88,
   "id": "46713a2e-d390-4c7a-8cdd-4304289b0c25",
   "metadata": {},
   "outputs": [],
   "source": [
    "# step 2: for every pixel position, we want to compute the average\n",
    "# over all the images of the intensity of that pixel. To do this we\n",
    "# combinte all the images in the list into a single 3d tensor. \n",
    "# We often need to stack up individual tensors in a collection\n",
    "# into a single tensor."
   ]
  },
  {
   "cell_type": "code",
   "execution_count": 89,
   "id": "f60d7113-fccc-46b6-971a-5c0f42259d08",
   "metadata": {},
   "outputs": [],
   "source": [
    "stacked_sevens = torch.stack(seven_tensors).float() / 255 # norm"
   ]
  },
  {
   "cell_type": "code",
   "execution_count": 90,
   "id": "f3fa7ead-1301-46d5-9998-d6f963e22046",
   "metadata": {},
   "outputs": [],
   "source": [
    "stacked_threes = torch.stack(three_tensors).float() / 255 # norm (pixels only)"
   ]
  },
  {
   "cell_type": "code",
   "execution_count": 91,
   "id": "cf74cf9a-5fe7-4ce5-90da-2c472f15d90d",
   "metadata": {},
   "outputs": [
    {
     "data": {
      "text/plain": [
       "torch.Size([6131, 28, 28])"
      ]
     },
     "execution_count": 91,
     "metadata": {},
     "output_type": "execute_result"
    }
   ],
   "source": [
    "stacked_threes.shape # 6131 images, each of size 28x28"
   ]
  },
  {
   "cell_type": "code",
   "execution_count": 92,
   "id": "f163c8f5-afbb-44f3-bcd8-673416fe545e",
   "metadata": {},
   "outputs": [
    {
     "data": {
      "text/plain": [
       "3"
      ]
     },
     "execution_count": 92,
     "metadata": {},
     "output_type": "execute_result"
    }
   ],
   "source": [
    "# The length of a tensor's shape is its rank:\n",
    "len(stacked_threes.shape)\n",
    "# rank is the number of axes or dimensions in a tensor; shape is the size of each axis of a tensor"
   ]
  },
  {
   "cell_type": "code",
   "execution_count": 93,
   "id": "40027189-8a2f-4778-8101-8aef15fa5c69",
   "metadata": {},
   "outputs": [],
   "source": [
    "# step 3: calculations"
   ]
  },
  {
   "cell_type": "code",
   "execution_count": 94,
   "id": "716185f4-62f6-4fc7-995e-bab69d946cb1",
   "metadata": {},
   "outputs": [],
   "source": [
    "mean3 = stacked_threes.mean(0)"
   ]
  },
  {
   "cell_type": "code",
   "execution_count": 95,
   "id": "020b33b4-3d04-4a1e-a31b-187b85c45968",
   "metadata": {},
   "outputs": [
    {
     "data": {
      "text/plain": [
       "<AxesSubplot:>"
      ]
     },
     "execution_count": 95,
     "metadata": {},
     "output_type": "execute_result"
    },
    {
     "data": {
      "image/png": "[encoded data removed]",
      "text/plain": [
       "<Figure size 72x72 with 1 Axes>"
      ]
     },
     "metadata": {
      "needs_background": "light"
     },
     "output_type": "display_data"
    }
   ],
   "source": [
    "show_image(mean3)"
   ]
  },
  {
   "cell_type": "code",
   "execution_count": 96,
   "id": "7fd3fb1a-a2b1-480c-8e90-327a603740b4",
   "metadata": {},
   "outputs": [],
   "source": [
    "mean7 = stacked_sevens.mean(0) #axis 0, mean across all images"
   ]
  },
  {
   "cell_type": "code",
   "execution_count": 97,
   "id": "688baf5a-0929-4061-b18a-0554999b84a2",
   "metadata": {},
   "outputs": [
    {
     "data": {
      "text/plain": [
       "<AxesSubplot:>"
      ]
     },
     "execution_count": 97,
     "metadata": {},
     "output_type": "execute_result"
    },
    {
     "data": {
      "image/png": "[encoded data removed]",
      "text/plain": [
       "<Figure size 72x72 with 1 Axes>"
      ]
     },
     "metadata": {
      "needs_background": "light"
     },
     "output_type": "display_data"
    }
   ],
   "source": [
    "show_image(mean7)"
   ]
  },
  {
   "cell_type": "markdown",
   "id": "9b8673b0-3632-488c-aaa7-856ce049f921",
   "metadata": {},
   "source": [
    "There are two main ways DSists measure distance in this context:\n",
    "- take the mean of the avsolute value of differences. This is called the mean absolute difference or L1 norm\n",
    "- take the mean of the square of differences (which makes everything positive) and then take the square root (which undoes the squaring). This is called the root mean squared error (RMSE) or L2 norm"
   ]
  },
  {
   "cell_type": "code",
   "execution_count": 98,
   "id": "07b5a847-523d-424e-aeeb-1e2a113dd075",
   "metadata": {},
   "outputs": [],
   "source": [
    "# Let's now pick an arbitrary 3 and measure its distance from our \"ideal digits.\"\n",
    "a_3 = stacked_threes[1]"
   ]
  },
  {
   "cell_type": "code",
   "execution_count": 99,
   "id": "8e13b386-7a7b-4eea-9158-43928ccddc4f",
   "metadata": {},
   "outputs": [
    {
     "data": {
      "text/plain": [
       "(tensor(0.1114), tensor(0.2021))"
      ]
     },
     "execution_count": 99,
     "metadata": {},
     "output_type": "execute_result"
    }
   ],
   "source": [
    "dist_3_abs = (a_3 - mean3).abs().mean()\n",
    "dist_3_sqr = ((a_3 - mean3) ** 2).mean().sqrt()\n",
    "dist_3_abs, dist_3_sqr"
   ]
  },
  {
   "cell_type": "code",
   "execution_count": 100,
   "id": "828e4876-5b02-4507-bb88-bd2fbdbdb0ec",
   "metadata": {},
   "outputs": [
    {
     "data": {
      "text/plain": [
       "(tensor(0.1586), tensor(0.3021))"
      ]
     },
     "execution_count": 100,
     "metadata": {},
     "output_type": "execute_result"
    }
   ],
   "source": [
    "dist_7_abs = (a_3 - mean7).abs().mean()\n",
    "dist_7_sqr = ((a_3 - mean7) ** 2).mean().sqrt()\n",
    "dist_7_abs, dist_7_sqr"
   ]
  },
  {
   "cell_type": "markdown",
   "id": "851f8236-5593-4511-a715-6f7080dc45bc",
   "metadata": {},
   "source": [
    "In both cases, the distance between our 3 and the \"ideal\" 3 is less than the distance to the ideal 7. So our simple model will give the right prediction in this case.\n",
    "\n",
    "PyTorch already provides both of these as loss functions. You'll find these inside torch.nn.functional, which the PyTorch team recommends importing as F (and is available by default under that name in fastai):"
   ]
  },
  {
   "cell_type": "code",
   "execution_count": 101,
   "id": "738a94ee-1b41-4de8-985a-ae4e20210acd",
   "metadata": {},
   "outputs": [
    {
     "data": {
      "text/plain": [
       "(tensor(0.1586), tensor(0.3021))"
      ]
     },
     "execution_count": 101,
     "metadata": {},
     "output_type": "execute_result"
    }
   ],
   "source": [
    "F.l1_loss(a_3.float(), mean7), F.mse_loss(a_3, mean7).sqrt()"
   ]
  },
  {
   "cell_type": "markdown",
   "id": "5ffca0e1-f41a-427e-a308-f50615432237",
   "metadata": {},
   "source": [
    "Intuitively, the difference between L1 norm and mean squared error (MSE) is that the latter will penalize bigger mistakes more heavily than the former (and be more lenient with small mistakes).\n"
   ]
  },
  {
   "cell_type": "markdown",
   "id": "5230fecc-7e31-4c1d-882f-619beb511a16",
   "metadata": {
    "jp-MarkdownHeadingCollapsed": true,
    "tags": []
   },
   "source": [
    "### Tensors"
   ]
  },
  {
   "cell_type": "code",
   "execution_count": 102,
   "id": "054d17a0-bad7-48da-ae54-878106554fc3",
   "metadata": {},
   "outputs": [],
   "source": [
    "data = [[1,2,3],[4,5,6]]"
   ]
  },
  {
   "cell_type": "code",
   "execution_count": 103,
   "id": "f4005e86-9192-4347-bd41-a731c9fe8d5f",
   "metadata": {},
   "outputs": [],
   "source": [
    "arr = array(data) # numpy\n",
    "tns = tensor(data) # pytorch"
   ]
  },
  {
   "cell_type": "code",
   "execution_count": 105,
   "id": "7cfa9a76-d17b-486e-8388-1467d2c8ac2f",
   "metadata": {},
   "outputs": [
    {
     "data": {
      "text/plain": [
       "(array([[1, 2, 3],\n",
       "        [4, 5, 6]]),\n",
       " tensor([[1, 2, 3],\n",
       "         [4, 5, 6]]))"
      ]
     },
     "execution_count": 105,
     "metadata": {},
     "output_type": "execute_result"
    }
   ],
   "source": [
    "arr, tns"
   ]
  },
  {
   "cell_type": "code",
   "execution_count": 106,
   "id": "c38adb8f-dbf8-456e-9500-f4f6b36104b5",
   "metadata": {},
   "outputs": [
    {
     "data": {
      "text/plain": [
       "tensor([4, 5, 6])"
      ]
     },
     "execution_count": 106,
     "metadata": {},
     "output_type": "execute_result"
    }
   ],
   "source": [
    "tns[1]"
   ]
  },
  {
   "cell_type": "code",
   "execution_count": 107,
   "id": "1d177e34-425b-40ce-a579-693a1d77c5c0",
   "metadata": {},
   "outputs": [
    {
     "data": {
      "text/plain": [
       "tensor([2, 5])"
      ]
     },
     "execution_count": 107,
     "metadata": {},
     "output_type": "execute_result"
    }
   ],
   "source": [
    "tns[:, 1]"
   ]
  },
  {
   "cell_type": "code",
   "execution_count": 108,
   "id": "ca53186d-6e50-40d8-ae9e-75c6e1a7e8c8",
   "metadata": {},
   "outputs": [
    {
     "data": {
      "text/plain": [
       "tensor([5, 6])"
      ]
     },
     "execution_count": 108,
     "metadata": {},
     "output_type": "execute_result"
    }
   ],
   "source": [
    "tns[1, 1:3]"
   ]
  },
  {
   "cell_type": "code",
   "execution_count": 109,
   "id": "b31728e4-8d77-403a-a238-8b2cc8def596",
   "metadata": {},
   "outputs": [
    {
     "data": {
      "text/plain": [
       "tensor([[2, 3, 4],\n",
       "        [5, 6, 7]])"
      ]
     },
     "execution_count": 109,
     "metadata": {},
     "output_type": "execute_result"
    }
   ],
   "source": [
    "tns+1"
   ]
  },
  {
   "cell_type": "code",
   "execution_count": 110,
   "id": "5f5f19ec-b127-4758-abf4-a500fd2f6b02",
   "metadata": {},
   "outputs": [
    {
     "data": {
      "text/plain": [
       "'torch.LongTensor'"
      ]
     },
     "execution_count": 110,
     "metadata": {},
     "output_type": "execute_result"
    }
   ],
   "source": [
    "tns.type()"
   ]
  },
  {
   "cell_type": "code",
   "execution_count": 111,
   "id": "fb08632c-30f9-42cf-8997-62a122363050",
   "metadata": {},
   "outputs": [
    {
     "data": {
      "text/plain": [
       "tensor([[1.5000, 3.0000, 4.5000],\n",
       "        [6.0000, 7.5000, 9.0000]])"
      ]
     },
     "execution_count": 111,
     "metadata": {},
     "output_type": "execute_result"
    }
   ],
   "source": [
    "tns*1.5"
   ]
  },
  {
   "cell_type": "markdown",
   "id": "ca56fee6-eb49-48ed-95cc-d1528c34e472",
   "metadata": {
    "jp-MarkdownHeadingCollapsed": true,
    "tags": []
   },
   "source": [
    "### Validation set + distance function"
   ]
  },
  {
   "cell_type": "code",
   "execution_count": 116,
   "id": "f192b166-1976-4836-a15b-ca2b9fb57cbd",
   "metadata": {},
   "outputs": [],
   "source": [
    "valid_3_tens = torch.stack([tensor(Image.open(o)) for o in (path/'valid'/'3').ls()])\n",
    "valid_3_tens = valid_3_tens.float() / 255"
   ]
  },
  {
   "cell_type": "code",
   "execution_count": 119,
   "id": "72752077-1272-4bc8-8291-9d4537a2191c",
   "metadata": {},
   "outputs": [],
   "source": [
    "valid_7_tens = torch.stack([tensor(Image.open(o)) for o in (path/'valid'/'7').ls()])\n",
    "valid_7_tens = valid_7_tens.float() / 255"
   ]
  },
  {
   "cell_type": "code",
   "execution_count": 120,
   "id": "1187a509-c742-4e3b-ba7f-021ca07f8981",
   "metadata": {},
   "outputs": [
    {
     "data": {
      "text/plain": [
       "(torch.Size([1010, 28, 28]), torch.Size([1028, 28, 28]))"
      ]
     },
     "execution_count": 120,
     "metadata": {},
     "output_type": "execute_result"
    }
   ],
   "source": [
    "valid_3_tens.shape, valid_7_tens.shape"
   ]
  },
  {
   "cell_type": "code",
   "execution_count": 123,
   "id": "c39ca6a7-4480-4081-9892-b38a91e6afae",
   "metadata": {},
   "outputs": [
    {
     "data": {
      "text/plain": [
       "tensor(0.1114)"
      ]
     },
     "execution_count": 123,
     "metadata": {},
     "output_type": "execute_result"
    }
   ],
   "source": [
    "def mnist_distance(a, b):\n",
    "    return (a - b).abs().mean((-1, -2))\n",
    "mnist_distance(a_3, mean3)"
   ]
  },
  {
   "cell_type": "code",
   "execution_count": 130,
   "id": "984ffc3f-5040-4d59-a521-379683e9506f",
   "metadata": {},
   "outputs": [],
   "source": [
    "valid_3_dist = mnist_distance(valid_3_tens, mean3) # broadcasting"
   ]
  },
  {
   "cell_type": "code",
   "execution_count": 131,
   "id": "4d0dd56a-d335-4e5c-946c-54b44fef7e05",
   "metadata": {},
   "outputs": [
    {
     "data": {
      "text/plain": [
       "(tensor([0.1787, 0.1422, 0.1412,  ..., 0.1358, 0.1301, 0.1110]),\n",
       " torch.Size([1010]))"
      ]
     },
     "execution_count": 131,
     "metadata": {},
     "output_type": "execute_result"
    }
   ],
   "source": [
    "valid_3_dist, valid_3_dist.shape"
   ]
  },
  {
   "cell_type": "code",
   "execution_count": 132,
   "id": "1c4db9e3-da7b-4880-901a-47d4411da545",
   "metadata": {},
   "outputs": [
    {
     "data": {
      "text/plain": [
       "torch.Size([28, 28])"
      ]
     },
     "execution_count": 132,
     "metadata": {},
     "output_type": "execute_result"
    }
   ],
   "source": [
    "tensor(mean3).shape"
   ]
  },
  {
   "cell_type": "code",
   "execution_count": 133,
   "id": "a2acd26b-100b-4212-9f6c-979fae2511a5",
   "metadata": {},
   "outputs": [
    {
     "data": {
      "text/plain": [
       "torch.Size([1010, 28, 28])"
      ]
     },
     "execution_count": 133,
     "metadata": {},
     "output_type": "execute_result"
    }
   ],
   "source": [
    "(valid_3_tens - mean3).shape"
   ]
  },
  {
   "cell_type": "code",
   "execution_count": 134,
   "id": "1175afcf-63e2-4245-b343-9ad0163e144e",
   "metadata": {},
   "outputs": [],
   "source": [
    "def is_3(x):\n",
    "    return mnist_distance(x, mean3) < mnist_distance(x, mean7)"
   ]
  },
  {
   "cell_type": "code",
   "execution_count": 135,
   "id": "5042b1cd-ae5b-491a-92c1-1a6642c3a6e7",
   "metadata": {},
   "outputs": [
    {
     "data": {
      "text/plain": [
       "(tensor(True), tensor(1.))"
      ]
     },
     "execution_count": 135,
     "metadata": {},
     "output_type": "execute_result"
    }
   ],
   "source": [
    "is_3(a_3), is_3(a_3).float()"
   ]
  },
  {
   "cell_type": "code",
   "execution_count": 136,
   "id": "255cae71-9ea4-4398-93e3-d28da6929d61",
   "metadata": {},
   "outputs": [
    {
     "data": {
      "text/plain": [
       "tensor([False,  True,  True,  ...,  True,  True,  True])"
      ]
     },
     "execution_count": 136,
     "metadata": {},
     "output_type": "execute_result"
    }
   ],
   "source": [
    "is_3(valid_3_tens)"
   ]
  },
  {
   "cell_type": "markdown",
   "id": "02f4eb02-68f6-432b-a6ab-743d96c13603",
   "metadata": {},
   "source": [
    "#### Accuracy"
   ]
  },
  {
   "cell_type": "code",
   "execution_count": 137,
   "id": "2d0404c3-cc3c-4004-a1f1-d4bd51c3058d",
   "metadata": {},
   "outputs": [],
   "source": [
    "accuracy_3s = is_3(valid_3_tens).float().mean()\n",
    "accuracy_7s = (1 - is_3(valid_7_tens).float()).mean()"
   ]
  },
  {
   "cell_type": "code",
   "execution_count": 138,
   "id": "a1922bf0-4ef8-4f7f-82c7-d2df1d5f7ec0",
   "metadata": {},
   "outputs": [
    {
     "data": {
      "text/plain": [
       "(tensor(0.9168), tensor(0.9854), tensor(0.9511))"
      ]
     },
     "execution_count": 138,
     "metadata": {},
     "output_type": "execute_result"
    }
   ],
   "source": [
    "accuracy_3s, accuracy_7s, (accuracy_3s + accuracy_7s) / 2"
   ]
  },
  {
   "cell_type": "markdown",
   "id": "5eec3b89-4fc1-4e74-af78-27fe466ab40c",
   "metadata": {},
   "source": [
    "Here are the steps that we are going to require, to turn this function into a machine learning classifier:\n",
    "- initialize the weights,\n",
    "- for each image, use these weights to predict whether it appears to be a 3 or a 7\n",
    "- based on these predictions, calculate how good the model is (its loss)\n",
    "- calculate the gradient, which measures for each weight, how changing that weight would change the loss\n",
    "- step (that is, change) all the weights based on that calculation\n",
    "- go back to the step 2, repeat\n",
    "- iterate until you decide to stop the training process\n"
   ]
  },
  {
   "cell_type": "code",
   "execution_count": 139,
   "id": "7cddc7d8-e503-4b40-93ff-3fb971ab198d",
   "metadata": {},
   "outputs": [
    {
     "data": {
      "image/svg+xml": [
       "<?xml version=\"1.0\" encoding=\"UTF-8\" standalone=\"no\"?>\n",
       "<!DOCTYPE svg PUBLIC \"-//W3C//DTD SVG 1.1//EN\"\n",
       " \"http://www.w3.org/Graphics/SVG/1.1/DTD/svg11.dtd\">\n",
       "<!-- Generated by graphviz version 2.40.1 (20161225.0304)\n",
       " -->\n",
       "<!-- Title: G Pages: 1 -->\n",
       "<svg width=\"591pt\" height=\"78pt\"\n",
       " viewBox=\"0.00 0.00 591.49 78.00\" xmlns=\"http://www.w3.org/2000/svg\" xmlns:xlink=\"http://www.w3.org/1999/xlink\">\n",
       "<g id=\"graph0\" class=\"graph\" transform=\"scale(1 1) rotate(0) translate(4 74)\">\n",
       "<title>G</title>\n",
       "<polygon fill=\"#ffffff\" stroke=\"transparent\" points=\"-4,4 -4,-74 587.4867,-74 587.4867,4 -4,4\"/>\n",
       "<!-- init -->\n",
       "<g id=\"node1\" class=\"node\">\n",
       "<title>init</title>\n",
       "<ellipse fill=\"none\" stroke=\"#000000\" cx=\"27\" cy=\"-18\" rx=\"27\" ry=\"18\"/>\n",
       "<text text-anchor=\"middle\" x=\"27\" y=\"-14.3\" font-family=\"Times,serif\" font-size=\"14.00\" fill=\"#000000\">init</text>\n",
       "</g>\n",
       "<!-- predict -->\n",
       "<g id=\"node2\" class=\"node\">\n",
       "<title>predict</title>\n",
       "<ellipse fill=\"none\" stroke=\"#000000\" cx=\"126.0969\" cy=\"-18\" rx=\"35.194\" ry=\"18\"/>\n",
       "<text text-anchor=\"middle\" x=\"126.0969\" y=\"-14.3\" font-family=\"Times,serif\" font-size=\"14.00\" fill=\"#000000\">predict</text>\n",
       "</g>\n",
       "<!-- init&#45;&gt;predict -->\n",
       "<g id=\"edge1\" class=\"edge\">\n",
       "<title>init&#45;&gt;predict</title>\n",
       "<path fill=\"none\" stroke=\"#000000\" d=\"M54.0787,-18C62.3227,-18 71.6196,-18 80.7269,-18\"/>\n",
       "<polygon fill=\"#000000\" stroke=\"#000000\" points=\"80.8626,-21.5001 90.8626,-18 80.8625,-14.5001 80.8626,-21.5001\"/>\n",
       "</g>\n",
       "<!-- loss -->\n",
       "<g id=\"node3\" class=\"node\">\n",
       "<title>loss</title>\n",
       "<ellipse fill=\"none\" stroke=\"#000000\" cx=\"225.1938\" cy=\"-52\" rx=\"27\" ry=\"18\"/>\n",
       "<text text-anchor=\"middle\" x=\"225.1938\" y=\"-48.3\" font-family=\"Times,serif\" font-size=\"14.00\" fill=\"#000000\">loss</text>\n",
       "</g>\n",
       "<!-- predict&#45;&gt;loss -->\n",
       "<g id=\"edge2\" class=\"edge\">\n",
       "<title>predict&#45;&gt;loss</title>\n",
       "<path fill=\"none\" stroke=\"#000000\" d=\"M155.2932,-28.0172C166.6224,-31.9043 179.6698,-36.3808 191.4018,-40.406\"/>\n",
       "<polygon fill=\"#000000\" stroke=\"#000000\" points=\"190.2859,-43.7234 200.8806,-43.6582 192.5577,-37.1023 190.2859,-43.7234\"/>\n",
       "</g>\n",
       "<!-- gradient -->\n",
       "<g id=\"node4\" class=\"node\">\n",
       "<title>gradient</title>\n",
       "<ellipse fill=\"none\" stroke=\"#000000\" cx=\"361.8403\" cy=\"-52\" rx=\"39.7935\" ry=\"18\"/>\n",
       "<text text-anchor=\"middle\" x=\"361.8403\" y=\"-48.3\" font-family=\"Times,serif\" font-size=\"14.00\" fill=\"#000000\">gradient</text>\n",
       "</g>\n",
       "<!-- loss&#45;&gt;gradient -->\n",
       "<g id=\"edge3\" class=\"edge\">\n",
       "<title>loss&#45;&gt;gradient</title>\n",
       "<path fill=\"none\" stroke=\"#000000\" d=\"M252.5178,-52C269.4967,-52 291.836,-52 311.8929,-52\"/>\n",
       "<polygon fill=\"#000000\" stroke=\"#000000\" points=\"312.1329,-55.5001 322.1329,-52 312.1328,-48.5001 312.1329,-55.5001\"/>\n",
       "</g>\n",
       "<!-- step -->\n",
       "<g id=\"node5\" class=\"node\">\n",
       "<title>step</title>\n",
       "<ellipse fill=\"none\" stroke=\"#000000\" cx=\"465.4867\" cy=\"-18\" rx=\"27\" ry=\"18\"/>\n",
       "<text text-anchor=\"middle\" x=\"465.4867\" y=\"-14.3\" font-family=\"Times,serif\" font-size=\"14.00\" fill=\"#000000\">step</text>\n",
       "</g>\n",
       "<!-- gradient&#45;&gt;step -->\n",
       "<g id=\"edge4\" class=\"edge\">\n",
       "<title>gradient&#45;&gt;step</title>\n",
       "<path fill=\"none\" stroke=\"#000000\" d=\"M394.0665,-41.4286C405.9515,-37.5298 419.4492,-33.1021 431.4862,-29.1535\"/>\n",
       "<polygon fill=\"#000000\" stroke=\"#000000\" points=\"432.7754,-32.4142 441.1862,-25.9715 430.5935,-25.7629 432.7754,-32.4142\"/>\n",
       "</g>\n",
       "<!-- step&#45;&gt;predict -->\n",
       "<g id=\"edge6\" class=\"edge\">\n",
       "<title>step&#45;&gt;predict</title>\n",
       "<path fill=\"none\" stroke=\"#000000\" d=\"M438.4132,-18C380.3272,-18 243.2155,-18 171.5401,-18\"/>\n",
       "<polygon fill=\"#000000\" stroke=\"#000000\" points=\"171.4571,-14.5001 161.4571,-18 171.4571,-21.5001 171.4571,-14.5001\"/>\n",
       "<text text-anchor=\"middle\" x=\"287.1938\" y=\"-21.8\" font-family=\"Times,serif\" font-size=\"14.00\" fill=\"#000000\">repeat</text>\n",
       "</g>\n",
       "<!-- stop -->\n",
       "<g id=\"node6\" class=\"node\">\n",
       "<title>stop</title>\n",
       "<ellipse fill=\"none\" stroke=\"#000000\" cx=\"556.4867\" cy=\"-18\" rx=\"27\" ry=\"18\"/>\n",
       "<text text-anchor=\"middle\" x=\"556.4867\" y=\"-14.3\" font-family=\"Times,serif\" font-size=\"14.00\" fill=\"#000000\">stop</text>\n",
       "</g>\n",
       "<!-- step&#45;&gt;stop -->\n",
       "<g id=\"edge5\" class=\"edge\">\n",
       "<title>step&#45;&gt;stop</title>\n",
       "<path fill=\"none\" stroke=\"#000000\" d=\"M492.7897,-18C501.068,-18 510.3085,-18 519.1272,-18\"/>\n",
       "<polygon fill=\"#000000\" stroke=\"#000000\" points=\"519.203,-21.5001 529.203,-18 519.203,-14.5001 519.203,-21.5001\"/>\n",
       "</g>\n",
       "</g>\n",
       "</svg>\n"
      ],
      "text/plain": [
       "<graphviz.sources.Source at 0x7f377cb71c10>"
      ]
     },
     "execution_count": 139,
     "metadata": {},
     "output_type": "execute_result"
    }
   ],
   "source": [
    "gv('''\n",
    "init->predict->loss->gradient->step->stop\n",
    "step->predict[label=repeat]\n",
    "''')"
   ]
  },
  {
   "cell_type": "code",
   "execution_count": 140,
   "id": "ed5612f4-7b0f-4cb0-9050-ecda8f17b552",
   "metadata": {},
   "outputs": [],
   "source": [
    "def f(x): return x ** 2"
   ]
  },
  {
   "cell_type": "code",
   "execution_count": 142,
   "id": "bdc53b4e-3400-493e-9974-3cbefc2e71ce",
   "metadata": {},
   "outputs": [
    {
     "data": {
      "image/png": "[encoded data removed]",
      "text/plain": [
       "<Figure size 432x288 with 1 Axes>"
      ]
     },
     "metadata": {
      "needs_background": "light"
     },
     "output_type": "display_data"
    }
   ],
   "source": [
    "plot_function(f, 'x', 'x**2')\n",
    "plt.scatter(-1.5, f(-1.5), color='red');"
   ]
  },
  {
   "cell_type": "markdown",
   "id": "042c2773-880f-41f3-bcc5-4c93eb5b3117",
   "metadata": {},
   "source": [
    "#### Calculating Gradients"
   ]
  },
  {
   "cell_type": "code",
   "execution_count": 143,
   "id": "7175f93f-5d4a-4742-9fe2-bd97339bcf6b",
   "metadata": {},
   "outputs": [],
   "source": [
    "xt = tensor(3.).requires_grad_()"
   ]
  },
  {
   "cell_type": "code",
   "execution_count": 146,
   "id": "5eee22c6-950a-4c74-b3f1-620b2ed1a595",
   "metadata": {},
   "outputs": [
    {
     "data": {
      "text/plain": [
       "tensor(9., grad_fn=<PowBackward0>)"
      ]
     },
     "execution_count": 146,
     "metadata": {},
     "output_type": "execute_result"
    }
   ],
   "source": [
    "yt = f(xt)\n",
    "yt"
   ]
  },
  {
   "cell_type": "code",
   "execution_count": 147,
   "id": "69b815a7-1fa9-419f-98af-53f3124f2e4a",
   "metadata": {},
   "outputs": [],
   "source": [
    "yt.backward()"
   ]
  },
  {
   "cell_type": "code",
   "execution_count": 149,
   "id": "8d0ffff8-334f-4ecc-9113-5d5355ae5b64",
   "metadata": {},
   "outputs": [
    {
     "data": {
      "text/plain": [
       "tensor(6.)"
      ]
     },
     "execution_count": 149,
     "metadata": {},
     "output_type": "execute_result"
    }
   ],
   "source": [
    "xt.grad"
   ]
  },
  {
   "cell_type": "code",
   "execution_count": null,
   "id": "2ef97040-c1b5-4017-89e2-2d90649770c7",
   "metadata": {},
   "outputs": [],
   "source": []
  },
  {
   "cell_type": "code",
   "execution_count": null,
   "id": "65fe094b-d090-4bdf-9bdd-c036af04c022",
   "metadata": {},
   "outputs": [],
   "source": []
  },
  {
   "cell_type": "code",
   "execution_count": 153,
   "id": "1f38a581-4f4d-4508-91b4-d28c5e645e12",
   "metadata": {},
   "outputs": [],
   "source": [
    "xt = tensor([3., 4. , 10.]).requires_grad_() #input"
   ]
  },
  {
   "cell_type": "code",
   "execution_count": 155,
   "id": "8be40928-4b22-4a74-8e66-981bcebc91cf",
   "metadata": {},
   "outputs": [
    {
     "data": {
      "text/plain": [
       "tensor(125., grad_fn=<SumBackward0>)"
      ]
     },
     "execution_count": 155,
     "metadata": {},
     "output_type": "execute_result"
    }
   ],
   "source": [
    "def f(x): return (x**2).sum()\n",
    "yt = f(xt)\n",
    "yt"
   ]
  },
  {
   "cell_type": "code",
   "execution_count": 156,
   "id": "449c4576-8692-4a4e-abe1-b34bb44944fc",
   "metadata": {},
   "outputs": [
    {
     "data": {
      "text/plain": [
       "tensor([ 6.,  8., 20.])"
      ]
     },
     "execution_count": 156,
     "metadata": {},
     "output_type": "execute_result"
    }
   ],
   "source": [
    "yt.backward()\n",
    "xt.grad"
   ]
  },
  {
   "cell_type": "markdown",
   "id": "355e1def-7364-4c42-8535-9586f6fb4a2c",
   "metadata": {},
   "source": [
    "### An End-to-End SGD Example"
   ]
  },
  {
   "cell_type": "code",
   "execution_count": 158,
   "id": "a3b1c977-67c5-4328-b11c-397dd6e8bed9",
   "metadata": {},
   "outputs": [
    {
     "data": {
      "text/plain": [
       "tensor([ 0.,  1.,  2.,  3.,  4.,  5.,  6.,  7.,  8.,  9., 10., 11., 12., 13., 14., 15., 16., 17., 18., 19.])"
      ]
     },
     "execution_count": 158,
     "metadata": {},
     "output_type": "execute_result"
    }
   ],
   "source": [
    "time = torch.arange(0, 20).float(); time"
   ]
  },
  {
   "cell_type": "code",
   "execution_count": 159,
   "id": "0ff3393f-68f2-42d4-922a-ea4578e6824c",
   "metadata": {},
   "outputs": [
    {
     "data": {
      "text/plain": [
       "<matplotlib.collections.PathCollection at 0x7f377a458a50>"
      ]
     },
     "execution_count": 159,
     "metadata": {},
     "output_type": "execute_result"
    },
    {
     "data": {
      "image/png": "[encoded data removed]",
      "text/plain": [
       "<Figure size 432x288 with 1 Axes>"
      ]
     },
     "metadata": {
      "needs_background": "light"
     },
     "output_type": "display_data"
    }
   ],
   "source": [
    "speed = torch.randn(20) * 3 + 0.75 * (time - 9.5) ** 2 + 1\n",
    "plt.scatter(time, speed)"
   ]
  },
  {
   "cell_type": "code",
   "execution_count": 160,
   "id": "d7e3a090-0c04-4e2c-85ca-775271769024",
   "metadata": {},
   "outputs": [],
   "source": [
    "def f(t, params):\n",
    "    a, b, c = params\n",
    "    return a * (t**2) + (b * t) + c"
   ]
  },
  {
   "cell_type": "code",
   "execution_count": 161,
   "id": "7fc288e1-b895-4087-9de1-ab078b4b8c79",
   "metadata": {},
   "outputs": [],
   "source": [
    "def mse(preds, targets):\n",
    "    return ((preds - targets) ** 2).mean()"
   ]
  },
  {
   "cell_type": "code",
   "execution_count": 162,
   "id": "2b1bc13b-ae07-4271-9184-4df794968e2a",
   "metadata": {},
   "outputs": [],
   "source": [
    "# step 1: initialize the parameters\n",
    "params = torch.randn(3).requires_grad_()\n",
    "orig_params = params.clone()"
   ]
  },
  {
   "cell_type": "code",
   "execution_count": 163,
   "id": "749c122a-4740-42e0-8ad5-ab95ef410bef",
   "metadata": {},
   "outputs": [],
   "source": [
    "# step 2: calculate the predictions\n",
    "preds = f(time, params)"
   ]
  },
  {
   "cell_type": "code",
   "execution_count": 164,
   "id": "f2bab4f5-451a-4b6d-9ffb-6d3b5c1a3d09",
   "metadata": {},
   "outputs": [],
   "source": [
    "def show_preds(preds, ax=None):\n",
    "    if ax is None: ax = plt.subplots()[1]\n",
    "    ax.scatter(time, speed)\n",
    "    ax.scatter(time, to_np(preds), color='red')\n",
    "    ax.set_ylim(-300, 100)"
   ]
  },
  {
   "cell_type": "code",
   "execution_count": 165,
   "id": "c6fe6e1b-3ac0-4531-9257-0baa714dcf82",
   "metadata": {},
   "outputs": [
    {
     "data": {
      "image/png": "[encoded data removed]",
      "text/plain": [
       "<Figure size 432x288 with 1 Axes>"
      ]
     },
     "metadata": {
      "needs_background": "light"
     },
     "output_type": "display_data"
    }
   ],
   "source": [
    "show_preds(preds)"
   ]
  },
  {
   "cell_type": "markdown",
   "id": "d7096328-1c5a-4925-bb0a-c17f1650bed0",
   "metadata": {},
   "source": [
    "This doesn't look very close—our random parameters suggest that the roller coaster will end up going backwards, since we have negative speeds!"
   ]
  },
  {
   "cell_type": "code",
   "execution_count": 166,
   "id": "ab725c2b-0ca1-4d70-87f4-b20845b09a68",
   "metadata": {},
   "outputs": [
    {
     "data": {
      "text/plain": [
       "tensor(25823.8086, grad_fn=<MeanBackward0>)"
      ]
     },
     "execution_count": 166,
     "metadata": {},
     "output_type": "execute_result"
    }
   ],
   "source": [
    "# step 3: calculate the loss\n",
    "loss = mse(preds, speed)\n",
    "loss"
   ]
  },
  {
   "cell_type": "code",
   "execution_count": 167,
   "id": "8a0a830d-38de-4645-a2dd-772996ae0ae7",
   "metadata": {},
   "outputs": [
    {
     "data": {
      "text/plain": [
       "tensor([-53195.8633,  -3419.7148,   -253.8908])"
      ]
     },
     "execution_count": 167,
     "metadata": {},
     "output_type": "execute_result"
    }
   ],
   "source": [
    "# step 4: calculate the gradients\n",
    "loss.backward()\n",
    "params.grad"
   ]
  },
  {
   "cell_type": "code",
   "execution_count": 169,
   "id": "a345d446-f72f-4d3c-8660-9a0ca63c9488",
   "metadata": {},
   "outputs": [
    {
     "data": {
      "text/plain": [
       "tensor([-0.5320, -0.0342, -0.0025])"
      ]
     },
     "execution_count": 169,
     "metadata": {},
     "output_type": "execute_result"
    }
   ],
   "source": [
    "params.grad * 1e-5 # 0.00001 learning rate"
   ]
  },
  {
   "cell_type": "code",
   "execution_count": 170,
   "id": "17fc6cc8-a6f1-482e-a0cf-69afffdcc433",
   "metadata": {},
   "outputs": [],
   "source": [
    "# step 5: step the weights\n",
    "lr = 1e-5\n",
    "params.data -= lr * params.grad.data\n",
    "params.grad = None"
   ]
  },
  {
   "cell_type": "code",
   "execution_count": 171,
   "id": "ae71e630-6a80-4902-849d-9e7c05e0751a",
   "metadata": {},
   "outputs": [
    {
     "data": {
      "text/plain": [
       "tensor(5435.5356, grad_fn=<MeanBackward0>)"
      ]
     },
     "execution_count": 171,
     "metadata": {},
     "output_type": "execute_result"
    }
   ],
   "source": [
    "preds = f(time, params)\n",
    "mse(preds, speed)"
   ]
  },
  {
   "cell_type": "code",
   "execution_count": 172,
   "id": "aef05d40-e61e-4a1f-a036-a1cd6e0d594d",
   "metadata": {},
   "outputs": [
    {
     "data": {
      "image/png": "[encoded data removed]",
      "text/plain": [
       "<Figure size 432x288 with 1 Axes>"
      ]
     },
     "metadata": {
      "needs_background": "light"
     },
     "output_type": "display_data"
    }
   ],
   "source": [
    "show_preds(preds)"
   ]
  },
  {
   "cell_type": "code",
   "execution_count": 173,
   "id": "35f2d5b2-900b-43af-9b1c-fab7578502ba",
   "metadata": {},
   "outputs": [],
   "source": [
    "# we need to repeat this a few times\n",
    "def apply_step(params, prn=True):\n",
    "    preds = f(time, params)\n",
    "    loss = mse(preds, speed)\n",
    "    loss.backward()\n",
    "    params.data -= lr * params.grad.data\n",
    "    params.grad = None\n",
    "    if prn: print(loss.item())\n",
    "    return preds"
   ]
  },
  {
   "cell_type": "code",
   "execution_count": 174,
   "id": "f8c63d65-19a9-4c83-97da-3d99ef6970a9",
   "metadata": {},
   "outputs": [
    {
     "name": "stdout",
     "output_type": "stream",
     "text": [
      "5435.53564453125\n",
      "1577.44921875\n",
      "847.3778076171875\n",
      "709.2225341796875\n",
      "683.0758056640625\n",
      "678.1243896484375\n",
      "677.1838989257812\n",
      "677.0023803710938\n",
      "676.9645385742188\n",
      "676.9537353515625\n"
     ]
    }
   ],
   "source": [
    "# step 6: repeat the process\n",
    "for i in range(10):\n",
    "    apply_step(params)"
   ]
  },
  {
   "cell_type": "code",
   "execution_count": 175,
   "id": "d5c6b3db-2408-4426-940f-47043088157c",
   "metadata": {},
   "outputs": [],
   "source": [
    "params = orig_params.detach().requires_grad_()"
   ]
  },
  {
   "cell_type": "code",
   "execution_count": 177,
   "id": "ae0a7ff4-21ec-46cb-a775-e1d876a3eb0e",
   "metadata": {},
   "outputs": [
    {
     "data": {
      "image/png": "[encoded data removed]",
      "text/plain": [
       "<Figure size 864x216 with 4 Axes>"
      ]
     },
     "metadata": {
      "needs_background": "light"
     },
     "output_type": "display_data"
    }
   ],
   "source": [
    "_, axs = plt.subplots(1, 4, figsize=(12,3))\n",
    "for ax in axs: show_preds(apply_step(params, False), ax)\n",
    "plt.tight_layout()"
   ]
  },
  {
   "cell_type": "markdown",
   "id": "d40b3e34-12d5-48d2-8d4c-dde305f3d15b",
   "metadata": {},
   "source": [
    "### The MNIST Loss Function"
   ]
  },
  {
   "cell_type": "code",
   "execution_count": 179,
   "id": "f6df1398-495f-4e08-97c8-572221b11581",
   "metadata": {},
   "outputs": [],
   "source": [
    "train_x = torch.cat([stacked_threes, stacked_sevens]).view(-1, 28*28)"
   ]
  },
  {
   "cell_type": "code",
   "execution_count": 184,
   "id": "a0e35e32-26ec-4e08-ae19-394a2d4710c8",
   "metadata": {},
   "outputs": [],
   "source": [
    "# We need a label for each image. We'll use 1 for 3s and 0 for 7s:\n",
    "train_y = tensor([1] * len(threes) + [0] * len(sevens)).unsqueeze(1)"
   ]
  },
  {
   "cell_type": "code",
   "execution_count": 183,
   "id": "ad1a1592-0ba8-4f27-975a-e80e47c293d8",
   "metadata": {},
   "outputs": [
    {
     "data": {
      "text/plain": [
       "(torch.Size([12396, 784]), torch.Size([12396, 1]))"
      ]
     },
     "execution_count": 183,
     "metadata": {},
     "output_type": "execute_result"
    }
   ],
   "source": [
    "train_x.shape, train_y.shape"
   ]
  },
  {
   "cell_type": "code",
   "execution_count": 185,
   "id": "048d802a-62b1-4cdd-890b-6b14cdebd51d",
   "metadata": {},
   "outputs": [
    {
     "data": {
      "text/plain": [
       "(torch.Size([784]), tensor([1]))"
      ]
     },
     "execution_count": 185,
     "metadata": {},
     "output_type": "execute_result"
    }
   ],
   "source": [
    "dset = list(zip(train_x, train_y))\n",
    "x, y = dset[0]\n",
    "x.shape, y"
   ]
  },
  {
   "cell_type": "code",
   "execution_count": 187,
   "id": "a3943f67-52c8-43db-bfa3-dd86c68f26dc",
   "metadata": {},
   "outputs": [],
   "source": [
    "valid_x = torch.cat([valid_3_tens, valid_7_tens]).view(-1, 28*28)\n",
    "valid_y = tensor([1]*len(valid_3_tens) + [0]*len(valid_7_tens)).unsqueeze(1)\n",
    "valid_dset = list(zip(valid_x,valid_y))"
   ]
  },
  {
   "cell_type": "code",
   "execution_count": 189,
   "id": "bb9c4b12-b69e-4427-8191-abff42adba41",
   "metadata": {},
   "outputs": [],
   "source": [
    "def init_params(size, std=1.0):\n",
    "    return (torch.randn(size)*std).requires_grad_()\n",
    "weights = init_params((28 * 28, 1))"
   ]
  },
  {
   "cell_type": "code",
   "execution_count": 193,
   "id": "6d9a36ee-54a9-48a8-94dd-c76d991499f8",
   "metadata": {},
   "outputs": [],
   "source": [
    "bias = init_params(1)"
   ]
  },
  {
   "cell_type": "code",
   "execution_count": 195,
   "id": "765117e0-ae97-4dd1-8826-96d51e0324e5",
   "metadata": {},
   "outputs": [],
   "source": [
    "# y=wx+b"
   ]
  },
  {
   "cell_type": "code",
   "execution_count": 196,
   "id": "c2367286-c218-46ee-92b7-b818626b77f5",
   "metadata": {},
   "outputs": [
    {
     "data": {
      "text/plain": [
       "tensor([19.5644], grad_fn=<AddBackward0>)"
      ]
     },
     "execution_count": 196,
     "metadata": {},
     "output_type": "execute_result"
    }
   ],
   "source": [
    "(train_x[0] * weights.T).sum() + bias"
   ]
  },
  {
   "cell_type": "code",
   "execution_count": 197,
   "id": "1c8b23b5-28b3-47a2-a2b9-a4e43035927e",
   "metadata": {},
   "outputs": [],
   "source": [
    "# In Python, matrix multiplication is represented with the @ operator. Let's try it:"
   ]
  },
  {
   "cell_type": "code",
   "execution_count": 199,
   "id": "3be117d3-47b8-40e2-8094-69f9c83fe619",
   "metadata": {},
   "outputs": [
    {
     "data": {
      "text/plain": [
       "tensor([[19.5644],\n",
       "        [16.3951],\n",
       "        [14.5691],\n",
       "        ...,\n",
       "        [17.7111],\n",
       "        [23.1874],\n",
       "        [28.0124]], grad_fn=<AddBackward0>)"
      ]
     },
     "execution_count": 199,
     "metadata": {},
     "output_type": "execute_result"
    }
   ],
   "source": [
    "def linear1(xb):\n",
    "    return xb@weights + bias\n",
    "preds = linear1(train_x)\n",
    "preds"
   ]
  },
  {
   "cell_type": "code",
   "execution_count": 201,
   "id": "e6bb04a5-0b11-40e6-af7c-d142513e14ab",
   "metadata": {},
   "outputs": [
    {
     "data": {
      "text/plain": [
       "tensor([[ True],\n",
       "        [ True],\n",
       "        [ True],\n",
       "        ...,\n",
       "        [False],\n",
       "        [False],\n",
       "        [False]])"
      ]
     },
     "execution_count": 201,
     "metadata": {},
     "output_type": "execute_result"
    }
   ],
   "source": [
    "corrects = (preds > 0.0).float() == train_y\n",
    "corrects"
   ]
  },
  {
   "cell_type": "code",
   "execution_count": 202,
   "id": "cabce61c-7b43-4bd1-bd8f-b57bb30b5af7",
   "metadata": {},
   "outputs": [
    {
     "data": {
      "text/plain": [
       "0.49040013551712036"
      ]
     },
     "execution_count": 202,
     "metadata": {},
     "output_type": "execute_result"
    }
   ],
   "source": [
    "corrects.float().mean().item()"
   ]
  },
  {
   "cell_type": "code",
   "execution_count": 203,
   "id": "9fac45c8-5446-414b-a7df-33de7b66c496",
   "metadata": {},
   "outputs": [],
   "source": [
    "trgts = tensor([1, 0, 1])\n",
    "prds = tensor([0.9, 0.4, 0.2])"
   ]
  },
  {
   "cell_type": "markdown",
   "id": "ef6d5688-5de2-4935-9a35-88029be985b4",
   "metadata": {},
   "source": [
    "In plain English, this function will measure how distant each prediction is from 1 if it should be 1, and how distant it is from 0 if it should be 0, and then it will take the mean of all those distances."
   ]
  },
  {
   "cell_type": "code",
   "execution_count": 209,
   "id": "748659cc-2176-4e84-a431-bf74e0112210",
   "metadata": {},
   "outputs": [],
   "source": [
    "def mnist_loss(predictions, targets):\n",
    "    predictions = predictions.sigmoid()\n",
    "    return torch.where(targets==1, 1-predictions, predictions).mean()"
   ]
  },
  {
   "cell_type": "code",
   "execution_count": 210,
   "id": "135b5c93-f432-40e2-b307-99d6a8dfb27a",
   "metadata": {},
   "outputs": [
    {
     "data": {
      "text/plain": [
       "tensor([0.1000, 0.4000, 0.8000])"
      ]
     },
     "execution_count": 210,
     "metadata": {},
     "output_type": "execute_result"
    }
   ],
   "source": [
    "torch.where(trgts==1, 1-prds, prds)"
   ]
  },
  {
   "cell_type": "code",
   "execution_count": 211,
   "id": "03c2d525-c374-4a43-afe8-2a6890d6d018",
   "metadata": {},
   "outputs": [
    {
     "data": {
      "text/plain": [
       "tensor(0.4460)"
      ]
     },
     "execution_count": 211,
     "metadata": {},
     "output_type": "execute_result"
    }
   ],
   "source": [
    "mnist_loss(prds, trgts)"
   ]
  },
  {
   "cell_type": "markdown",
   "id": "7187ed90-7685-4ea0-ae84-e3c1f02f3e36",
   "metadata": {},
   "source": [
    "#### Sigmoid\n",
    "The *sigmoid* function always outputs a number between 0 and 1"
   ]
  },
  {
   "cell_type": "code",
   "execution_count": 212,
   "id": "e2f77a79-6318-47c8-8057-ba3ba7d3acd1",
   "metadata": {},
   "outputs": [],
   "source": [
    "def sigmoid(x):\n",
    "    return 1 / (1 + torch.exp(-x))"
   ]
  },
  {
   "cell_type": "code",
   "execution_count": 213,
   "id": "6b09fab8-7ffe-459d-8d61-a379afb58a94",
   "metadata": {},
   "outputs": [
    {
     "data": {
      "image/png": "[encoded data removed]",
      "text/plain": [
       "<Figure size 432x288 with 1 Axes>"
      ]
     },
     "metadata": {
      "needs_background": "light"
     },
     "output_type": "display_data"
    }
   ],
   "source": [
    "plot_function(torch.sigmoid, title='Sigmoid', min=-4, max=4)\n"
   ]
  },
  {
   "cell_type": "code",
   "execution_count": 214,
   "id": "7155ec8d-df7d-4798-9ff8-93f946dfe954",
   "metadata": {},
   "outputs": [
    {
     "data": {
      "text/plain": [
       "[tensor([ 3, 12,  8, 10,  2]),\n",
       " tensor([ 9,  4,  7, 14,  5]),\n",
       " tensor([ 1, 13,  0,  6, 11])]"
      ]
     },
     "execution_count": 214,
     "metadata": {},
     "output_type": "execute_result"
    }
   ],
   "source": [
    "coll = range(15)\n",
    "dl = DataLoader(coll, batch_size = 5, shuffle=True)\n",
    "list(dl)"
   ]
  },
  {
   "cell_type": "markdown",
   "id": "d500201e-584b-46b0-aeb8-eca6e4582795",
   "metadata": {},
   "source": [
    "#### Putting It All Together"
   ]
  },
  {
   "cell_type": "code",
   "execution_count": 239,
   "id": "2deb7068-5db6-4164-ada7-1bf0dfb3ff64",
   "metadata": {},
   "outputs": [],
   "source": [
    "weights = init_params((28 * 28, 1))\n",
    "bias = init_params(1)"
   ]
  },
  {
   "cell_type": "code",
   "execution_count": 240,
   "id": "d4c1ea54-769a-4d36-b5f4-24fd9fdc0cdf",
   "metadata": {},
   "outputs": [
    {
     "data": {
      "text/plain": [
       "(torch.Size([256, 784]), torch.Size([256, 1]))"
      ]
     },
     "execution_count": 240,
     "metadata": {},
     "output_type": "execute_result"
    }
   ],
   "source": [
    "dl = DataLoader(dset, batch_size=256)\n",
    "xb, yb = first(dl) # first element from the ds\n",
    "xb.shape, yb.shape # 256 img stacked, 28x28pxls, target 256,1"
   ]
  },
  {
   "cell_type": "code",
   "execution_count": 241,
   "id": "a46dcb44-60d2-470c-9603-207e1f238b35",
   "metadata": {},
   "outputs": [],
   "source": [
    "valid_dl = DataLoader(valid_dset, batch_size=256)"
   ]
  },
  {
   "cell_type": "code",
   "execution_count": 242,
   "id": "57b360b8-766f-487d-9c20-93abcee169c3",
   "metadata": {},
   "outputs": [
    {
     "data": {
      "text/plain": [
       "torch.Size([4, 784])"
      ]
     },
     "execution_count": 242,
     "metadata": {},
     "output_type": "execute_result"
    }
   ],
   "source": [
    "# lets create a mini batch of size 4 for testing\n",
    "batch = train_x[:4]\n",
    "batch.shape"
   ]
  },
  {
   "cell_type": "code",
   "execution_count": 243,
   "id": "dc905908-cd80-4b94-9516-c47bf6721cb4",
   "metadata": {},
   "outputs": [
    {
     "data": {
      "text/plain": [
       "tensor([[-3.2848],\n",
       "        [ 5.5670],\n",
       "        [ 3.0307],\n",
       "        [ 9.5081]], grad_fn=<AddBackward0>)"
      ]
     },
     "execution_count": 243,
     "metadata": {},
     "output_type": "execute_result"
    }
   ],
   "source": [
    "preds = linear1(batch)\n",
    "preds"
   ]
  },
  {
   "cell_type": "code",
   "execution_count": 244,
   "id": "7575d4ea-429e-4c76-bcb6-cfa708243c51",
   "metadata": {},
   "outputs": [
    {
     "data": {
      "text/plain": [
       "tensor(0.2535, grad_fn=<MeanBackward0>)"
      ]
     },
     "execution_count": 244,
     "metadata": {},
     "output_type": "execute_result"
    }
   ],
   "source": [
    "loss = mnist_loss(preds, train_y[:4])\n",
    "loss"
   ]
  },
  {
   "cell_type": "code",
   "execution_count": 245,
   "id": "d7960734-fe26-49c1-abd6-27747b319ae0",
   "metadata": {},
   "outputs": [
    {
     "data": {
      "text/plain": [
       "(torch.Size([784, 1]), tensor(-0.0030), tensor([-0.0206]))"
      ]
     },
     "execution_count": 245,
     "metadata": {},
     "output_type": "execute_result"
    }
   ],
   "source": [
    "loss.backward()\n",
    "weights.grad.shape, weights.grad.mean(), bias.grad"
   ]
  },
  {
   "cell_type": "code",
   "execution_count": 246,
   "id": "4463c1fd-8ee6-4a0f-8b80-cc0c0a37952a",
   "metadata": {},
   "outputs": [],
   "source": [
    "def calc_grad(xb, yb, model):\n",
    "    preds = model(xb)\n",
    "    loss = mnist_loss(preds, yb)\n",
    "    loss.backward()"
   ]
  },
  {
   "cell_type": "code",
   "execution_count": 247,
   "id": "d802d108-d7b2-4506-a1a4-3ad1856bb104",
   "metadata": {},
   "outputs": [],
   "source": [
    "calc_grad(batch, train_y[:4], linear1)"
   ]
  },
  {
   "cell_type": "code",
   "execution_count": 248,
   "id": "48c5839c-ff56-40e1-bcce-a399c83ee809",
   "metadata": {},
   "outputs": [
    {
     "data": {
      "text/plain": [
       "(tensor(-0.0059), tensor([-0.0413]))"
      ]
     },
     "execution_count": 248,
     "metadata": {},
     "output_type": "execute_result"
    }
   ],
   "source": [
    "weights.grad.mean(), bias.grad"
   ]
  },
  {
   "cell_type": "code",
   "execution_count": 249,
   "id": "9241050c-36b4-4dce-8c43-687fad150000",
   "metadata": {},
   "outputs": [
    {
     "data": {
      "text/plain": [
       "tensor([0.])"
      ]
     },
     "execution_count": 249,
     "metadata": {},
     "output_type": "execute_result"
    }
   ],
   "source": [
    "weights.grad.zero_()\n",
    "bias.grad.zero_()"
   ]
  },
  {
   "cell_type": "markdown",
   "id": "14fb1adf-7bfb-4239-84e1-7c66ee8fea59",
   "metadata": {},
   "source": [
    "note: Inplace Operations: Methods in PyTorch whose names end in an underscore modify their objects in place. For instance, bias.zero_() sets all elements of the tensor bias to 0."
   ]
  },
  {
   "cell_type": "code",
   "execution_count": 257,
   "id": "d57e485b-f9f3-46e3-90dd-82d36cafe259",
   "metadata": {},
   "outputs": [],
   "source": [
    "def train_epoch(model, lr, params):\n",
    "    for xb, yb in dl:\n",
    "        calc_grad(xb, yb, model)\n",
    "        for p in params:\n",
    "            p.data -= p.grad*lr\n",
    "            p.grad.zero_()"
   ]
  },
  {
   "cell_type": "code",
   "execution_count": 258,
   "id": "de8b33fe-05f7-4ca4-864c-18f9d085b43c",
   "metadata": {},
   "outputs": [
    {
     "data": {
      "text/plain": [
       "tensor([[False],\n",
       "        [ True],\n",
       "        [ True],\n",
       "        [ True]])"
      ]
     },
     "execution_count": 258,
     "metadata": {},
     "output_type": "execute_result"
    }
   ],
   "source": [
    "(preds > 0.0).float() == train_y[:4]"
   ]
  },
  {
   "cell_type": "code",
   "execution_count": 259,
   "id": "7112ee9d-69f4-45bc-8cb8-fbf392e14cb6",
   "metadata": {},
   "outputs": [],
   "source": [
    "def batch_accuracy(xb, yb):\n",
    "    preds = xb.sigmoid()\n",
    "    correct = (preds > 0.5) == yb\n",
    "    return correct.float().mean()"
   ]
  },
  {
   "cell_type": "code",
   "execution_count": 260,
   "id": "9b24ad05-6b6e-4bb8-9067-4e20c66e553e",
   "metadata": {},
   "outputs": [
    {
     "data": {
      "text/plain": [
       "tensor(0.7500)"
      ]
     },
     "execution_count": 260,
     "metadata": {},
     "output_type": "execute_result"
    }
   ],
   "source": [
    "batch_accuracy(linear1(batch), train_y[:4])"
   ]
  },
  {
   "cell_type": "code",
   "execution_count": 261,
   "id": "67b07e26-ff74-4e6b-9b16-36666959ec59",
   "metadata": {},
   "outputs": [],
   "source": [
    "def validate_epoch(model):\n",
    "    accs = [batch_accuracy(model(xb), yb) for xb, yb in valid_dl]\n",
    "    return round(torch.stack(accs).mean().item(), 4)"
   ]
  },
  {
   "cell_type": "code",
   "execution_count": 262,
   "id": "9fdf2110-7c9f-4711-8931-abc33417aa4e",
   "metadata": {},
   "outputs": [
    {
     "data": {
      "text/plain": [
       "0.6485"
      ]
     },
     "execution_count": 262,
     "metadata": {},
     "output_type": "execute_result"
    }
   ],
   "source": [
    "validate_epoch(linear1)"
   ]
  },
  {
   "cell_type": "code",
   "execution_count": 263,
   "id": "5215eb77-4ae1-40f9-8b69-33ced4cb34b1",
   "metadata": {},
   "outputs": [
    {
     "data": {
      "text/plain": [
       "0.7415"
      ]
     },
     "execution_count": 263,
     "metadata": {},
     "output_type": "execute_result"
    }
   ],
   "source": [
    "lr = 1.\n",
    "params = weights, bias\n",
    "train_epoch(linear1, lr, params)\n",
    "validate_epoch(linear1)"
   ]
  },
  {
   "cell_type": "code",
   "execution_count": 264,
   "id": "1c23cee8-ff52-404e-a172-7c07e87e567d",
   "metadata": {},
   "outputs": [
    {
     "name": "stdout",
     "output_type": "stream",
     "text": [
      "0.8856 0.9261 0.9427 0.9491 0.9544 0.9593 0.9613 0.9627 0.9647 0.9657 0.9677 0.9681 0.9681 0.9686 0.9701 0.9701 0.9706 0.9725 0.9725 0.973 "
     ]
    }
   ],
   "source": [
    "for i in range(20):\n",
    "    train_epoch(linear1, lr, params)\n",
    "    print(validate_epoch(linear1), end=' ')"
   ]
  },
  {
   "cell_type": "markdown",
   "id": "451800bd-0547-4ab4-9b80-737ef08773a3",
   "metadata": {},
   "source": [
    "### Creating an Optimizer"
   ]
  },
  {
   "cell_type": "code",
   "execution_count": 266,
   "id": "26bebaf4-51d5-499a-9f48-e03d5db218b2",
   "metadata": {},
   "outputs": [],
   "source": [
    "linear_model = nn.Linear(28*28, 1)"
   ]
  },
  {
   "cell_type": "code",
   "execution_count": 267,
   "id": "d4783203-654f-441c-ae17-dc98f6875c19",
   "metadata": {},
   "outputs": [
    {
     "data": {
      "text/plain": [
       "(torch.Size([1, 784]), torch.Size([1]))"
      ]
     },
     "execution_count": 267,
     "metadata": {},
     "output_type": "execute_result"
    }
   ],
   "source": [
    "w, b = linear_model.parameters()\n",
    "w.shape, b.shape"
   ]
  },
  {
   "cell_type": "code",
   "execution_count": 268,
   "id": "a08be2b1-0a24-48a5-a7a6-8f9d1d6d2a66",
   "metadata": {},
   "outputs": [],
   "source": [
    "class BasicOptim:\n",
    "    def __init__(self, params, lr):\n",
    "        self.params, self.lr = list(params), lr\n",
    "    def step(self, *args, **kwargs):\n",
    "        for p in self.params:\n",
    "            p.data -= p.grad.data * self.lr\n",
    "    def zero_grad(self, *args, **kwargs):\n",
    "        for p in self.params:\n",
    "            p.grad = None"
   ]
  },
  {
   "cell_type": "code",
   "execution_count": 269,
   "id": "4edabe0b-bfa4-4527-a814-78792796e8e2",
   "metadata": {},
   "outputs": [],
   "source": [
    "opt = BasicOptim(linear_model.parameters(), lr)"
   ]
  },
  {
   "cell_type": "code",
   "execution_count": 274,
   "id": "b7302e56-7692-4990-8a01-94f531df66b4",
   "metadata": {},
   "outputs": [],
   "source": [
    "def train_epoch(model):\n",
    "    for xb, yb in dl:\n",
    "        calc_grad(xb, yb, model)\n",
    "        opt.step()\n",
    "        opt.zero_grad()"
   ]
  },
  {
   "cell_type": "code",
   "execution_count": 275,
   "id": "d777cdef-cad9-4ce7-a101-cb650c802953",
   "metadata": {},
   "outputs": [
    {
     "data": {
      "text/plain": [
       "0.576"
      ]
     },
     "execution_count": 275,
     "metadata": {},
     "output_type": "execute_result"
    }
   ],
   "source": [
    "validate_epoch(linear_model)"
   ]
  },
  {
   "cell_type": "code",
   "execution_count": 276,
   "id": "4351f631-295d-40df-a31f-2073d7bded3e",
   "metadata": {},
   "outputs": [],
   "source": [
    "def train_model(model, epochs):\n",
    "    for i in range(epochs):\n",
    "        train_epoch(model)\n",
    "        print(validate_epoch(model), end=' ')"
   ]
  },
  {
   "cell_type": "code",
   "execution_count": 277,
   "id": "304b0cc0-5708-4c99-9b8e-ebd46334cd4f",
   "metadata": {},
   "outputs": [
    {
     "name": "stdout",
     "output_type": "stream",
     "text": [
      "0.4932 0.8101 0.8491 0.9141 0.9346 0.9478 0.9561 0.9624 0.9658 0.9673 0.9702 0.9717 0.9731 0.9746 0.9761 0.9766 0.9775 0.978 0.978 0.978 "
     ]
    }
   ],
   "source": [
    "train_model(linear_model, 20)"
   ]
  },
  {
   "cell_type": "code",
   "execution_count": 278,
   "id": "eec5e6af-77f7-4fb4-8385-c6227f8a71dd",
   "metadata": {},
   "outputs": [
    {
     "name": "stdout",
     "output_type": "stream",
     "text": [
      "0.4932 0.7993 0.8521 0.916 0.937 0.9482 0.957 0.9639 0.9663 0.9683 0.9692 0.9717 0.9736 0.9751 0.9756 0.9766 0.9775 0.978 0.978 0.9785 "
     ]
    }
   ],
   "source": [
    "linear_model = nn.Linear(28 * 28, 1)\n",
    "opt = SGD(linear_model.parameters(), lr)\n",
    "train_model(linear_model, 20)"
   ]
  },
  {
   "cell_type": "code",
   "execution_count": 279,
   "id": "622c3aa0-edde-4524-9983-faf0cde1229d",
   "metadata": {},
   "outputs": [],
   "source": [
    "dls = DataLoaders(dl, valid_dl)"
   ]
  },
  {
   "cell_type": "code",
   "execution_count": 281,
   "id": "1182f0da-d56d-442a-994c-9a8822f27c99",
   "metadata": {},
   "outputs": [],
   "source": [
    "learn = Learner(dls, \n",
    "                nn.Linear(28*28,1), \n",
    "                opt_func=SGD, \n",
    "                loss_func = mnist_loss, \n",
    "                metrics = batch_accuracy)"
   ]
  },
  {
   "cell_type": "code",
   "execution_count": 282,
   "id": "ea91e55c-ad5c-4e2a-be2d-ac63416e2551",
   "metadata": {},
   "outputs": [
    {
     "data": {
      "text/html": [
       "<table border=\"1\" class=\"dataframe\">\n",
       "  <thead>\n",
       "    <tr style=\"text-align: left;\">\n",
       "      <th>epoch</th>\n",
       "      <th>train_loss</th>\n",
       "      <th>valid_loss</th>\n",
       "      <th>batch_accuracy</th>\n",
       "      <th>time</th>\n",
       "    </tr>\n",
       "  </thead>\n",
       "  <tbody>\n",
       "    <tr>\n",
       "      <td>0</td>\n",
       "      <td>0.636820</td>\n",
       "      <td>0.503632</td>\n",
       "      <td>0.495584</td>\n",
       "      <td>00:00</td>\n",
       "    </tr>\n",
       "    <tr>\n",
       "      <td>1</td>\n",
       "      <td>0.600313</td>\n",
       "      <td>0.114744</td>\n",
       "      <td>0.926889</td>\n",
       "      <td>00:00</td>\n",
       "    </tr>\n",
       "    <tr>\n",
       "      <td>2</td>\n",
       "      <td>0.216882</td>\n",
       "      <td>0.220744</td>\n",
       "      <td>0.796860</td>\n",
       "      <td>00:00</td>\n",
       "    </tr>\n",
       "    <tr>\n",
       "      <td>3</td>\n",
       "      <td>0.093456</td>\n",
       "      <td>0.117217</td>\n",
       "      <td>0.901374</td>\n",
       "      <td>00:00</td>\n",
       "    </tr>\n",
       "    <tr>\n",
       "      <td>4</td>\n",
       "      <td>0.047968</td>\n",
       "      <td>0.082808</td>\n",
       "      <td>0.929833</td>\n",
       "      <td>00:00</td>\n",
       "    </tr>\n",
       "    <tr>\n",
       "      <td>5</td>\n",
       "      <td>0.030289</td>\n",
       "      <td>0.065361</td>\n",
       "      <td>0.943572</td>\n",
       "      <td>00:00</td>\n",
       "    </tr>\n",
       "    <tr>\n",
       "      <td>6</td>\n",
       "      <td>0.023075</td>\n",
       "      <td>0.054677</td>\n",
       "      <td>0.954367</td>\n",
       "      <td>00:00</td>\n",
       "    </tr>\n",
       "    <tr>\n",
       "      <td>7</td>\n",
       "      <td>0.019924</td>\n",
       "      <td>0.047632</td>\n",
       "      <td>0.960746</td>\n",
       "      <td>00:00</td>\n",
       "    </tr>\n",
       "    <tr>\n",
       "      <td>8</td>\n",
       "      <td>0.018374</td>\n",
       "      <td>0.042736</td>\n",
       "      <td>0.964671</td>\n",
       "      <td>00:00</td>\n",
       "    </tr>\n",
       "    <tr>\n",
       "      <td>9</td>\n",
       "      <td>0.017474</td>\n",
       "      <td>0.039167</td>\n",
       "      <td>0.966634</td>\n",
       "      <td>00:00</td>\n",
       "    </tr>\n",
       "  </tbody>\n",
       "</table>"
      ],
      "text/plain": [
       "<IPython.core.display.HTML object>"
      ]
     },
     "metadata": {},
     "output_type": "display_data"
    }
   ],
   "source": [
    "learn.fit(10, lr=lr)"
   ]
  },
  {
   "cell_type": "markdown",
   "id": "80594101-cedd-493f-8119-ae9fb77d2208",
   "metadata": {},
   "source": [
    "### Adding a Nonlinearity"
   ]
  },
  {
   "cell_type": "code",
   "execution_count": 283,
   "id": "28a449ac-2b2a-4c88-a95a-9d3df80c479d",
   "metadata": {},
   "outputs": [],
   "source": [
    "def simple_net(xb):\n",
    "    res = xb@w1 + b1\n",
    "    res = res.max(tensor(0.0))\n",
    "    res = res@w2 + b2\n",
    "    return res"
   ]
  },
  {
   "cell_type": "code",
   "execution_count": 284,
   "id": "06eb2506-70dc-4a90-9e0f-dcbcb5497b4e",
   "metadata": {},
   "outputs": [],
   "source": [
    "w1 = init_params((28*28, 30))\n",
    "b1 = init_params(30)\n",
    "w2 = init_params((30, 1))\n",
    "b2 = init_params(1)"
   ]
  },
  {
   "cell_type": "code",
   "execution_count": 285,
   "id": "0188eb4f-aad4-41a8-828f-0a180b5cda29",
   "metadata": {},
   "outputs": [
    {
     "data": {
      "image/png": "[encoded data removed]",
      "text/plain": [
       "<Figure size 432x288 with 1 Axes>"
      ]
     },
     "metadata": {
      "needs_background": "light"
     },
     "output_type": "display_data"
    }
   ],
   "source": [
    "plot_function(F.relu)\n"
   ]
  },
  {
   "cell_type": "markdown",
   "id": "5de78f1b-b28c-490f-992d-4d7572d7da2b",
   "metadata": {},
   "source": [
    "The basic idea is that by using more linear layers, we can have our model do more computation, and therefore model more complex functions. But there's no point just putting one linear layer directly after another one, because when we multiply things together and then add them up multiple times, that could be replaced by multiplying different things together and adding them up just once! That is to say, a series of any number of linear layers in a row can be replaced with a single linear layer with a different set of parameters.\n",
    "\n",
    "But if we put a nonlinear function between them, such as max, then this is no longer true. Now each linear layer is actually somewhat decoupled from the other ones, and can do its own useful work. The max function is particularly interesting, because it operates as a simple if statement."
   ]
  },
  {
   "cell_type": "markdown",
   "id": "44f97bc8-958e-46b3-b42c-a271e99191bc",
   "metadata": {},
   "source": [
    "Mathematically, we say the composition of two linear functions is another linear function. So, we can stack as many linear classifiers as we want on top of each other, and without nonlinear functions between them, it will just be the same as one linear classifier.\n",
    "\n"
   ]
  },
  {
   "cell_type": "code",
   "execution_count": 286,
   "id": "ec47bf64-e352-4baa-9ba9-e4627eb72076",
   "metadata": {},
   "outputs": [],
   "source": [
    "simple_net = nn.Sequential(\n",
    "    nn.Linear(28 * 28, 30),\n",
    "    nn.ReLU(),\n",
    "    nn.Linear(30, 1)\n",
    ")"
   ]
  },
  {
   "cell_type": "code",
   "execution_count": 287,
   "id": "59914856-a034-45b6-bd5d-d8ff917fba5e",
   "metadata": {},
   "outputs": [],
   "source": [
    "learn = Learner(dls, \n",
    "                simple_net, \n",
    "                opt_func=SGD,\n",
    "                loss_func = mnist_loss,\n",
    "                metrics = batch_accuracy)"
   ]
  },
  {
   "cell_type": "code",
   "execution_count": 288,
   "id": "54c9058a-444c-41bc-9805-a639536ac310",
   "metadata": {
    "collapsed": true,
    "jupyter": {
     "outputs_hidden": true
    },
    "tags": []
   },
   "outputs": [
    {
     "data": {
      "text/html": [
       "<table border=\"1\" class=\"dataframe\">\n",
       "  <thead>\n",
       "    <tr style=\"text-align: left;\">\n",
       "      <th>epoch</th>\n",
       "      <th>train_loss</th>\n",
       "      <th>valid_loss</th>\n",
       "      <th>batch_accuracy</th>\n",
       "      <th>time</th>\n",
       "    </tr>\n",
       "  </thead>\n",
       "  <tbody>\n",
       "    <tr>\n",
       "      <td>0</td>\n",
       "      <td>0.288172</td>\n",
       "      <td>0.418868</td>\n",
       "      <td>0.504416</td>\n",
       "      <td>00:00</td>\n",
       "    </tr>\n",
       "    <tr>\n",
       "      <td>1</td>\n",
       "      <td>0.137587</td>\n",
       "      <td>0.224473</td>\n",
       "      <td>0.810599</td>\n",
       "      <td>00:00</td>\n",
       "    </tr>\n",
       "    <tr>\n",
       "      <td>2</td>\n",
       "      <td>0.077517</td>\n",
       "      <td>0.113675</td>\n",
       "      <td>0.917566</td>\n",
       "      <td>00:00</td>\n",
       "    </tr>\n",
       "    <tr>\n",
       "      <td>3</td>\n",
       "      <td>0.051870</td>\n",
       "      <td>0.076914</td>\n",
       "      <td>0.941609</td>\n",
       "      <td>00:00</td>\n",
       "    </tr>\n",
       "    <tr>\n",
       "      <td>4</td>\n",
       "      <td>0.039848</td>\n",
       "      <td>0.060030</td>\n",
       "      <td>0.958783</td>\n",
       "      <td>00:00</td>\n",
       "    </tr>\n",
       "    <tr>\n",
       "      <td>5</td>\n",
       "      <td>0.033608</td>\n",
       "      <td>0.050554</td>\n",
       "      <td>0.964181</td>\n",
       "      <td>00:00</td>\n",
       "    </tr>\n",
       "    <tr>\n",
       "      <td>6</td>\n",
       "      <td>0.029960</td>\n",
       "      <td>0.044599</td>\n",
       "      <td>0.966634</td>\n",
       "      <td>00:00</td>\n",
       "    </tr>\n",
       "    <tr>\n",
       "      <td>7</td>\n",
       "      <td>0.027550</td>\n",
       "      <td>0.040536</td>\n",
       "      <td>0.966634</td>\n",
       "      <td>00:00</td>\n",
       "    </tr>\n",
       "    <tr>\n",
       "      <td>8</td>\n",
       "      <td>0.025794</td>\n",
       "      <td>0.037581</td>\n",
       "      <td>0.968597</td>\n",
       "      <td>00:00</td>\n",
       "    </tr>\n",
       "    <tr>\n",
       "      <td>9</td>\n",
       "      <td>0.024427</td>\n",
       "      <td>0.035325</td>\n",
       "      <td>0.971050</td>\n",
       "      <td>00:00</td>\n",
       "    </tr>\n",
       "    <tr>\n",
       "      <td>10</td>\n",
       "      <td>0.023314</td>\n",
       "      <td>0.033537</td>\n",
       "      <td>0.973013</td>\n",
       "      <td>00:00</td>\n",
       "    </tr>\n",
       "    <tr>\n",
       "      <td>11</td>\n",
       "      <td>0.022384</td>\n",
       "      <td>0.032074</td>\n",
       "      <td>0.974975</td>\n",
       "      <td>00:00</td>\n",
       "    </tr>\n",
       "    <tr>\n",
       "      <td>12</td>\n",
       "      <td>0.021593</td>\n",
       "      <td>0.030849</td>\n",
       "      <td>0.975957</td>\n",
       "      <td>00:00</td>\n",
       "    </tr>\n",
       "    <tr>\n",
       "      <td>13</td>\n",
       "      <td>0.020908</td>\n",
       "      <td>0.029801</td>\n",
       "      <td>0.975466</td>\n",
       "      <td>00:00</td>\n",
       "    </tr>\n",
       "    <tr>\n",
       "      <td>14</td>\n",
       "      <td>0.020309</td>\n",
       "      <td>0.028889</td>\n",
       "      <td>0.975957</td>\n",
       "      <td>00:00</td>\n",
       "    </tr>\n",
       "    <tr>\n",
       "      <td>15</td>\n",
       "      <td>0.019778</td>\n",
       "      <td>0.028086</td>\n",
       "      <td>0.977429</td>\n",
       "      <td>00:00</td>\n",
       "    </tr>\n",
       "    <tr>\n",
       "      <td>16</td>\n",
       "      <td>0.019304</td>\n",
       "      <td>0.027372</td>\n",
       "      <td>0.977429</td>\n",
       "      <td>00:00</td>\n",
       "    </tr>\n",
       "    <tr>\n",
       "      <td>17</td>\n",
       "      <td>0.018876</td>\n",
       "      <td>0.026731</td>\n",
       "      <td>0.977920</td>\n",
       "      <td>00:00</td>\n",
       "    </tr>\n",
       "    <tr>\n",
       "      <td>18</td>\n",
       "      <td>0.018488</td>\n",
       "      <td>0.026153</td>\n",
       "      <td>0.977920</td>\n",
       "      <td>00:00</td>\n",
       "    </tr>\n",
       "    <tr>\n",
       "      <td>19</td>\n",
       "      <td>0.018134</td>\n",
       "      <td>0.025628</td>\n",
       "      <td>0.978410</td>\n",
       "      <td>00:00</td>\n",
       "    </tr>\n",
       "    <tr>\n",
       "      <td>20</td>\n",
       "      <td>0.017808</td>\n",
       "      <td>0.025148</td>\n",
       "      <td>0.978901</td>\n",
       "      <td>00:00</td>\n",
       "    </tr>\n",
       "    <tr>\n",
       "      <td>21</td>\n",
       "      <td>0.017507</td>\n",
       "      <td>0.024709</td>\n",
       "      <td>0.978901</td>\n",
       "      <td>00:00</td>\n",
       "    </tr>\n",
       "    <tr>\n",
       "      <td>22</td>\n",
       "      <td>0.017227</td>\n",
       "      <td>0.024305</td>\n",
       "      <td>0.979882</td>\n",
       "      <td>00:00</td>\n",
       "    </tr>\n",
       "    <tr>\n",
       "      <td>23</td>\n",
       "      <td>0.016965</td>\n",
       "      <td>0.023933</td>\n",
       "      <td>0.980864</td>\n",
       "      <td>00:00</td>\n",
       "    </tr>\n",
       "    <tr>\n",
       "      <td>24</td>\n",
       "      <td>0.016720</td>\n",
       "      <td>0.023589</td>\n",
       "      <td>0.981354</td>\n",
       "      <td>00:00</td>\n",
       "    </tr>\n",
       "    <tr>\n",
       "      <td>25</td>\n",
       "      <td>0.016490</td>\n",
       "      <td>0.023269</td>\n",
       "      <td>0.981354</td>\n",
       "      <td>00:00</td>\n",
       "    </tr>\n",
       "    <tr>\n",
       "      <td>26</td>\n",
       "      <td>0.016273</td>\n",
       "      <td>0.022973</td>\n",
       "      <td>0.981354</td>\n",
       "      <td>00:00</td>\n",
       "    </tr>\n",
       "    <tr>\n",
       "      <td>27</td>\n",
       "      <td>0.016068</td>\n",
       "      <td>0.022697</td>\n",
       "      <td>0.981845</td>\n",
       "      <td>00:00</td>\n",
       "    </tr>\n",
       "    <tr>\n",
       "      <td>28</td>\n",
       "      <td>0.015873</td>\n",
       "      <td>0.022440</td>\n",
       "      <td>0.982336</td>\n",
       "      <td>00:00</td>\n",
       "    </tr>\n",
       "    <tr>\n",
       "      <td>29</td>\n",
       "      <td>0.015687</td>\n",
       "      <td>0.022200</td>\n",
       "      <td>0.982336</td>\n",
       "      <td>00:00</td>\n",
       "    </tr>\n",
       "    <tr>\n",
       "      <td>30</td>\n",
       "      <td>0.015511</td>\n",
       "      <td>0.021976</td>\n",
       "      <td>0.982336</td>\n",
       "      <td>00:00</td>\n",
       "    </tr>\n",
       "    <tr>\n",
       "      <td>31</td>\n",
       "      <td>0.015342</td>\n",
       "      <td>0.021766</td>\n",
       "      <td>0.982826</td>\n",
       "      <td>00:00</td>\n",
       "    </tr>\n",
       "    <tr>\n",
       "      <td>32</td>\n",
       "      <td>0.015181</td>\n",
       "      <td>0.021570</td>\n",
       "      <td>0.983808</td>\n",
       "      <td>00:00</td>\n",
       "    </tr>\n",
       "    <tr>\n",
       "      <td>33</td>\n",
       "      <td>0.015027</td>\n",
       "      <td>0.021385</td>\n",
       "      <td>0.983808</td>\n",
       "      <td>00:00</td>\n",
       "    </tr>\n",
       "    <tr>\n",
       "      <td>34</td>\n",
       "      <td>0.014880</td>\n",
       "      <td>0.021212</td>\n",
       "      <td>0.983808</td>\n",
       "      <td>00:00</td>\n",
       "    </tr>\n",
       "    <tr>\n",
       "      <td>35</td>\n",
       "      <td>0.014738</td>\n",
       "      <td>0.021049</td>\n",
       "      <td>0.983317</td>\n",
       "      <td>00:00</td>\n",
       "    </tr>\n",
       "    <tr>\n",
       "      <td>36</td>\n",
       "      <td>0.014602</td>\n",
       "      <td>0.020895</td>\n",
       "      <td>0.982826</td>\n",
       "      <td>00:00</td>\n",
       "    </tr>\n",
       "    <tr>\n",
       "      <td>37</td>\n",
       "      <td>0.014471</td>\n",
       "      <td>0.020749</td>\n",
       "      <td>0.982826</td>\n",
       "      <td>00:00</td>\n",
       "    </tr>\n",
       "    <tr>\n",
       "      <td>38</td>\n",
       "      <td>0.014345</td>\n",
       "      <td>0.020612</td>\n",
       "      <td>0.982826</td>\n",
       "      <td>00:00</td>\n",
       "    </tr>\n",
       "    <tr>\n",
       "      <td>39</td>\n",
       "      <td>0.014223</td>\n",
       "      <td>0.020481</td>\n",
       "      <td>0.982826</td>\n",
       "      <td>00:00</td>\n",
       "    </tr>\n",
       "  </tbody>\n",
       "</table>"
      ],
      "text/plain": [
       "<IPython.core.display.HTML object>"
      ]
     },
     "metadata": {},
     "output_type": "display_data"
    }
   ],
   "source": [
    "learn.fit(40, 0.1)"
   ]
  },
  {
   "cell_type": "code",
   "execution_count": 289,
   "id": "d06d6ace-499d-4db9-840e-d4c0847d5e6d",
   "metadata": {},
   "outputs": [
    {
     "data": {
      "text/plain": [
       "[<matplotlib.lines.Line2D at 0x7f37bc8e2710>]"
      ]
     },
     "execution_count": 289,
     "metadata": {},
     "output_type": "execute_result"
    },
    {
     "data": {
      "image/png": "[encoded data removed]",
      "text/plain": [
       "<Figure size 432x288 with 1 Axes>"
      ]
     },
     "metadata": {
      "needs_background": "light"
     },
     "output_type": "display_data"
    }
   ],
   "source": [
    "plt.plot(L(learn.recorder.values).itemgot(2))"
   ]
  },
  {
   "cell_type": "code",
   "execution_count": 290,
   "id": "76425df1-bf64-4a47-af31-04de701e1f5f",
   "metadata": {},
   "outputs": [
    {
     "data": {
      "text/plain": [
       "0.982826292514801"
      ]
     },
     "execution_count": 290,
     "metadata": {},
     "output_type": "execute_result"
    }
   ],
   "source": [
    "learn.recorder.values[-1][2]"
   ]
  },
  {
   "cell_type": "code",
   "execution_count": 292,
   "id": "df4abeff-55ae-4e26-b325-4c7f2cf78083",
   "metadata": {},
   "outputs": [],
   "source": [
    "dls = ImageDataLoaders.from_folder(path)\n",
    "learn = vision_learner(dls, \n",
    "                       resnet18, \n",
    "                       pretrained=False,\n",
    "                       loss_func = F.cross_entropy, \n",
    "                       metrics = accuracy)"
   ]
  },
  {
   "cell_type": "code",
   "execution_count": 293,
   "id": "05cbd919-a55b-4141-beca-4cf9a7a59be4",
   "metadata": {},
   "outputs": [
    {
     "data": {
      "text/html": [
       "<table border=\"1\" class=\"dataframe\">\n",
       "  <thead>\n",
       "    <tr style=\"text-align: left;\">\n",
       "      <th>epoch</th>\n",
       "      <th>train_loss</th>\n",
       "      <th>valid_loss</th>\n",
       "      <th>accuracy</th>\n",
       "      <th>time</th>\n",
       "    </tr>\n",
       "  </thead>\n",
       "  <tbody>\n",
       "    <tr>\n",
       "      <td>0</td>\n",
       "      <td>0.148121</td>\n",
       "      <td>0.017039</td>\n",
       "      <td>0.996075</td>\n",
       "      <td>00:22</td>\n",
       "    </tr>\n",
       "  </tbody>\n",
       "</table>"
      ],
      "text/plain": [
       "<IPython.core.display.HTML object>"
      ]
     },
     "metadata": {},
     "output_type": "display_data"
    }
   ],
   "source": [
    "learn.fit_one_cycle(1, 0.1)"
   ]
  },
  {
   "cell_type": "code",
   "execution_count": null,
   "id": "34c5f8ae-aa88-4a7d-9ebb-3519d9390310",
   "metadata": {},
   "outputs": [],
   "source": []
  }
 ],
 "metadata": {
  "kernelspec": {
   "display_name": "Python 3 (ipykernel)",
   "language": "python",
   "name": "python3"
  },
  "language_info": {
   "codemirror_mode": {
    "name": "ipython",
    "version": 3
   },
   "file_extension": ".py",
   "mimetype": "text/x-python",
   "name": "python",
   "nbconvert_exporter": "python",
   "pygments_lexer": "ipython3",
   "version": "3.7.11"
  }
 },
 "nbformat": 4,
 "nbformat_minor": 5
}
